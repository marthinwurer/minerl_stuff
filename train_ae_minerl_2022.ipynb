{
 "cells": [
  {
   "cell_type": "code",
   "execution_count": 1,
   "id": "5ca46b30",
   "metadata": {},
   "outputs": [],
   "source": [
    "%matplotlib inline\n",
    "%load_ext autoreload\n",
    "%autoreload 2"
   ]
  },
  {
   "cell_type": "code",
   "execution_count": 2,
   "id": "3e20fe26",
   "metadata": {},
   "outputs": [
    {
     "name": "stderr",
     "output_type": "stream",
     "text": [
      "/home/marthinwurer/.pyenv/versions/3.9.6/envs/minerl/lib/python3.9/site-packages/gym/logger.py:34: UserWarning: \u001b[33mWARN: Box bound precision lowered by casting to float32\u001b[0m\n",
      "  warnings.warn(colorize(\"%s: %s\" % (\"WARN\", msg % args), \"yellow\"))\n"
     ]
    }
   ],
   "source": [
    "import matplotlib.pyplot as plt\n",
    "import numpy as np\n",
    "import torch\n",
    "import minerl\n",
    "from tqdm import tqdm\n",
    "\n",
    "from torch import nn, optim\n",
    "import torch.nn.functional as F\n",
    "from torch.optim.lr_scheduler import ReduceLROnPlateau\n",
    "from utilities import flatten, unflatten, to_batch_shape, to_torch_channels\n",
    "from collections import defaultdict\n",
    "import coordconv"
   ]
  },
  {
   "cell_type": "code",
   "execution_count": 3,
   "id": "36997386",
   "metadata": {},
   "outputs": [],
   "source": [
    "import matplotlib\n",
    "matplotlib.rcParams['figure.figsize'] = [10, 8]"
   ]
  },
  {
   "cell_type": "code",
   "execution_count": 4,
   "id": "d5b80d78",
   "metadata": {},
   "outputs": [],
   "source": [
    "# BATCH_SIZE = 512\n",
    "BATCH_SIZE = 256\n",
    "# BATCH_SIZE = 128\n",
    "# BATCH_SIZE = 64\n",
    "# BATCH_SIZE = 32\n",
    "# BATCH_SIZE = 8\n",
    "LEARNING_RATE = 0.0001\n",
    "in_dim = 64"
   ]
  },
  {
   "cell_type": "code",
   "execution_count": 5,
   "id": "caa09274",
   "metadata": {},
   "outputs": [],
   "source": [
    "from dataset_preprocessing import MineRlSequenceDataset, MineRlImageDataset"
   ]
  },
  {
   "cell_type": "code",
   "execution_count": 6,
   "id": "3c86c741",
   "metadata": {},
   "outputs": [
    {
     "data": {
      "text/plain": [
       "1916597"
      ]
     },
     "execution_count": 6,
     "metadata": {},
     "output_type": "execute_result"
    }
   ],
   "source": [
    "dataset = MineRlImageDataset(\"data/npy_obtain_diamond_all\")\n",
    "len(dataset)"
   ]
  },
  {
   "cell_type": "code",
   "execution_count": 7,
   "id": "cd26c782",
   "metadata": {
    "scrolled": true
   },
   "outputs": [
    {
     "data": {
      "text/plain": [
       "<matplotlib.image.AxesImage at 0x7ff3a17fa3d0>"
      ]
     },
     "execution_count": 7,
     "metadata": {},
     "output_type": "execute_result"
    },
    {
     "data": {
      "image/png": "[encoded data removed]",
      "text/plain": [
       "<Figure size 720x576 with 1 Axes>"
      ]
     },
     "metadata": {
      "needs_background": "light"
     },
     "output_type": "display_data"
    }
   ],
   "source": [
    "plt.imshow(dataset[10000])"
   ]
  },
  {
   "cell_type": "code",
   "execution_count": 8,
   "id": "bc8900fb",
   "metadata": {},
   "outputs": [],
   "source": [
    "from torch.utils.data import DataLoader"
   ]
  },
  {
   "cell_type": "code",
   "execution_count": 9,
   "id": "d1aa24c1",
   "metadata": {},
   "outputs": [],
   "source": [
    "train_dataloader = DataLoader(dataset, batch_size=BATCH_SIZE, shuffle=True)"
   ]
  },
  {
   "cell_type": "code",
   "execution_count": 10,
   "id": "e3a0d8dc",
   "metadata": {},
   "outputs": [],
   "source": [
    "def calc_params(model):\n",
    "    model_parameters = filter(lambda p: p.requires_grad, model.parameters())\n",
    "    params = sum([np.prod(p.size()) for p in model_parameters])\n",
    "    return params"
   ]
  },
  {
   "cell_type": "code",
   "execution_count": 11,
   "id": "a3ad873b",
   "metadata": {},
   "outputs": [],
   "source": [
    "def train_batch(inputs, model, optimizer, loss_func, scaler):\n",
    "    # get the inputs\n",
    "    inputs = inputs.cuda()\n",
    "\n",
    "    if torch.isnan(inputs).any():\n",
    "        print(\"There's a NaN input!\")\n",
    "        return None\n",
    "\n",
    "    # zero the parameter gradients\n",
    "    optimizer.zero_grad()\n",
    "    \n",
    "    with torch.cuda.amp.autocast():\n",
    "\n",
    "        # forward + backward + optimize\n",
    "        outputs, latents = model(inputs)\n",
    "\n",
    "        if torch.isnan(outputs).any():\n",
    "            print(\"There's a NaN output!\")\n",
    "            return None\n",
    "        loss = loss_func(inputs, outputs, latents)\n",
    "    \n",
    "    scaler.scale(loss).backward()\n",
    "    \n",
    "#     plot_grad_flow(model.named_parameters())\n",
    "    scaler.unscale_(optimizer)\n",
    "    nn.utils.clip_grad_norm_(model.parameters(), max_norm=1.0)\n",
    "    scaler.step(optimizer)\n",
    "    scaler.update()\n",
    "    return loss"
   ]
  },
  {
   "cell_type": "code",
   "execution_count": 12,
   "id": "ecad4baf",
   "metadata": {},
   "outputs": [],
   "source": [
    "class AELatent(nn.Module):\n",
    "    def __init__(self, latent_size, input_size):\n",
    "        super().__init__()\n",
    "        self.mu = nn.Linear(input_size, latent_size)\n",
    "        self.bn = nn.LazyBatchNorm1d()\n",
    "    \n",
    "    def forward(self, input):\n",
    "        x = input\n",
    "        x = torch.flatten(x, 1)\n",
    "        mu = self.mu(x)\n",
    "        z = self.bn(mu)\n",
    "        return z"
   ]
  },
  {
   "cell_type": "code",
   "execution_count": 13,
   "id": "57e20dbc",
   "metadata": {},
   "outputs": [
    {
     "data": {
      "text/plain": [
       "(tensor([[ 0.,  1.,  2.,  3.],\n",
       "         [ 4.,  5.,  6.,  7.],\n",
       "         [ 8.,  9., 10., 11.],\n",
       "         [12., 13., 14., 15.]]),\n",
       " torch.Size([4, 4]))"
      ]
     },
     "execution_count": 13,
     "metadata": {},
     "output_type": "execute_result"
    }
   ],
   "source": [
    "x = torch.arange(16, dtype=torch.float).reshape((4, -1))\n",
    "x, x.shape"
   ]
  },
  {
   "cell_type": "code",
   "execution_count": 14,
   "id": "3cc4b445",
   "metadata": {},
   "outputs": [
    {
     "data": {
      "text/plain": [
       "(tensor([[ 0.,  1.],\n",
       "         [ 2.,  3.],\n",
       "         [ 4.,  5.],\n",
       "         [ 6.,  7.],\n",
       "         [ 8.,  9.],\n",
       "         [10., 11.],\n",
       "         [12., 13.],\n",
       "         [14., 15.]]),\n",
       " torch.Size([8, 2]))"
      ]
     },
     "execution_count": 14,
     "metadata": {},
     "output_type": "execute_result"
    }
   ],
   "source": [
    "x = x.reshape(-1, 2)\n",
    "x, x.shape"
   ]
  },
  {
   "cell_type": "code",
   "execution_count": 15,
   "id": "8371f029",
   "metadata": {},
   "outputs": [
    {
     "data": {
      "text/plain": [
       "tensor([[ 0.,  1.,  2.,  3.],\n",
       "        [ 4.,  5.,  6.,  7.],\n",
       "        [ 8.,  9., 10., 11.],\n",
       "        [12., 13., 14., 15.]])"
      ]
     },
     "execution_count": 15,
     "metadata": {},
     "output_type": "execute_result"
    }
   ],
   "source": [
    "x = x.reshape(-1, 4)\n",
    "x"
   ]
  },
  {
   "cell_type": "code",
   "execution_count": 16,
   "id": "f045e600",
   "metadata": {},
   "outputs": [
    {
     "name": "stderr",
     "output_type": "stream",
     "text": [
      "/tmp/ipykernel_680535/4216236698.py:1: UserWarning: Implicit dimension choice for softmax has been deprecated. Change the call to include dim=X as an argument.\n",
      "  F.softmax(x)\n"
     ]
    },
    {
     "data": {
      "text/plain": [
       "tensor([[0.0321, 0.0871, 0.2369, 0.6439],\n",
       "        [0.0321, 0.0871, 0.2369, 0.6439],\n",
       "        [0.0321, 0.0871, 0.2369, 0.6439],\n",
       "        [0.0321, 0.0871, 0.2369, 0.6439]])"
      ]
     },
     "execution_count": 16,
     "metadata": {},
     "output_type": "execute_result"
    }
   ],
   "source": [
    "F.softmax(x)"
   ]
  },
  {
   "cell_type": "code",
   "execution_count": 17,
   "id": "65be333d",
   "metadata": {},
   "outputs": [
    {
     "data": {
      "text/plain": [
       "tensor([[0, 0, 0, 1],\n",
       "        [0, 0, 0, 1],\n",
       "        [0, 0, 0, 1],\n",
       "        [0, 0, 0, 1]])"
      ]
     },
     "execution_count": 17,
     "metadata": {},
     "output_type": "execute_result"
    }
   ],
   "source": [
    "F.one_hot(x.argmax(1), 4)"
   ]
  },
  {
   "cell_type": "code",
   "execution_count": 18,
   "id": "f5717ea8",
   "metadata": {},
   "outputs": [],
   "source": [
    "class CategoricalLatent(nn.Module):\n",
    "    def __init__(self, input_size, categoricals, classes):\n",
    "        super().__init__()\n",
    "        self.mu = nn.Linear(input_size, categoricals * classes)\n",
    "        self.classes = classes\n",
    "    \n",
    "    def forward(self, input):\n",
    "        x = input\n",
    "        x = torch.flatten(x, 1)\n",
    "        # starts as torch.Size([256, 1024]), (batch, values)\n",
    "        # reshape into groups\n",
    "        initial_shape = x.shape\n",
    "        x = F.softplus(self.mu(x))\n",
    "        reshaped = x.reshape(-1, self.classes)\n",
    "        softmaxed = F.softmax(reshaped, dim=1)\n",
    "        drawn = F.one_hot(softmaxed.argmax(1), self.classes)\n",
    "        through = drawn + softmaxed - softmaxed.detach()\n",
    "        z = through.reshape(initial_shape)\n",
    "        \n",
    "        \n",
    "        return z"
   ]
  },
  {
   "cell_type": "code",
   "execution_count": 19,
   "id": "5ad564a1",
   "metadata": {},
   "outputs": [
    {
     "data": {
      "text/plain": [
       "tensor([[0., 0., 0.,  ..., 0., 0., 0.]], grad_fn=<ViewBackward>)"
      ]
     },
     "execution_count": 19,
     "metadata": {},
     "output_type": "execute_result"
    }
   ],
   "source": [
    "model = CategoricalLatent(1024, 32, 32)\n",
    "model(torch.randn(1, 1024))"
   ]
  },
  {
   "cell_type": "code",
   "execution_count": 20,
   "id": "f8c71fb8",
   "metadata": {},
   "outputs": [
    {
     "data": {
      "text/plain": [
       "CategoricalLatent(\n",
       "  (mu): Linear(in_features=1024, out_features=1024, bias=True)\n",
       ")"
      ]
     },
     "execution_count": 20,
     "metadata": {},
     "output_type": "execute_result"
    }
   ],
   "source": [
    "model.cuda()"
   ]
  },
  {
   "cell_type": "code",
   "execution_count": 21,
   "id": "1d6a1749",
   "metadata": {},
   "outputs": [],
   "source": [
    "class TransposeDecoder(nn.Module):\n",
    "    def __init__(self):\n",
    "        super().__init__()\n",
    "        activation = nn.ReLU\n",
    "        deconv = nn.ConvTranspose2d\n",
    "\n",
    "        self.decoder = nn.Sequential(\n",
    "            nn.LazyBatchNorm2d(),\n",
    "            nn.ConvTranspose2d(1024, 128, 5, stride=2),\n",
    "            activation(),\n",
    "            nn.LazyBatchNorm2d(),\n",
    "            deconv(128, 64, 5, stride=2),\n",
    "            activation(),\n",
    "            nn.LazyBatchNorm2d(),\n",
    "            deconv(64, 32, 6, stride=2),\n",
    "            activation(),\n",
    "            nn.LazyBatchNorm2d(),\n",
    "            deconv(32, 3, 6, stride=2),\n",
    "            nn.Sigmoid(),\n",
    "        )\n",
    "    \n",
    "    def forward(self, x):\n",
    "        decoded = self.decoder(x)\n",
    "        return decoded"
   ]
  },
  {
   "cell_type": "code",
   "execution_count": 37,
   "id": "02e6f897",
   "metadata": {},
   "outputs": [],
   "source": [
    "class ConvActNormLayer(nn.Module):\n",
    "    # Does not actually work that well: needs more space for the intermediate layer outputs for backprop\n",
    "    def __init__(self, in_channels, out_channels, kernel_size, padding=0):\n",
    "        super().__init__()\n",
    "        activation = nn.LeakyReLU\n",
    "#         conv = coordconv.CoordConv2d\n",
    "        conv = nn.Conv2d\n",
    "\n",
    "        self.layer = nn.Sequential(\n",
    "            conv(in_channels, out_channels, kernel_size, padding=padding),\n",
    "            activation(),\n",
    "            nn.LazyBatchNorm2d(),\n",
    "        )\n",
    "    \n",
    "    def forward(self, input):\n",
    "        return self.layer(input)"
   ]
  },
  {
   "cell_type": "code",
   "execution_count": 75,
   "id": "fbb05d74",
   "metadata": {},
   "outputs": [],
   "source": [
    "class UpsampleDecoderV2(nn.Module):\n",
    "    def __init__(self, conv=nn.Conv2d):\n",
    "        super().__init__()\n",
    "        activation = nn.LeakyReLU\n",
    "        \n",
    "        \n",
    "\n",
    "        # starts as 1x1x1024\n",
    "        self.decoder = nn.Sequential(\n",
    "            nn.LazyBatchNorm2d(),\n",
    "            nn.Upsample(scale_factor=2), # 2\n",
    "            ConvActNormLayer(1024, 512, 5, padding=2),\n",
    "            nn.Upsample(scale_factor=2), # 4\n",
    "#             ConvActNormLayer(512, 512, 3, padding=1),\n",
    "            ConvActNormLayer(512, 256, 5, padding=2),\n",
    "            nn.Upsample(scale_factor=2), # 8\n",
    "            ConvActNormLayer(256, 128, 5, padding=2),\n",
    "            nn.Upsample(scale_factor=2), # 16\n",
    "            ConvActNormLayer(128, 64, 5, padding=2),\n",
    "            nn.Upsample(scale_factor=2), # 32\n",
    "            ConvActNormLayer(64, 64, 5, padding=2),\n",
    "            nn.Upsample(scale_factor=2), # 64\n",
    "#             coordconv.CoordConv2d(16, 3, 3, padding=1),\n",
    "#             coordconv.CoordConv2d(32, 3, 3, padding=1),\n",
    "            nn.Conv2d(64, 3, 5, padding=2),\n",
    "            nn.Sigmoid(),\n",
    "        )\n",
    "    \n",
    "    def forward(self, x):\n",
    "        decoded = self.decoder(x)\n",
    "        return decoded"
   ]
  },
  {
   "cell_type": "code",
   "execution_count": 76,
   "id": "b11fb3e2",
   "metadata": {},
   "outputs": [],
   "source": [
    "class StrideEncoder(nn.Module):\n",
    "    def __init__(self, conv=nn.Conv2d):\n",
    "        super().__init__()\n",
    "        activation = nn.LeakyReLU\n",
    "        \n",
    "\n",
    "#         activation = nn.ReLU\n",
    "        conv = nn.Conv2d\n",
    "        deconv = nn.ConvTranspose2d\n",
    "        self.encoder = nn.Sequential(\n",
    "            conv(3, 32, 4, stride=2),\n",
    "            activation(),\n",
    "            nn.LazyBatchNorm2d(),\n",
    "            conv(32, 64, 4, stride=2),\n",
    "            activation(),\n",
    "            nn.LazyBatchNorm2d(),\n",
    "            conv(64, 128, 4, stride=2),\n",
    "            activation(),\n",
    "            nn.LazyBatchNorm2d(),\n",
    "            conv(128, 256, 4, stride=2),\n",
    "            activation(),\n",
    "            nn.LazyBatchNorm2d(),\n",
    "        )\n",
    "    \n",
    "    def forward(self, x):\n",
    "        encoded = self.encoder(x)\n",
    "        return encoded"
   ]
  },
  {
   "cell_type": "code",
   "execution_count": 77,
   "id": "2f5fb7e6",
   "metadata": {},
   "outputs": [],
   "source": [
    "class My_AE(nn.Module):\n",
    "    def __init__(self):\n",
    "        super().__init__()\n",
    "#         activation = nn.ReLU\n",
    "        activation = nn.LeakyReLU\n",
    "\n",
    "        conv = nn.Conv2d\n",
    "        deconv = nn.ConvTranspose2d\n",
    "        self.encoder = StrideEncoder()\n",
    "        \n",
    "        self.latent = AELatent(1024, 1024)\n",
    "#         self.latent = CategoricalLatent(1024, 32, 32)\n",
    "        \n",
    "#         self.unlatent = nn.Linear(1024, 1024)\n",
    "        \n",
    "        # starts as 1x1x1024\n",
    "#         self.decoder = TransposeDecoder()\n",
    "        self.decoder = UpsampleDecoderV2()\n",
    "    \n",
    "    def forward(self, input):\n",
    "        encoded = self.encoder(input)\n",
    "        latent = self.latent(encoded)\n",
    "#         x = self.unlatent(latent)\n",
    "        x = unflatten(latent)\n",
    "        decoded = self.decoder(x)\n",
    "        return decoded, latent"
   ]
  },
  {
   "cell_type": "code",
   "execution_count": 78,
   "id": "46e86da4",
   "metadata": {},
   "outputs": [],
   "source": [
    "def ae_loss(inputs, outputs, latents):\n",
    "    recon = F.mse_loss(inputs, outputs)\n",
    "    return recon"
   ]
  },
  {
   "cell_type": "code",
   "execution_count": 79,
   "id": "efaba12f",
   "metadata": {},
   "outputs": [
    {
     "data": {
      "text/plain": [
       "19255971"
      ]
     },
     "execution_count": 79,
     "metadata": {},
     "output_type": "execute_result"
    }
   ],
   "source": [
    "model = My_AE().cuda()\n",
    "calc_params(model)"
   ]
  },
  {
   "cell_type": "code",
   "execution_count": 80,
   "id": "9086a11c",
   "metadata": {},
   "outputs": [],
   "source": [
    "optimizer = optim.Adam(model.parameters(), lr=LEARNING_RATE, weight_decay=0.000001)\n",
    "scaler = torch.cuda.amp.GradScaler()"
   ]
  },
  {
   "cell_type": "code",
   "execution_count": 81,
   "id": "6f15161f",
   "metadata": {},
   "outputs": [],
   "source": [
    "loss_func = ae_loss"
   ]
  },
  {
   "cell_type": "code",
   "execution_count": 82,
   "id": "d56bc8ea",
   "metadata": {
    "scrolled": true
   },
   "outputs": [
    {
     "data": {
      "text/plain": [
       "(torch.Size([256, 3, 64, 64]), torch.Size([256, 1024]))"
      ]
     },
     "execution_count": 82,
     "metadata": {},
     "output_type": "execute_result"
    }
   ],
   "source": [
    "data = next(iter(train_dataloader))\n",
    "image = data.transpose(-1, 1).cuda() / 255\n",
    "outputs, latents = model(image)\n",
    "outputs.shape, latents.shape"
   ]
  },
  {
   "cell_type": "code",
   "execution_count": 83,
   "id": "a711bf0d",
   "metadata": {},
   "outputs": [],
   "source": [
    "STATS = defaultdict(list)"
   ]
  },
  {
   "cell_type": "code",
   "execution_count": 84,
   "id": "f1f51d55",
   "metadata": {},
   "outputs": [
    {
     "name": "stderr",
     "output_type": "stream",
     "text": [
      " 92%|███████████ | 6881/7487 [13:25<01:13,  8.29batch/s, [1,  6850] loss: 0.00278295]/tmp/ipykernel_680535/2947920170.py:26: FutureWarning: Non-finite norm encountered in torch.nn.utils.clip_grad_norm_; continuing anyway. Note that the default behavior will change in a future release to error out if a non-finite total norm is encountered. At that point, setting error_if_nonfinite=false will be required to retain the old behavior.\n",
      "  nn.utils.clip_grad_norm_(model.parameters(), max_norm=1.0)\n",
      "100%|████████████| 7487/7487 [14:37<00:00,  8.53batch/s, [1,  7450] loss: 0.00279900]\n"
     ]
    }
   ],
   "source": [
    "loss_steps = 50\n",
    "epochs = 1\n",
    "model.train()\n",
    "\n",
    "for epoch in range(epochs):\n",
    "    with tqdm(train_dataloader, unit=\"batch\") as t:\n",
    "        running_loss = 0\n",
    "        for i, data in enumerate(t):\n",
    "            # get the inputs\n",
    "    #         current_state, action, reward, next_state, done = data\n",
    "            image = data.transpose(-1, 1).cuda() / 255\n",
    "\n",
    "    #         loss = train_batch(image, model, optimizer, autoencoder.spectral_loss)\n",
    "            full_loss = train_batch(image, model, optimizer, loss_func, scaler)\n",
    "\n",
    "            if isinstance(full_loss, tuple):\n",
    "                loss = full_loss[0].item()\n",
    "                STATS['raw_losses'].append(loss)\n",
    "                STATS['recons'].append(full_loss[1].item())\n",
    "                STATS['kls'].append(full_loss[2].item())\n",
    "            else:\n",
    "                loss = full_loss.item()\n",
    "                STATS['raw_losses'].append(loss)\n",
    "\n",
    "            # print statistics\n",
    "            running_loss += loss\n",
    "            if i % loss_steps == loss_steps - 1:  # print every N mini-batches\n",
    "                string = '[%d, %5d] loss: %.8f' % (epoch + 1, i + 1, running_loss / loss_steps)\n",
    "                t.set_postfix_str(string)\n",
    "                STATS['losses'].append(running_loss / loss_steps)\n",
    "    #             scheduler.step(running_loss)\n",
    "                running_loss = 0.0"
   ]
  },
  {
   "cell_type": "code",
   "execution_count": null,
   "id": "9c9b3dc3",
   "metadata": {},
   "outputs": [],
   "source": []
  },
  {
   "cell_type": "markdown",
   "id": "cdc57984",
   "metadata": {},
   "source": [
    "10k, 50k, 60k, 100k, 120k, 130k, 140k, 160k, 180k, 230k, 400k"
   ]
  },
  {
   "cell_type": "code",
   "execution_count": 85,
   "id": "9c26c1c0",
   "metadata": {},
   "outputs": [
    {
     "data": {
      "text/plain": [
       "<matplotlib.image.AxesImage at 0x7fed2973cfa0>"
      ]
     },
     "execution_count": 85,
     "metadata": {},
     "output_type": "execute_result"
    },
    {
     "data": {
      "image/png": "[encoded data removed]",
      "text/plain": [
       "<Figure size 720x576 with 1 Axes>"
      ]
     },
     "metadata": {
      "needs_background": "light"
     },
     "output_type": "display_data"
    }
   ],
   "source": [
    "recon_target = dataset[130000]\n",
    "plt.imshow(recon_target)"
   ]
  },
  {
   "cell_type": "code",
   "execution_count": 86,
   "id": "38926e51",
   "metadata": {},
   "outputs": [
    {
     "data": {
      "text/plain": [
       "torch.Size([1, 3, 64, 64])"
      ]
     },
     "execution_count": 86,
     "metadata": {},
     "output_type": "execute_result"
    }
   ],
   "source": [
    "image = torch.from_numpy(to_batch_shape(recon_target).transpose(0, 3, 1, 2)).cuda() / 255\n",
    "image.shape"
   ]
  },
  {
   "cell_type": "code",
   "execution_count": 87,
   "id": "4092be33",
   "metadata": {},
   "outputs": [],
   "source": [
    "model.eval()\n",
    "outputs, latents = model(image)\n",
    "op = outputs.detach().cpu().numpy().transpose(0, 2, 3, 1)"
   ]
  },
  {
   "cell_type": "code",
   "execution_count": 88,
   "id": "14727f29",
   "metadata": {},
   "outputs": [
    {
     "data": {
      "text/plain": [
       "<matplotlib.image.AxesImage at 0x7fedd616ba30>"
      ]
     },
     "execution_count": 88,
     "metadata": {},
     "output_type": "execute_result"
    },
    {
     "data": {
      "image/png": "[encoded data removed]",
      "text/plain": [
       "<Figure size 720x576 with 2 Axes>"
      ]
     },
     "metadata": {
      "needs_background": "light"
     },
     "output_type": "display_data"
    }
   ],
   "source": [
    "plt.subplot(1, 2, 1)\n",
    "plt.imshow(recon_target)\n",
    "plt.subplot(1, 2, 2)\n",
    "\n",
    "plt.imshow(op[0])"
   ]
  },
  {
   "cell_type": "code",
   "execution_count": null,
   "id": "a4bad045",
   "metadata": {},
   "outputs": [],
   "source": []
  },
  {
   "cell_type": "code",
   "execution_count": null,
   "id": "d5a26b41",
   "metadata": {},
   "outputs": [],
   "source": []
  },
  {
   "cell_type": "code",
   "execution_count": 54,
   "id": "0f4fb1e0",
   "metadata": {},
   "outputs": [
    {
     "name": "stdout",
     "output_type": "stream",
     "text": [
      "added layer encoder-encoder-0\n",
      "Skipping encoder-encoder-1\n",
      "Skipping encoder-encoder-2\n",
      "added layer encoder-encoder-3\n",
      "Skipping encoder-encoder-4\n",
      "Skipping encoder-encoder-5\n",
      "added layer encoder-encoder-6\n",
      "Skipping encoder-encoder-7\n",
      "Skipping encoder-encoder-8\n",
      "added layer encoder-encoder-9\n",
      "Skipping encoder-encoder-10\n",
      "Skipping encoder-encoder-11\n",
      "added layer latent-mu\n",
      "Skipping latent-bn\n",
      "Skipping decoder-decoder-0\n",
      "Skipping decoder-decoder-1\n",
      "added layer decoder-decoder-2-layer-0\n",
      "Skipping decoder-decoder-2-layer-1\n",
      "Skipping decoder-decoder-2-layer-2\n",
      "Skipping decoder-decoder-3\n",
      "added layer decoder-decoder-4-layer-0\n",
      "Skipping decoder-decoder-4-layer-1\n",
      "Skipping decoder-decoder-4-layer-2\n",
      "Skipping decoder-decoder-5\n",
      "added layer decoder-decoder-6-layer-0\n",
      "Skipping decoder-decoder-6-layer-1\n",
      "Skipping decoder-decoder-6-layer-2\n",
      "Skipping decoder-decoder-7\n",
      "added layer decoder-decoder-8-layer-0\n",
      "Skipping decoder-decoder-8-layer-1\n",
      "Skipping decoder-decoder-8-layer-2\n",
      "Skipping decoder-decoder-9\n",
      "added layer decoder-decoder-10-layer-0\n",
      "Skipping decoder-decoder-10-layer-1\n",
      "Skipping decoder-decoder-10-layer-2\n",
      "Skipping decoder-decoder-11\n",
      "added layer decoder-decoder-12\n",
      "Skipping decoder-decoder-13\n"
     ]
    }
   ],
   "source": [
    "from delve import CheckLayerSat\n",
    "tracker = CheckLayerSat(\"my_experiment\", save_to=\"plotcsv\", modules=model, device=image.device)"
   ]
  },
  {
   "cell_type": "code",
   "execution_count": 55,
   "id": "2295be58",
   "metadata": {},
   "outputs": [
    {
     "name": "stderr",
     "output_type": "stream",
     "text": [
      "  1%|▌                                            | 101/7487 [00:08<10:57, 11.24it/s]\n"
     ]
    },
    {
     "name": "stdout",
     "output_type": "stream",
     "text": [
      "my_experiment_lsat_eval_epoch_0.png\n"
     ]
    },
    {
     "data": {
      "image/png": "[encoded data removed]",
      "text/plain": [
       "<Figure size 720x576 with 1 Axes>"
      ]
     },
     "metadata": {
      "needs_background": "light"
     },
     "output_type": "display_data"
    }
   ],
   "source": [
    "count = 0\n",
    "for data in tqdm(train_dataloader):\n",
    "    if count > 100:\n",
    "        break\n",
    "    count += 1\n",
    "#     data = next(iter(train_dataloader))\n",
    "    image = data.transpose(-1, 1).cuda() / 255\n",
    "    outputs, latents = model(image)\n",
    "tracker.add_saturations()"
   ]
  },
  {
   "cell_type": "code",
   "execution_count": null,
   "id": "bfc44bd8",
   "metadata": {},
   "outputs": [],
   "source": []
  },
  {
   "cell_type": "code",
   "execution_count": null,
   "id": "541f1e86",
   "metadata": {},
   "outputs": [],
   "source": []
  },
  {
   "cell_type": "code",
   "execution_count": null,
   "id": "9834014f",
   "metadata": {},
   "outputs": [],
   "source": []
  },
  {
   "cell_type": "code",
   "execution_count": null,
   "id": "b76a45f9",
   "metadata": {},
   "outputs": [],
   "source": []
  },
  {
   "cell_type": "code",
   "execution_count": null,
   "id": "5c4461fd",
   "metadata": {},
   "outputs": [],
   "source": []
  },
  {
   "cell_type": "code",
   "execution_count": null,
   "id": "6e9e4ff1",
   "metadata": {},
   "outputs": [],
   "source": []
  },
  {
   "cell_type": "code",
   "execution_count": null,
   "id": "4db1ec92",
   "metadata": {},
   "outputs": [],
   "source": []
  },
  {
   "cell_type": "code",
   "execution_count": null,
   "id": "2cb4fbb0",
   "metadata": {},
   "outputs": [],
   "source": []
  },
  {
   "cell_type": "code",
   "execution_count": null,
   "id": "abcf7e9d",
   "metadata": {},
   "outputs": [],
   "source": []
  },
  {
   "cell_type": "code",
   "execution_count": null,
   "id": "b7d56f0f",
   "metadata": {},
   "outputs": [],
   "source": []
  },
  {
   "cell_type": "code",
   "execution_count": null,
   "id": "e92b4d8f",
   "metadata": {},
   "outputs": [],
   "source": []
  },
  {
   "cell_type": "code",
   "execution_count": null,
   "id": "deed3bca",
   "metadata": {},
   "outputs": [],
   "source": []
  },
  {
   "cell_type": "code",
   "execution_count": null,
   "id": "f6116121",
   "metadata": {},
   "outputs": [],
   "source": []
  },
  {
   "cell_type": "code",
   "execution_count": null,
   "id": "ec083b7f",
   "metadata": {},
   "outputs": [],
   "source": []
  },
  {
   "cell_type": "code",
   "execution_count": null,
   "id": "485ebc31",
   "metadata": {},
   "outputs": [],
   "source": []
  },
  {
   "cell_type": "code",
   "execution_count": null,
   "id": "41f2b98e",
   "metadata": {},
   "outputs": [],
   "source": []
  },
  {
   "cell_type": "code",
   "execution_count": null,
   "id": "a6cc86a2",
   "metadata": {},
   "outputs": [],
   "source": []
  },
  {
   "cell_type": "code",
   "execution_count": null,
   "id": "2316e0f5",
   "metadata": {},
   "outputs": [],
   "source": []
  },
  {
   "cell_type": "code",
   "execution_count": null,
   "id": "17b40de0",
   "metadata": {},
   "outputs": [],
   "source": []
  }
 ],
 "metadata": {
  "kernelspec": {
   "display_name": "Python 3 (ipykernel)",
   "language": "python",
   "name": "python3"
  },
  "language_info": {
   "codemirror_mode": {
    "name": "ipython",
    "version": 3
   },
   "file_extension": ".py",
   "mimetype": "text/x-python",
   "name": "python",
   "nbconvert_exporter": "python",
   "pygments_lexer": "ipython3",
   "version": "3.9.6"
  }
 },
 "nbformat": 4,
 "nbformat_minor": 5
}
