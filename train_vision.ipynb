{
 "cells": [
  {
   "cell_type": "code",
   "execution_count": 1,
   "id": "4810f489",
   "metadata": {},
   "outputs": [],
   "source": [
    "%matplotlib inline\n",
    "%load_ext autoreload\n",
    "%autoreload 2"
   ]
  },
  {
   "cell_type": "code",
   "execution_count": 2,
   "id": "abade2b5",
   "metadata": {},
   "outputs": [],
   "source": [
    "import matplotlib\n",
    "matplotlib.rcParams['figure.figsize'] = [15, 10]"
   ]
  },
  {
   "cell_type": "code",
   "execution_count": 1,
   "id": "8a4289bc",
   "metadata": {},
   "outputs": [
    {
     "name": "stderr",
     "output_type": "stream",
     "text": [
      "/home/marthinwurer/.pyenv/versions/3.9.6/envs/minerl/lib/python3.9/site-packages/gym/logger.py:34: UserWarning: \u001b[33mWARN: Box bound precision lowered by casting to float32\u001b[0m\n",
      "  warnings.warn(colorize(\"%s: %s\" % (\"WARN\", msg % args), \"yellow\"))\n"
     ]
    }
   ],
   "source": [
    "import datetime\n",
    "import os\n",
    "import matplotlib.pyplot as plt\n",
    "import numpy as np\n",
    "import torch\n",
    "import minerl\n",
    "from tqdm import tqdm\n",
    "\n",
    "from torch import nn, optim\n",
    "import torch.nn.functional as F\n",
    "from torch.optim.lr_scheduler import ReduceLROnPlateau\n",
    "from utilities import flatten, unflatten, to_batch_shape, to_torch_channels\n",
    "from torch.utils.data import Dataset\n",
    "from torchvision import datasets\n",
    "from torchvision.transforms import ToTensor\n",
    "from torch.utils.data import DataLoader\n",
    "\n",
    "import autoencoder\n",
    "from AdvancedAutoencoder import AdvancedAutoencoder\n",
    "from networks import WMAutoencoder, WM_VAE, VisionModel\n",
    "\n",
    "from dataset_preprocessing import MineRlSequenceDataset\n"
   ]
  },
  {
   "cell_type": "code",
   "execution_count": 2,
   "id": "b232d290",
   "metadata": {},
   "outputs": [],
   "source": [
    "BATCH_SIZE = 256\n",
    "LEARNING_RATE = 0.0001"
   ]
  },
  {
   "cell_type": "code",
   "execution_count": 3,
   "id": "8a882e4c",
   "metadata": {},
   "outputs": [],
   "source": [
    "dataset = MineRlSequenceDataset(\"data/npy_obtain_diamond\", 1)"
   ]
  },
  {
   "cell_type": "code",
   "execution_count": 4,
   "id": "441f39f8",
   "metadata": {},
   "outputs": [],
   "source": [
    "train_dataloader = DataLoader(dataset, batch_size=BATCH_SIZE, shuffle=True, num_workers=8)"
   ]
  },
  {
   "cell_type": "code",
   "execution_count": 5,
   "id": "a1c18cf6",
   "metadata": {},
   "outputs": [
    {
     "data": {
      "text/plain": [
       "torch.Size([256, 1, 3, 64, 64])"
      ]
     },
     "execution_count": 5,
     "metadata": {},
     "output_type": "execute_result"
    }
   ],
   "source": [
    "train_features = next(iter(train_dataloader))\n",
    "train_features[0].shape"
   ]
  },
  {
   "cell_type": "code",
   "execution_count": 6,
   "id": "91ccbc49",
   "metadata": {},
   "outputs": [],
   "source": [
    "model = VisionModel(256)"
   ]
  },
  {
   "cell_type": "code",
   "execution_count": 7,
   "id": "0b152c33",
   "metadata": {},
   "outputs": [
    {
     "data": {
      "text/plain": [
       "torch.Size([256, 3, 64, 64])"
      ]
     },
     "execution_count": 7,
     "metadata": {},
     "output_type": "execute_result"
    }
   ],
   "source": [
    "povs = train_features[0]\n",
    "batch_size, timesteps, C, H, W = povs.shape\n",
    "input_data = povs.view(timesteps * batch_size, C, H, W)\n",
    "input_data.shape"
   ]
  },
  {
   "cell_type": "code",
   "execution_count": 8,
   "id": "b16cf1f0",
   "metadata": {},
   "outputs": [],
   "source": [
    "with torch.no_grad():\n",
    "    outs = model(input_data)"
   ]
  },
  {
   "cell_type": "code",
   "execution_count": 9,
   "id": "5eb41c2a",
   "metadata": {},
   "outputs": [],
   "source": [
    "loss_func = autoencoder.abs_loss"
   ]
  },
  {
   "cell_type": "code",
   "execution_count": 10,
   "id": "c30f488e",
   "metadata": {},
   "outputs": [
    {
     "data": {
      "text/plain": [
       "tensor(0.3287)"
      ]
     },
     "execution_count": 10,
     "metadata": {},
     "output_type": "execute_result"
    }
   ],
   "source": [
    "loss_func(outs[0], input_data, outs[1])"
   ]
  },
  {
   "cell_type": "code",
   "execution_count": 11,
   "id": "59aac9ff",
   "metadata": {},
   "outputs": [
    {
     "data": {
      "text/plain": [
       "VisionModel(\n",
       "  (encoder): VisionEncoder(\n",
       "    (encoder): Sequential(\n",
       "      (0): CoordConv2d(\n",
       "        3, 32, kernel_size=(4, 4), stride=(2, 2)\n",
       "        (addcoords): AddCoords()\n",
       "        (conv): Conv2d(5, 32, kernel_size=(4, 4), stride=(2, 2))\n",
       "      )\n",
       "      (1): SiLU()\n",
       "      (2): SkippableLayerNorm()\n",
       "      (3): CoordConv2d(\n",
       "        32, 64, kernel_size=(4, 4), stride=(2, 2)\n",
       "        (addcoords): AddCoords()\n",
       "        (conv): Conv2d(34, 64, kernel_size=(4, 4), stride=(2, 2))\n",
       "      )\n",
       "      (4): SiLU()\n",
       "      (5): SkippableLayerNorm()\n",
       "      (6): CoordConv2d(\n",
       "        64, 128, kernel_size=(4, 4), stride=(2, 2)\n",
       "        (addcoords): AddCoords()\n",
       "        (conv): Conv2d(66, 128, kernel_size=(4, 4), stride=(2, 2))\n",
       "      )\n",
       "      (7): SiLU()\n",
       "      (8): SkippableLayerNorm()\n",
       "      (9): CoordConv2d(\n",
       "        128, 256, kernel_size=(4, 4), stride=(2, 2)\n",
       "        (addcoords): AddCoords()\n",
       "        (conv): Conv2d(130, 256, kernel_size=(4, 4), stride=(2, 2))\n",
       "      )\n",
       "      (10): SiLU()\n",
       "      (11): SkippableLayerNorm()\n",
       "      (12): Flatten(start_dim=1, end_dim=-1)\n",
       "      (13): Linear(in_features=1024, out_features=256, bias=True)\n",
       "      (14): Tanh()\n",
       "    )\n",
       "  )\n",
       "  (decoder): VisionDecoder(\n",
       "    (decoder): Sequential(\n",
       "      (0): Linear(in_features=256, out_features=1024, bias=True)\n",
       "      (1): Unflatten(dim=-1, unflattened_size=(1024, 1, 1))\n",
       "      (2): ConvTranspose2d(1024, 128, kernel_size=(5, 5), stride=(2, 2))\n",
       "      (3): SiLU()\n",
       "      (4): SkippableLayerNorm()\n",
       "      (5): CoordConvTranspose2d(\n",
       "        128, 64, kernel_size=(5, 5), stride=(2, 2), output_padding=(1, 1)\n",
       "        (addcoords): AddCoords()\n",
       "        (conv): ConvTranspose2d(130, 64, kernel_size=(5, 5), stride=(2, 2))\n",
       "      )\n",
       "      (6): SiLU()\n",
       "      (7): SkippableLayerNorm()\n",
       "      (8): CoordConvTranspose2d(\n",
       "        64, 32, kernel_size=(6, 6), stride=(2, 2), output_padding=(1, 1)\n",
       "        (addcoords): AddCoords()\n",
       "        (conv): ConvTranspose2d(66, 32, kernel_size=(6, 6), stride=(2, 2))\n",
       "      )\n",
       "      (9): SiLU()\n",
       "      (10): SkippableLayerNorm()\n",
       "      (11): CoordConvTranspose2d(\n",
       "        32, 3, kernel_size=(6, 6), stride=(2, 2), output_padding=(1, 1)\n",
       "        (addcoords): AddCoords()\n",
       "        (conv): ConvTranspose2d(34, 3, kernel_size=(6, 6), stride=(2, 2))\n",
       "      )\n",
       "      (12): Sigmoid()\n",
       "    )\n",
       "  )\n",
       ")"
      ]
     },
     "execution_count": 11,
     "metadata": {},
     "output_type": "execute_result"
    }
   ],
   "source": [
    "model.cuda()"
   ]
  },
  {
   "cell_type": "code",
   "execution_count": null,
   "id": "101c6737",
   "metadata": {},
   "outputs": [],
   "source": []
  },
  {
   "cell_type": "code",
   "execution_count": 19,
   "id": "688a05b3",
   "metadata": {},
   "outputs": [],
   "source": [
    "losses = []"
   ]
  },
  {
   "cell_type": "code",
   "execution_count": null,
   "id": "8bfbb510",
   "metadata": {},
   "outputs": [],
   "source": [
    "with tqdm(enumerate(train_dataloader, 0), total=len(dataset)/(BATCH_SIZE), unit=\"batch\") as t:\n",
    "    for i, data in t:\n",
    "        # unpack the data and send it to the gpu\n",
    "        povs, _, _, _, _, _ = data\n",
    "        batch_size, timesteps, C, H, W = povs.shape\n",
    "        images = povs.view(timesteps * batch_size, C, H, W).cuda()\n",
    "        \n",
    "        \n",
    "        "
   ]
  }
 ],
 "metadata": {
  "kernelspec": {
   "display_name": "Python 3 (ipykernel)",
   "language": "python",
   "name": "python3"
  },
  "language_info": {
   "codemirror_mode": {
    "name": "ipython",
    "version": 3
   },
   "file_extension": ".py",
   "mimetype": "text/x-python",
   "name": "python",
   "nbconvert_exporter": "python",
   "pygments_lexer": "ipython3",
   "version": "3.9.6"
  }
 },
 "nbformat": 4,
 "nbformat_minor": 5
}
