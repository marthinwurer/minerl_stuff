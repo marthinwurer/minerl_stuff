{
 "cells": [
  {
   "cell_type": "code",
   "execution_count": 6,
   "id": "a9bfe2de",
   "metadata": {},
   "outputs": [],
   "source": [
    "%matplotlib inline\n",
    "%load_ext autoreload\n",
    "%autoreload 2"
   ]
  },
  {
   "cell_type": "code",
   "execution_count": 7,
   "id": "46f01420",
   "metadata": {},
   "outputs": [],
   "source": [
    "import matplotlib\n",
    "matplotlib.rcParams['figure.figsize'] = [10, 8]"
   ]
  },
  {
   "cell_type": "code",
   "execution_count": 8,
   "id": "19fcfcbd",
   "metadata": {},
   "outputs": [
    {
     "name": "stderr",
     "output_type": "stream",
     "text": [
      "/home/marthinwurer/.pyenv/versions/3.9.6/envs/minerl/lib/python3.9/site-packages/gym/logger.py:34: UserWarning: \u001b[33mWARN: Box bound precision lowered by casting to float32\u001b[0m\n",
      "  warnings.warn(colorize(\"%s: %s\" % (\"WARN\", msg % args), \"yellow\"))\n"
     ]
    }
   ],
   "source": [
    "import matplotlib.pyplot as plt\n",
    "import numpy as np\n",
    "import torch\n",
    "import minerl\n",
    "from tqdm import tqdm\n",
    "\n",
    "from torch import nn, optim\n",
    "import torch.nn.functional as F\n",
    "from torch.optim.lr_scheduler import ReduceLROnPlateau\n",
    "from utilities import flatten, unflatten, to_batch_shape, to_torch_channels\n",
    "\n",
    "import autoencoder\n",
    "from AdvancedAutoencoder import AdvancedAutoencoder\n",
    "from networks import WMAutoencoder, WM_VAE\n",
    "from torch.utils.data import Dataset\n",
    "from torchvision import datasets\n",
    "from torchvision.transforms import ToTensor\n",
    "from torch.utils.data import DataLoader"
   ]
  },
  {
   "cell_type": "code",
   "execution_count": 9,
   "id": "8d8dfe8c",
   "metadata": {},
   "outputs": [],
   "source": [
    "from utilities import nan_canary"
   ]
  },
  {
   "cell_type": "code",
   "execution_count": 10,
   "id": "4c6834e7",
   "metadata": {},
   "outputs": [],
   "source": [
    "# BATCH_SIZE = 512\n",
    "# BATCH_SIZE = 256\n",
    "# BATCH_SIZE = 128\n",
    "# BATCH_SIZE = 64\n",
    "BATCH_SIZE = 32\n",
    "# BATCH_SIZE = 8\n",
    "LEARNING_RATE = 0.0001\n",
    "EPOCHS = 30\n",
    "MOMENTUM = 0.9\n",
    "# IN_POWER = 8\n",
    "# IN_POWER = 6\n",
    "in_dim = 64"
   ]
  },
  {
   "cell_type": "code",
   "execution_count": 11,
   "id": "22b74737",
   "metadata": {},
   "outputs": [],
   "source": [
    "rnn = nn.GRU(10, 20, 2)  # input size, hidden size, num layers"
   ]
  },
  {
   "cell_type": "code",
   "execution_count": 12,
   "id": "22b41286",
   "metadata": {},
   "outputs": [],
   "source": [
    "data = torch.randn(5, 3, 10)  # Sequence length, batch size, input size\n",
    "# sequence time, batch, input"
   ]
  },
  {
   "cell_type": "code",
   "execution_count": 13,
   "id": "81c0201e",
   "metadata": {},
   "outputs": [],
   "source": [
    "h0 = torch.randn(2, 3, 20)"
   ]
  },
  {
   "cell_type": "code",
   "execution_count": 14,
   "id": "5e67982b",
   "metadata": {},
   "outputs": [],
   "source": [
    "output, hn = rnn(data, h0)  # "
   ]
  },
  {
   "cell_type": "code",
   "execution_count": 15,
   "id": "f8a90058",
   "metadata": {},
   "outputs": [
    {
     "data": {
      "text/plain": [
       "torch.Size([5, 3, 20])"
      ]
     },
     "execution_count": 15,
     "metadata": {},
     "output_type": "execute_result"
    }
   ],
   "source": [
    "output.shape"
   ]
  },
  {
   "cell_type": "code",
   "execution_count": 16,
   "id": "54a089c9",
   "metadata": {},
   "outputs": [
    {
     "data": {
      "text/plain": [
       "61440"
      ]
     },
     "execution_count": 16,
     "metadata": {},
     "output_type": "execute_result"
    }
   ],
   "source": [
    "5 * 64 * 64 * 3"
   ]
  },
  {
   "cell_type": "code",
   "execution_count": 17,
   "id": "7b2cd010",
   "metadata": {},
   "outputs": [
    {
     "data": {
      "text/plain": [
       "tensor([[[1.1000, 1.1000, 1.1000],\n",
       "         [1.1000, 1.1000, 1.1000],\n",
       "         [1.1000, 1.1000, 1.1000],\n",
       "         ...,\n",
       "         [1.1000, 1.1000, 1.1000],\n",
       "         [1.1000, 1.1000, 1.1000],\n",
       "         [1.1000, 1.1000, 1.1000]],\n",
       "\n",
       "        [[1.1000, 1.1000, 1.1000],\n",
       "         [1.1000, 1.1000, 1.1000],\n",
       "         [1.1000, 1.1000, 1.1000],\n",
       "         ...,\n",
       "         [1.1000, 1.1000, 1.1000],\n",
       "         [1.1000, 1.1000, 1.1000],\n",
       "         [1.1000, 1.1000, 1.1000]],\n",
       "\n",
       "        [[1.1000, 1.1000, 1.1000],\n",
       "         [1.1000, 1.1000, 1.1000],\n",
       "         [1.1000, 1.1000, 1.1000],\n",
       "         ...,\n",
       "         [1.1000, 1.1000, 1.1000],\n",
       "         [1.1000, 1.1000, 1.1000],\n",
       "         [1.1000, 1.1000, 1.1000]],\n",
       "\n",
       "        ...,\n",
       "\n",
       "        [[1.1000, 1.1000, 1.1000],\n",
       "         [1.1000, 1.1000, 1.1000],\n",
       "         [1.1000, 1.1000, 1.1000],\n",
       "         ...,\n",
       "         [1.1000, 1.1000, 1.1000],\n",
       "         [1.1000, 1.1000, 1.1000],\n",
       "         [1.1000, 1.1000, 1.1000]],\n",
       "\n",
       "        [[1.1000, 1.1000, 1.1000],\n",
       "         [1.1000, 1.1000, 1.1000],\n",
       "         [1.1000, 1.1000, 1.1000],\n",
       "         ...,\n",
       "         [1.1000, 1.1000, 1.1000],\n",
       "         [1.1000, 1.1000, 1.1000],\n",
       "         [1.1000, 1.1000, 1.1000]],\n",
       "\n",
       "        [[1.1000, 1.1000, 1.1000],\n",
       "         [1.1000, 1.1000, 1.1000],\n",
       "         [1.1000, 1.1000, 1.1000],\n",
       "         ...,\n",
       "         [1.1000, 1.1000, 1.1000],\n",
       "         [1.1000, 1.1000, 1.1000],\n",
       "         [1.1000, 1.1000, 1.1000]]])"
      ]
     },
     "execution_count": 17,
     "metadata": {},
     "output_type": "execute_result"
    }
   ],
   "source": [
    "torch.full((64, 64, 3), 1.1)"
   ]
  },
  {
   "cell_type": "code",
   "execution_count": 18,
   "id": "1f5f2bc8",
   "metadata": {},
   "outputs": [],
   "source": [
    "# timestep, batch(sequence id), image...\n",
    "data = torch.zeros((5, 6, 64, 64, 3))\n",
    "\n",
    "for i in range(5):\n",
    "    for j in range(6):\n",
    "        data[i][j] = torch.full((64, 64, 3), i + j * .1)\n"
   ]
  },
  {
   "cell_type": "code",
   "execution_count": 19,
   "id": "eb6f7b5b",
   "metadata": {
    "scrolled": true
   },
   "outputs": [
    {
     "data": {
      "text/plain": [
       "tensor([[[3.5000, 3.5000, 3.5000],\n",
       "         [3.5000, 3.5000, 3.5000],\n",
       "         [3.5000, 3.5000, 3.5000],\n",
       "         ...,\n",
       "         [3.5000, 3.5000, 3.5000],\n",
       "         [3.5000, 3.5000, 3.5000],\n",
       "         [3.5000, 3.5000, 3.5000]],\n",
       "\n",
       "        [[3.5000, 3.5000, 3.5000],\n",
       "         [3.5000, 3.5000, 3.5000],\n",
       "         [3.5000, 3.5000, 3.5000],\n",
       "         ...,\n",
       "         [3.5000, 3.5000, 3.5000],\n",
       "         [3.5000, 3.5000, 3.5000],\n",
       "         [3.5000, 3.5000, 3.5000]],\n",
       "\n",
       "        [[3.5000, 3.5000, 3.5000],\n",
       "         [3.5000, 3.5000, 3.5000],\n",
       "         [3.5000, 3.5000, 3.5000],\n",
       "         ...,\n",
       "         [3.5000, 3.5000, 3.5000],\n",
       "         [3.5000, 3.5000, 3.5000],\n",
       "         [3.5000, 3.5000, 3.5000]],\n",
       "\n",
       "        ...,\n",
       "\n",
       "        [[3.5000, 3.5000, 3.5000],\n",
       "         [3.5000, 3.5000, 3.5000],\n",
       "         [3.5000, 3.5000, 3.5000],\n",
       "         ...,\n",
       "         [3.5000, 3.5000, 3.5000],\n",
       "         [3.5000, 3.5000, 3.5000],\n",
       "         [3.5000, 3.5000, 3.5000]],\n",
       "\n",
       "        [[3.5000, 3.5000, 3.5000],\n",
       "         [3.5000, 3.5000, 3.5000],\n",
       "         [3.5000, 3.5000, 3.5000],\n",
       "         ...,\n",
       "         [3.5000, 3.5000, 3.5000],\n",
       "         [3.5000, 3.5000, 3.5000],\n",
       "         [3.5000, 3.5000, 3.5000]],\n",
       "\n",
       "        [[3.5000, 3.5000, 3.5000],\n",
       "         [3.5000, 3.5000, 3.5000],\n",
       "         [3.5000, 3.5000, 3.5000],\n",
       "         ...,\n",
       "         [3.5000, 3.5000, 3.5000],\n",
       "         [3.5000, 3.5000, 3.5000],\n",
       "         [3.5000, 3.5000, 3.5000]]])"
      ]
     },
     "execution_count": 19,
     "metadata": {},
     "output_type": "execute_result"
    }
   ],
   "source": [
    "data[3, 5]"
   ]
  },
  {
   "cell_type": "code",
   "execution_count": 20,
   "id": "dfb9eb3d",
   "metadata": {},
   "outputs": [
    {
     "data": {
      "text/plain": [
       "(5, 6, 64, 64, 3)"
      ]
     },
     "execution_count": 20,
     "metadata": {},
     "output_type": "execute_result"
    }
   ],
   "source": [
    "timesteps, batch_size, C, H, W = data.size()\n",
    "timesteps, batch_size, C, H, W"
   ]
  },
  {
   "cell_type": "code",
   "execution_count": 21,
   "id": "fb5c21ad",
   "metadata": {},
   "outputs": [],
   "source": [
    "for_cnn = data.view(timesteps * batch_size, C, H, W)"
   ]
  },
  {
   "cell_type": "code",
   "execution_count": 22,
   "id": "5f078088",
   "metadata": {},
   "outputs": [
    {
     "data": {
      "text/plain": [
       "torch.Size([5, 6, 12288])"
      ]
     },
     "execution_count": 22,
     "metadata": {},
     "output_type": "execute_result"
    }
   ],
   "source": [
    "for_rnn = for_cnn.view(timesteps, batch_size, -1)\n",
    "for_rnn.shape"
   ]
  },
  {
   "cell_type": "code",
   "execution_count": 23,
   "id": "b715193d",
   "metadata": {},
   "outputs": [
    {
     "data": {
      "text/plain": [
       "tensor([4.4000, 4.4000, 4.4000,  ..., 4.4000, 4.4000, 4.4000])"
      ]
     },
     "execution_count": 23,
     "metadata": {},
     "output_type": "execute_result"
    }
   ],
   "source": [
    "for_rnn[4, 4]"
   ]
  },
  {
   "cell_type": "markdown",
   "id": "02ebc4e1",
   "metadata": {},
   "source": [
    "So, it looks like we do that transform to pass the items to the CNN and back out to the RNN. I presume it'll work to go the other way too, but let me double check that"
   ]
  },
  {
   "cell_type": "code",
   "execution_count": 24,
   "id": "853e41cb",
   "metadata": {},
   "outputs": [],
   "source": [
    "for_cnn2 = for_rnn.view(timesteps, batch_size, C, H, W)"
   ]
  },
  {
   "cell_type": "code",
   "execution_count": 25,
   "id": "dde2f870",
   "metadata": {
    "scrolled": true
   },
   "outputs": [
    {
     "data": {
      "text/plain": [
       "tensor([[[3.5000, 3.5000, 3.5000],\n",
       "         [3.5000, 3.5000, 3.5000],\n",
       "         [3.5000, 3.5000, 3.5000],\n",
       "         ...,\n",
       "         [3.5000, 3.5000, 3.5000],\n",
       "         [3.5000, 3.5000, 3.5000],\n",
       "         [3.5000, 3.5000, 3.5000]],\n",
       "\n",
       "        [[3.5000, 3.5000, 3.5000],\n",
       "         [3.5000, 3.5000, 3.5000],\n",
       "         [3.5000, 3.5000, 3.5000],\n",
       "         ...,\n",
       "         [3.5000, 3.5000, 3.5000],\n",
       "         [3.5000, 3.5000, 3.5000],\n",
       "         [3.5000, 3.5000, 3.5000]],\n",
       "\n",
       "        [[3.5000, 3.5000, 3.5000],\n",
       "         [3.5000, 3.5000, 3.5000],\n",
       "         [3.5000, 3.5000, 3.5000],\n",
       "         ...,\n",
       "         [3.5000, 3.5000, 3.5000],\n",
       "         [3.5000, 3.5000, 3.5000],\n",
       "         [3.5000, 3.5000, 3.5000]],\n",
       "\n",
       "        ...,\n",
       "\n",
       "        [[3.5000, 3.5000, 3.5000],\n",
       "         [3.5000, 3.5000, 3.5000],\n",
       "         [3.5000, 3.5000, 3.5000],\n",
       "         ...,\n",
       "         [3.5000, 3.5000, 3.5000],\n",
       "         [3.5000, 3.5000, 3.5000],\n",
       "         [3.5000, 3.5000, 3.5000]],\n",
       "\n",
       "        [[3.5000, 3.5000, 3.5000],\n",
       "         [3.5000, 3.5000, 3.5000],\n",
       "         [3.5000, 3.5000, 3.5000],\n",
       "         ...,\n",
       "         [3.5000, 3.5000, 3.5000],\n",
       "         [3.5000, 3.5000, 3.5000],\n",
       "         [3.5000, 3.5000, 3.5000]],\n",
       "\n",
       "        [[3.5000, 3.5000, 3.5000],\n",
       "         [3.5000, 3.5000, 3.5000],\n",
       "         [3.5000, 3.5000, 3.5000],\n",
       "         ...,\n",
       "         [3.5000, 3.5000, 3.5000],\n",
       "         [3.5000, 3.5000, 3.5000],\n",
       "         [3.5000, 3.5000, 3.5000]]])"
      ]
     },
     "execution_count": 25,
     "metadata": {},
     "output_type": "execute_result"
    }
   ],
   "source": [
    "for_cnn2[3, 5]"
   ]
  },
  {
   "cell_type": "code",
   "execution_count": 26,
   "id": "06b5b12a",
   "metadata": {},
   "outputs": [],
   "source": [
    "class MineRlSequenceDataset(Dataset):\n",
    "    def __init__(self, base_dir, sequence_length):\n",
    "        initial_size = 1916597\n",
    "        self.pov = np.memmap(base_dir + '/pov.npy', dtype='uint8', mode='r', shape=(initial_size, 64, 64, 3))\n",
    "        self.vec = np.memmap(base_dir + '/vector.npy', dtype='f', mode='r', shape=(initial_size, 64))\n",
    "        self.act = np.memmap(base_dir + '/action.npy', dtype='f', mode='r', shape=(initial_size, 64))\n",
    "        self.rew = np.memmap(base_dir + '/reward.npy', dtype='f', mode='r', shape=(initial_size, 1))\n",
    "        self.don = np.memmap(base_dir + '/done.npy', dtype='?', mode='r', shape=(initial_size, 1))\n",
    "        self.sequence_length = sequence_length\n",
    "\n",
    "    def __len__(self):\n",
    "        return self.pov.shape[0] - self.sequence_length + 1\n",
    "\n",
    "    def __getitem__(self, idx):\n",
    "        end_idx = idx + self.sequence_length\n",
    "        pov = np.float32(self.pov[idx:end_idx].transpose(0, 3, 1, 2)) / 255\n",
    "        vec = self.vec[idx:end_idx]\n",
    "        act = self.act[idx:end_idx]\n",
    "        rew = self.rew[idx:end_idx]\n",
    "        don = self.don[idx:end_idx].astype('float32')\n",
    "        return (pov, vec, act, rew, don)"
   ]
  },
  {
   "cell_type": "code",
   "execution_count": 27,
   "id": "380785e3",
   "metadata": {},
   "outputs": [],
   "source": [
    "dataset = MineRlSequenceDataset(\"data/npy_obtain_diamond\", 32)"
   ]
  },
  {
   "cell_type": "code",
   "execution_count": 28,
   "id": "ed8817b3",
   "metadata": {},
   "outputs": [
    {
     "data": {
      "text/plain": [
       "memmap([[0.],\n",
       "        [0.],\n",
       "        [0.],\n",
       "        [0.],\n",
       "        [0.],\n",
       "        [0.],\n",
       "        [0.],\n",
       "        [0.],\n",
       "        [0.],\n",
       "        [0.],\n",
       "        [0.],\n",
       "        [0.],\n",
       "        [0.],\n",
       "        [0.],\n",
       "        [0.],\n",
       "        [0.],\n",
       "        [0.],\n",
       "        [0.],\n",
       "        [0.],\n",
       "        [0.],\n",
       "        [0.],\n",
       "        [0.],\n",
       "        [0.],\n",
       "        [0.],\n",
       "        [0.],\n",
       "        [0.],\n",
       "        [0.],\n",
       "        [0.],\n",
       "        [0.],\n",
       "        [0.],\n",
       "        [0.],\n",
       "        [0.]], dtype=float32)"
      ]
     },
     "execution_count": 28,
     "metadata": {},
     "output_type": "execute_result"
    }
   ],
   "source": [
    "dataset[len(dataset) - 1][-2]"
   ]
  },
  {
   "cell_type": "code",
   "execution_count": 29,
   "id": "97f4d11b",
   "metadata": {},
   "outputs": [
    {
     "data": {
      "text/plain": [
       "[dtype('float32'),\n",
       " dtype('float32'),\n",
       " dtype('float32'),\n",
       " dtype('float32'),\n",
       " dtype('float32')]"
      ]
     },
     "execution_count": 29,
     "metadata": {},
     "output_type": "execute_result"
    }
   ],
   "source": [
    "[x.dtype for x in dataset[len(dataset) - 1]]"
   ]
  },
  {
   "cell_type": "code",
   "execution_count": 30,
   "id": "ba51eaae",
   "metadata": {},
   "outputs": [],
   "source": [
    "train_dataloader = DataLoader(dataset, batch_size=BATCH_SIZE, shuffle=True, num_workers=8)"
   ]
  },
  {
   "cell_type": "code",
   "execution_count": 31,
   "id": "52cbb5e6",
   "metadata": {},
   "outputs": [
    {
     "data": {
      "text/plain": [
       "torch.Size([32, 32, 3, 64, 64])"
      ]
     },
     "execution_count": 31,
     "metadata": {},
     "output_type": "execute_result"
    }
   ],
   "source": [
    "train_features = next(iter(train_dataloader))\n",
    "train_features[0].shape"
   ]
  },
  {
   "cell_type": "code",
   "execution_count": 32,
   "id": "92076045",
   "metadata": {},
   "outputs": [
    {
     "data": {
      "text/plain": [
       "array([[[0.],\n",
       "        [0.],\n",
       "        [0.],\n",
       "        ...,\n",
       "        [0.],\n",
       "        [0.],\n",
       "        [0.]],\n",
       "\n",
       "       [[0.],\n",
       "        [0.],\n",
       "        [0.],\n",
       "        ...,\n",
       "        [0.],\n",
       "        [0.],\n",
       "        [0.]],\n",
       "\n",
       "       [[0.],\n",
       "        [0.],\n",
       "        [0.],\n",
       "        ...,\n",
       "        [0.],\n",
       "        [0.],\n",
       "        [0.]],\n",
       "\n",
       "       ...,\n",
       "\n",
       "       [[0.],\n",
       "        [0.],\n",
       "        [0.],\n",
       "        ...,\n",
       "        [0.],\n",
       "        [0.],\n",
       "        [0.]],\n",
       "\n",
       "       [[0.],\n",
       "        [0.],\n",
       "        [0.],\n",
       "        ...,\n",
       "        [0.],\n",
       "        [0.],\n",
       "        [0.]],\n",
       "\n",
       "       [[0.],\n",
       "        [0.],\n",
       "        [0.],\n",
       "        ...,\n",
       "        [0.],\n",
       "        [0.],\n",
       "        [0.]]])"
      ]
     },
     "execution_count": 32,
     "metadata": {},
     "output_type": "execute_result"
    }
   ],
   "source": [
    "train_features[-1].numpy().astype(float)"
   ]
  },
  {
   "cell_type": "code",
   "execution_count": 33,
   "id": "60cefb66",
   "metadata": {},
   "outputs": [
    {
     "data": {
      "text/plain": [
       "<matplotlib.image.AxesImage at 0x7f91c1905fa0>"
      ]
     },
     "execution_count": 33,
     "metadata": {},
     "output_type": "execute_result"
    },
    {
     "data": {
      "image/png": "[encoded data removed]",
      "text/plain": [
       "<Figure size 720x576 with 1 Axes>"
      ]
     },
     "metadata": {
      "needs_background": "light"
     },
     "output_type": "display_data"
    }
   ],
   "source": [
    "plt.imshow(train_features[0][10][2].permute(1, 2, 0))"
   ]
  },
  {
   "cell_type": "markdown",
   "id": "67594435",
   "metadata": {},
   "source": [
    "So, my world model needs to predict the next observation given the previous action and observation. Outputs are the next latent state."
   ]
  },
  {
   "cell_type": "code",
   "execution_count": 34,
   "id": "bbf8a9d4",
   "metadata": {},
   "outputs": [],
   "source": [
    "class TestWM(nn.Module):\n",
    "    def __init__(self, hidden_size=600):\n",
    "        super().__init__()\n",
    "        # RSSM number of units — 600\n",
    "        self.rnn = nn.GRU(256, hidden_size, batch_first=True)\n",
    "    \n",
    "    def forward(self, image_latent, vector, action, h_0):\n",
    "        x = torch.cat((image_latent, vector, action), -1)\n",
    "        output, last_hidden = self.rnn(x)\n",
    "        return output, last_hidden\n",
    "        "
   ]
  },
  {
   "cell_type": "code",
   "execution_count": 35,
   "id": "b3ee9284",
   "metadata": {},
   "outputs": [],
   "source": [
    "class VisionEncoder(nn.Module):\n",
    "    def __init__(self, latent_size=128, activation=nn.ELU):\n",
    "        super().__init__()\n",
    "        self.encoder = nn.Sequential(\n",
    "            nn.Conv2d(3, 32, 4, stride=2),\n",
    "            activation(),\n",
    "            nn.Conv2d(32, 64, 4, stride=2),\n",
    "            activation(),\n",
    "            nn.Conv2d(64, 128, 4, stride=2),\n",
    "            activation(),\n",
    "            nn.Conv2d(128, 256, 4, stride=2),\n",
    "            activation(),\n",
    "            nn.Flatten(),\n",
    "            nn.Linear(1024, latent_size),\n",
    "        )\n",
    "    \n",
    "    def forward(self, input):\n",
    "        x = self.encoder(input)\n",
    "        return x"
   ]
  },
  {
   "cell_type": "code",
   "execution_count": 36,
   "id": "5d0f6ebe",
   "metadata": {},
   "outputs": [],
   "source": [
    "class VisionDecoder(nn.Module):\n",
    "    def __init__(self, latent_size=128, activation=nn.ELU):\n",
    "        super().__init__()\n",
    "        self.decoder = nn.Sequential(\n",
    "            nn.Linear(latent_size, 1024),\n",
    "            nn.Unflatten(-1, (1024, 1, 1)),\n",
    "            nn.ConvTranspose2d(1024, 128, 5, stride=2),\n",
    "            activation(),\n",
    "            nn.ConvTranspose2d(128, 64, 5, stride=2),\n",
    "            activation(),\n",
    "            nn.ConvTranspose2d(64, 32, 6, stride=2),\n",
    "            activation(),\n",
    "            nn.ConvTranspose2d(32, 3, 6, stride=2),\n",
    "            nn.Sigmoid(),\n",
    "        )\n",
    "    \n",
    "    def forward(self, input):\n",
    "        x = self.decoder(input)\n",
    "        return x"
   ]
  },
  {
   "cell_type": "code",
   "execution_count": 37,
   "id": "8e1590c1",
   "metadata": {},
   "outputs": [],
   "source": [
    "class DreamerMLP(nn.Module):\n",
    "    def __init__(self, input_size, output_size, inner_size=400):\n",
    "        super().__init__()\n",
    "        activation = nn.ELU\n",
    "        self.decoder = nn.Sequential(\n",
    "            nn.Linear(input_size, inner_size),\n",
    "            activation(),\n",
    "            nn.Linear(inner_size, inner_size),\n",
    "            activation(),\n",
    "            nn.Linear(inner_size, inner_size),\n",
    "            activation(),\n",
    "            nn.Linear(inner_size, output_size),\n",
    "            activation(),\n",
    "        )\n",
    "    \n",
    "    def forward(self, input):\n",
    "        return self.decoder(input)"
   ]
  },
  {
   "cell_type": "code",
   "execution_count": 73,
   "id": "be5c2970",
   "metadata": {},
   "outputs": [],
   "source": [
    "class FullDreamerWM(nn.Module):\n",
    "    \"\"\"\n",
    "    https://arxiv.org/pdf/2010.02193.pdf\n",
    "    \"\"\"\n",
    "    \n",
    "    def __init__(self, hidden_size=600, vision_size=256, vec_size=64, action_size=64):\n",
    "        super().__init__()\n",
    "        obs_size = vision_size + vec_size\n",
    "        hz_size = obs_size + hidden_size\n",
    "        self.encoder = VisionEncoder(vision_size)  # vision representation\n",
    "        self.decoder = VisionDecoder(hz_size)  # image predictor\n",
    "        self.rnn = nn.GRUCell(obs_size + action_size, hidden_size)  # recurrent model\n",
    "        self.rep = DreamerMLP(hz_size, obs_size)  # representiation model\n",
    "        self.reward = DreamerMLP(hz_size, 1)  # reward predictor\n",
    "        self.done = DreamerMLP(hz_size, 1) # discount predictor\n",
    "        self.vec = nn.Linear(hz_size, vec_size)\n",
    "        self.hidden_size = hidden_size\n",
    "        \n",
    "        # TODO: Add the transition predictor and the agent parts\n",
    "        self.transition = DreamerMLP(hidden_size, obs_size)\n",
    "        \n",
    "    \n",
    "    def train_step(self, hp, x, zp, a):\n",
    "        if hp is None:\n",
    "            h = torch.zeros((x.shape[0], self.hidden_size), device=x.device)\n",
    "        else:\n",
    "            h = self.rnn(torch.cat((zp, a), -1), hp)\n",
    "        \n",
    "        z = self.rep(torch.cat((h, x), -1))\n",
    "        \n",
    "        return h, z\n",
    "        \n",
    "        \n",
    "        \n",
    "    \n",
    "    def wm_train_batch(self, povs, vecs, actions, rewards, dones):\n",
    "        # TODO: Train the transition predictor\n",
    "        \n",
    "        # unsequence the povs\n",
    "        timesteps, batch_size, C, H, W = povs.shape\n",
    "\n",
    "        for_cnn = povs.view(timesteps * batch_size, C, H, W)\n",
    "        \n",
    "        pov_latents = self.encoder(for_cnn)\n",
    "        nan_canary(pov_latents)\n",
    "        \n",
    "        # resequence the latents\n",
    "        pov_latents_seq = pov_latents.view(timesteps, batch_size, -1)\n",
    "        \n",
    "        x = torch.cat((pov_latents_seq, vecs), -1)\n",
    "        \n",
    "        h = None\n",
    "        z = None\n",
    "        hs = []\n",
    "        zs = []\n",
    "        \n",
    "        for i in range(timesteps):\n",
    "            h, z = self.train_step(h, x[i], z, actions[i])\n",
    "\n",
    "            hs.append(h)\n",
    "            zs.append(z)\n",
    "        \n",
    "        h = torch.stack(hs)\n",
    "        z = torch.stack(zs)\n",
    "        \n",
    "        h_for_heads = h.view(timesteps * batch_size, -1)\n",
    "        z_for_heads = z.view(timesteps * batch_size, -1)\n",
    "        \n",
    "        hz = torch.cat((h_for_heads, z_for_heads), -1)\n",
    "        nan_canary(hz)\n",
    "        \n",
    "        prediction = self.transition(h_for_heads)\n",
    "        \n",
    "        reward_result = self.reward(hz).view(timesteps, batch_size, -1)\n",
    "        done_result = self.done(hz).view(timesteps, batch_size, -1)\n",
    "        \n",
    "        decoded = self.decoder(hz).view(timesteps, batch_size, C, H, W)\n",
    "        vec_decoded = self.vec(hz).view(timesteps, batch_size, -1)\n",
    "        \n",
    "        pov_recons_loss = F.l1_loss(povs, decoded)\n",
    "        vec_recons_loss = F.mse_loss(vec_decoded, vecs)\n",
    "        \n",
    "        reward_loss = F.mse_loss(reward_result, torch.log2(rewards + 1) / 10.0)\n",
    "        done_loss = F.mse_loss(done_result, dones)\n",
    "        \n",
    "        prediction_loss = F.mse_loss(prediction, z_for_heads)\n",
    "        \n",
    "        total_loss = pov_recons_loss + vec_recons_loss + reward_loss + done_loss + prediction_loss\n",
    "        \n",
    "        return total_loss, pov_recons_loss, vec_recons_loss, reward_loss, done_loss, prediction_loss"
   ]
  },
  {
   "cell_type": "code",
   "execution_count": 39,
   "id": "f6123cb0",
   "metadata": {},
   "outputs": [],
   "source": [
    "model = FullDreamerWM().cuda()"
   ]
  },
  {
   "cell_type": "code",
   "execution_count": 67,
   "id": "74d100d5",
   "metadata": {},
   "outputs": [],
   "source": [
    "optimizer = optim.Adam(model.parameters(), lr=LEARNING_RATE, weight_decay=0.00025, amsgrad=True)"
   ]
  },
  {
   "cell_type": "code",
   "execution_count": 41,
   "id": "9f062903",
   "metadata": {},
   "outputs": [],
   "source": [
    "train_features = [x.cuda() for x in train_features]\n",
    "povs, vecs, actions, rewards, dones = train_features"
   ]
  },
  {
   "cell_type": "code",
   "execution_count": 42,
   "id": "11b05674",
   "metadata": {},
   "outputs": [
    {
     "data": {
      "text/plain": [
       "torch.float32"
      ]
     },
     "execution_count": 42,
     "metadata": {},
     "output_type": "execute_result"
    }
   ],
   "source": [
    "povs.dtype"
   ]
  },
  {
   "cell_type": "code",
   "execution_count": 43,
   "id": "57ac4027",
   "metadata": {},
   "outputs": [],
   "source": [
    "loss = model.wm_train_batch(povs, vecs, actions, rewards, dones)"
   ]
  },
  {
   "cell_type": "code",
   "execution_count": 44,
   "id": "87d3306a",
   "metadata": {},
   "outputs": [],
   "source": [
    "loss = None"
   ]
  },
  {
   "cell_type": "code",
   "execution_count": 45,
   "id": "8b0d86f0",
   "metadata": {},
   "outputs": [],
   "source": [
    "losses = []\n",
    "raw_losses = []\n",
    "pov_losses = []\n",
    "vec_losses = []\n",
    "prediction_losses = []\n",
    "reward_losses = []\n",
    "done_losses = []"
   ]
  },
  {
   "cell_type": "code",
   "execution_count": 68,
   "id": "c8d83b05",
   "metadata": {},
   "outputs": [
    {
     "name": "stderr",
     "output_type": "stream",
     "text": [
      "100%|████████████████████████████████████████████████████████████████████████████████████████████████████████████| 59893/59892.6875 [5:29:35<00:00,  3.03batch/s, [1, 59850] loss: 0.05110381]\n",
      " 32%|█████████████████████████████████▊                                                                        | 19123/59892.6875 [1:45:13<3:44:19,  3.03batch/s, [2, 19100] loss: 0.05344084]\n"
     ]
    },
    {
     "ename": "KeyboardInterrupt",
     "evalue": "",
     "output_type": "error",
     "traceback": [
      "\u001b[0;31m---------------------------------------------------------------------------\u001b[0m",
      "\u001b[0;31mKeyboardInterrupt\u001b[0m                         Traceback (most recent call last)",
      "\u001b[0;32m/tmp/ipykernel_490327/3837864545.py\u001b[0m in \u001b[0;36m<module>\u001b[0;34m\u001b[0m\n\u001b[1;32m     14\u001b[0m             \u001b[0mnan_canary\u001b[0m\u001b[0;34m(\u001b[0m\u001b[0mloss\u001b[0m\u001b[0;34m[\u001b[0m\u001b[0;36m1\u001b[0m\u001b[0;34m]\u001b[0m\u001b[0;34m)\u001b[0m\u001b[0;34m\u001b[0m\u001b[0;34m\u001b[0m\u001b[0m\n\u001b[1;32m     15\u001b[0m \u001b[0;34m\u001b[0m\u001b[0m\n\u001b[0;32m---> 16\u001b[0;31m             \u001b[0mloss\u001b[0m\u001b[0;34m[\u001b[0m\u001b[0;36m0\u001b[0m\u001b[0;34m]\u001b[0m\u001b[0;34m.\u001b[0m\u001b[0mbackward\u001b[0m\u001b[0;34m(\u001b[0m\u001b[0;34m)\u001b[0m\u001b[0;34m\u001b[0m\u001b[0;34m\u001b[0m\u001b[0m\n\u001b[0m\u001b[1;32m     17\u001b[0m             \u001b[0mnn\u001b[0m\u001b[0;34m.\u001b[0m\u001b[0mutils\u001b[0m\u001b[0;34m.\u001b[0m\u001b[0mclip_grad_norm_\u001b[0m\u001b[0;34m(\u001b[0m\u001b[0mmodel\u001b[0m\u001b[0;34m.\u001b[0m\u001b[0mparameters\u001b[0m\u001b[0;34m(\u001b[0m\u001b[0;34m)\u001b[0m\u001b[0;34m,\u001b[0m \u001b[0mmax_norm\u001b[0m\u001b[0;34m=\u001b[0m\u001b[0;36m1.0\u001b[0m\u001b[0;34m)\u001b[0m\u001b[0;34m\u001b[0m\u001b[0;34m\u001b[0m\u001b[0m\n\u001b[1;32m     18\u001b[0m             \u001b[0moptimizer\u001b[0m\u001b[0;34m.\u001b[0m\u001b[0mstep\u001b[0m\u001b[0;34m(\u001b[0m\u001b[0;34m)\u001b[0m\u001b[0;34m\u001b[0m\u001b[0;34m\u001b[0m\u001b[0m\n",
      "\u001b[0;32m~/.pyenv/versions/3.9.6/envs/minerl/lib/python3.9/site-packages/torch/_tensor.py\u001b[0m in \u001b[0;36mbackward\u001b[0;34m(self, gradient, retain_graph, create_graph, inputs)\u001b[0m\n\u001b[1;32m    253\u001b[0m                 \u001b[0mcreate_graph\u001b[0m\u001b[0;34m=\u001b[0m\u001b[0mcreate_graph\u001b[0m\u001b[0;34m,\u001b[0m\u001b[0;34m\u001b[0m\u001b[0;34m\u001b[0m\u001b[0m\n\u001b[1;32m    254\u001b[0m                 inputs=inputs)\n\u001b[0;32m--> 255\u001b[0;31m         \u001b[0mtorch\u001b[0m\u001b[0;34m.\u001b[0m\u001b[0mautograd\u001b[0m\u001b[0;34m.\u001b[0m\u001b[0mbackward\u001b[0m\u001b[0;34m(\u001b[0m\u001b[0mself\u001b[0m\u001b[0;34m,\u001b[0m \u001b[0mgradient\u001b[0m\u001b[0;34m,\u001b[0m \u001b[0mretain_graph\u001b[0m\u001b[0;34m,\u001b[0m \u001b[0mcreate_graph\u001b[0m\u001b[0;34m,\u001b[0m \u001b[0minputs\u001b[0m\u001b[0;34m=\u001b[0m\u001b[0minputs\u001b[0m\u001b[0;34m)\u001b[0m\u001b[0;34m\u001b[0m\u001b[0;34m\u001b[0m\u001b[0m\n\u001b[0m\u001b[1;32m    256\u001b[0m \u001b[0;34m\u001b[0m\u001b[0m\n\u001b[1;32m    257\u001b[0m     \u001b[0;32mdef\u001b[0m \u001b[0mregister_hook\u001b[0m\u001b[0;34m(\u001b[0m\u001b[0mself\u001b[0m\u001b[0;34m,\u001b[0m \u001b[0mhook\u001b[0m\u001b[0;34m)\u001b[0m\u001b[0;34m:\u001b[0m\u001b[0;34m\u001b[0m\u001b[0;34m\u001b[0m\u001b[0m\n",
      "\u001b[0;32m~/.pyenv/versions/3.9.6/envs/minerl/lib/python3.9/site-packages/torch/autograd/__init__.py\u001b[0m in \u001b[0;36mbackward\u001b[0;34m(tensors, grad_tensors, retain_graph, create_graph, grad_variables, inputs)\u001b[0m\n\u001b[1;32m    145\u001b[0m         \u001b[0mretain_graph\u001b[0m \u001b[0;34m=\u001b[0m \u001b[0mcreate_graph\u001b[0m\u001b[0;34m\u001b[0m\u001b[0;34m\u001b[0m\u001b[0m\n\u001b[1;32m    146\u001b[0m \u001b[0;34m\u001b[0m\u001b[0m\n\u001b[0;32m--> 147\u001b[0;31m     Variable._execution_engine.run_backward(\n\u001b[0m\u001b[1;32m    148\u001b[0m         \u001b[0mtensors\u001b[0m\u001b[0;34m,\u001b[0m \u001b[0mgrad_tensors_\u001b[0m\u001b[0;34m,\u001b[0m \u001b[0mretain_graph\u001b[0m\u001b[0;34m,\u001b[0m \u001b[0mcreate_graph\u001b[0m\u001b[0;34m,\u001b[0m \u001b[0minputs\u001b[0m\u001b[0;34m,\u001b[0m\u001b[0;34m\u001b[0m\u001b[0;34m\u001b[0m\u001b[0m\n\u001b[1;32m    149\u001b[0m         allow_unreachable=True, accumulate_grad=True)  # allow_unreachable flag\n",
      "\u001b[0;31mKeyboardInterrupt\u001b[0m: "
     ]
    }
   ],
   "source": [
    "loss_steps = 50\n",
    "epochs = 10\n",
    "\n",
    "for epoch in range(epochs):\n",
    "    running_loss = 0\n",
    "    with tqdm(enumerate(train_dataloader, 0), total=len(dataset)/BATCH_SIZE, unit=\"batch\") as t:\n",
    "        for i, data in t:\n",
    "            # get the inputs\n",
    "            data = [x.cuda() for x in data]\n",
    "            povs, vecs, actions, rewards, dones = data\n",
    "\n",
    "            nan_canary(povs)\n",
    "            loss = model.wm_train_batch(povs, vecs, actions, rewards, dones)\n",
    "            nan_canary(loss[1])\n",
    "        \n",
    "            loss[0].backward()\n",
    "            nn.utils.clip_grad_norm_(model.parameters(), max_norm=1.0)\n",
    "            optimizer.step()\n",
    "            \n",
    "            loss = [x.item() for x in loss]\n",
    "\n",
    "            \n",
    "            raw_losses.append(loss[0])\n",
    "            pov_losses.append(loss[1])\n",
    "            vec_losses.append(loss[2])\n",
    "            prediction_losses.append(loss[5])\n",
    "            reward_losses.append(loss[3])\n",
    "            done_losses.append(loss[4])\n",
    "\n",
    "\n",
    "            # print statistics\n",
    "            running_loss += loss[0]\n",
    "            if i % loss_steps == loss_steps - 1:  # print every N mini-batches\n",
    "                string = '[%d, %5d] loss: %.8f' % (epoch + 1, i + 1, running_loss / loss_steps)\n",
    "                t.set_postfix_str(string)\n",
    "                losses.append(running_loss / loss_steps)\n",
    "    #             scheduler.step(running_loss)\n",
    "                running_loss = 0.0"
   ]
  },
  {
   "cell_type": "code",
   "execution_count": 72,
   "id": "a6161e1d",
   "metadata": {},
   "outputs": [
    {
     "data": {
      "image/png": "[encoded data removed]",
      "text/plain": [
       "<Figure size 720x576 with 1 Axes>"
      ]
     },
     "metadata": {
      "needs_background": "light"
     },
     "output_type": "display_data"
    }
   ],
   "source": [
    "plt.plot(prediction_losses)\n",
    "plt.yscale('log')\n",
    "plt.xscale('log')"
   ]
  },
  {
   "cell_type": "code",
   "execution_count": 196,
   "id": "f3090c96",
   "metadata": {},
   "outputs": [],
   "source": [
    "c = '+'\n",
    "num = 6"
   ]
  },
  {
   "cell_type": "code",
   "execution_count": 197,
   "id": "a39b2f24",
   "metadata": {},
   "outputs": [
    {
     "name": "stdout",
     "output_type": "stream",
     "text": [
      "++++++\n",
      "+    +\n",
      "+    +\n",
      "+    +\n",
      "+    +\n",
      "++++++\n"
     ]
    }
   ],
   "source": [
    "for i in range(num):\n",
    "    for j in range(num):\n",
    "        if i in [0, num-1] or j in [0,num-1]:\n",
    "            print(c, end='')\n",
    "        else:\n",
    "            print(\" \", end='')\n",
    "    print()"
   ]
  },
  {
   "cell_type": "code",
   "execution_count": 58,
   "id": "afb77497",
   "metadata": {},
   "outputs": [],
   "source": [
    "from delve import CheckLayerSat"
   ]
  },
  {
   "cell_type": "code",
   "execution_count": 60,
   "id": "e096d30f",
   "metadata": {},
   "outputs": [
    {
     "name": "stdout",
     "output_type": "stream",
     "text": [
      "added layer encoder-encoder-0\n",
      "Skipping encoder-encoder-1\n",
      "added layer encoder-encoder-2\n",
      "Skipping encoder-encoder-3\n",
      "added layer encoder-encoder-4\n",
      "Skipping encoder-encoder-5\n",
      "added layer encoder-encoder-6\n",
      "Skipping encoder-encoder-7\n",
      "Skipping encoder-encoder-8\n",
      "added layer encoder-encoder-9\n",
      "added layer decoder-decoder-0\n",
      "Skipping decoder-decoder-1\n",
      "Skipping decoder-decoder-2\n",
      "Skipping decoder-decoder-3\n",
      "Skipping decoder-decoder-4\n",
      "Skipping decoder-decoder-5\n",
      "Skipping decoder-decoder-6\n",
      "Skipping decoder-decoder-7\n",
      "Skipping decoder-decoder-8\n",
      "Skipping decoder-decoder-9\n",
      "Skipping rnn\n",
      "added layer rep-decoder-0\n",
      "Skipping rep-decoder-1\n",
      "added layer rep-decoder-2\n",
      "Skipping rep-decoder-3\n",
      "added layer rep-decoder-4\n",
      "Skipping rep-decoder-5\n",
      "added layer rep-decoder-6\n",
      "Skipping rep-decoder-7\n",
      "added layer reward-decoder-0\n",
      "Skipping reward-decoder-1\n",
      "added layer reward-decoder-2\n",
      "Skipping reward-decoder-3\n",
      "added layer reward-decoder-4\n",
      "Skipping reward-decoder-5\n",
      "added layer reward-decoder-6\n",
      "Skipping reward-decoder-7\n",
      "added layer done-decoder-0\n",
      "Skipping done-decoder-1\n",
      "added layer done-decoder-2\n",
      "Skipping done-decoder-3\n",
      "added layer done-decoder-4\n",
      "Skipping done-decoder-5\n",
      "added layer done-decoder-6\n",
      "Skipping done-decoder-7\n",
      "added layer vec\n",
      "added layer transition-decoder-0\n",
      "Skipping transition-decoder-1\n",
      "added layer transition-decoder-2\n",
      "Skipping transition-decoder-3\n",
      "added layer transition-decoder-4\n",
      "Skipping transition-decoder-5\n",
      "added layer transition-decoder-6\n",
      "Skipping transition-decoder-7\n"
     ]
    }
   ],
   "source": [
    "tracker = CheckLayerSat(\"my_experiment\", save_to=\"plotcsv\", modules=model, device=next(model.parameters()).device)    "
   ]
  },
  {
   "cell_type": "code",
   "execution_count": 70,
   "id": "102875ff",
   "metadata": {},
   "outputs": [
    {
     "name": "stdout",
     "output_type": "stream",
     "text": [
      "my_experiment_lsat_train_epoch_2.png\n"
     ]
    },
    {
     "data": {
      "image/png": "[encoded data removed]",
      "text/plain": [
       "<Figure size 720x576 with 1 Axes>"
      ]
     },
     "metadata": {
      "needs_background": "light"
     },
     "output_type": "display_data"
    }
   ],
   "source": [
    "loss = model.wm_train_batch(povs, vecs, actions, rewards, dones)\n",
    "tracker.add_saturations()"
   ]
  },
  {
   "cell_type": "code",
   "execution_count": null,
   "id": "dd518159",
   "metadata": {},
   "outputs": [],
   "source": []
  }
 ],
 "metadata": {
  "kernelspec": {
   "display_name": "Python 3 (ipykernel)",
   "language": "python",
   "name": "python3"
  },
  "language_info": {
   "codemirror_mode": {
    "name": "ipython",
    "version": 3
   },
   "file_extension": ".py",
   "mimetype": "text/x-python",
   "name": "python",
   "nbconvert_exporter": "python",
   "pygments_lexer": "ipython3",
   "version": "3.9.6"
  }
 },
 "nbformat": 4,
 "nbformat_minor": 5
}
