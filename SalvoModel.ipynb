{
 "cells": [
  {
   "cell_type": "code",
   "execution_count": null,
   "id": "9fa84658",
   "metadata": {},
   "outputs": [],
   "source": [
    "\"\"\"\n",
    "Survivability goes up by cube root of tonnage\n",
    "max salvo size goes up superlinearly with tonnage\n",
    "\n",
    "Salvo sizes: (tonnage: salvo, defense+self_defense (class))\n",
    "66: 2 (komar class missile boat)\n",
    "235: 4 (Osa II missile boat)\n",
    "450: 6 (sa'ar 4 class missile boat)\n",
    "540: 4-16? (Tarantul class corvette)\n",
    "1275: 8, +32 (Sa'ar 5-class corvette)\n",
    "1900: 16, 16+40 (Sa'ar 6-class corvette)\n",
    "2200: 8, 12 (Steregushchiy-class corvette)\n",
    "\n",
    "7570: 8, 64 (Udaloy-class destroyer)\n",
    "9800: 8+?, 122*2/3 (Ticonderoga-class cruiser)\n",
    "11500: 16, 64+40 (Slava-class cruiser)\n",
    "28000: 20, 96+64(Kirov-class battlecruiser)\n",
    "100000: 150*4, +8 (Nimitz Class Carrier)\n",
    "\"\"\"\n",
    "None"
   ]
  },
  {
   "cell_type": "code",
   "execution_count": null,
   "id": "c0d6dd15",
   "metadata": {},
   "outputs": [],
   "source": [
    "ships = {\n",
    "    \"\"\n",
    "}"
   ]
  },
  {
   "cell_type": "code",
   "execution_count": 1,
   "id": "4196b44b",
   "metadata": {},
   "outputs": [],
   "source": [
    "speed_of_sound = 767.269 # mph"
   ]
  },
  {
   "cell_type": "code",
   "execution_count": 3,
   "id": "6ba93d07",
   "metadata": {},
   "outputs": [
    {
     "data": {
      "text/plain": [
       "0.21313027777777777"
      ]
     },
     "execution_count": 3,
     "metadata": {},
     "output_type": "execute_result"
    }
   ],
   "source": [
    "speed_of_sound / 3600 # to mps"
   ]
  },
  {
   "cell_type": "code",
   "execution_count": 5,
   "id": "598e3ea0",
   "metadata": {},
   "outputs": [
    {
     "data": {
      "text/plain": [
       "56.303591048250354"
      ]
     },
     "execution_count": 5,
     "metadata": {},
     "output_type": "execute_result"
    }
   ],
   "source": [
    "12 /(speed_of_sound / 3600)"
   ]
  },
  {
   "cell_type": "code",
   "execution_count": null,
   "id": "884e8cf1",
   "metadata": {},
   "outputs": [],
   "source": [
    "# so one minute to intercept with self defense sams\n"
   ]
  },
  {
   "cell_type": "markdown",
   "id": "9c8f4725",
   "metadata": {},
   "source": [
    "Asumptions:\n",
    "\n",
    "All AShMs are Exocets.\n",
    "Staying power scales with the cube root of tonnage. - Or is 2.5 root or square root better?\n",
    "1 Exocet required for a mission kill at 1kt.\n",
    "Twice mission kill firepower sinks a ship.\n",
    "\n",
    "From Fleet Tactics:\n",
    "Aircraft carrier: 7\n",
    "Aegis Cruiser: 3\n",
    "Frigate: 1-2\n",
    "Patrol Craft: 1\n",
    "This is more like sqrt(tonnage/1000)\n",
    "That's assuming survivability scales at (1 + (length - 300)/100)\n",
    "Perry class was 450 ft, so 2.5?\n",
    "Midway was 900ft, so 7\n",
    "Nimitz is 1050ft, so 8.5\n",
    "\n",
    "Mk41 cells: 15t for 8c strike length. "
   ]
  }
 ],
 "metadata": {
  "kernelspec": {
   "display_name": "Python 3 (ipykernel)",
   "language": "python",
   "name": "python3"
  },
  "language_info": {
   "codemirror_mode": {
    "name": "ipython",
    "version": 3
   },
   "file_extension": ".py",
   "mimetype": "text/x-python",
   "name": "python",
   "nbconvert_exporter": "python",
   "pygments_lexer": "ipython3",
   "version": "3.9.6"
  }
 },
 "nbformat": 4,
 "nbformat_minor": 5
}
