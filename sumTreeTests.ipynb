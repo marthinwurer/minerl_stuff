{
 "cells": [
  {
   "cell_type": "code",
   "execution_count": 1,
   "id": "550dc5cf",
   "metadata": {},
   "outputs": [],
   "source": [
    "# now I need to implement prioritized experience replay. The original implementation uses a sum tree.\n",
    "\n",
    "# From ChatGPT\n",
    "class SumTree:\n",
    "    def __init__(self, capacity):\n",
    "        self.capacity = capacity\n",
    "        self.tree = [0] * (2 * capacity - 1)\n",
    "        self.data = [None] * capacity\n",
    "        self.write_index = 0\n",
    "        self.sum = 0\n",
    "\n",
    "    def _propagate(self, index, diff):\n",
    "        self.tree[index] += diff\n",
    "        while index != 0:\n",
    "            index = (index - 1) // 2\n",
    "            self.tree[index] += diff\n",
    "\n",
    "    def _retrieve(self, index, value):\n",
    "        left = 2 * index + 1\n",
    "        right = left + 1\n",
    "        if left >= len(self.tree):\n",
    "            return index\n",
    "        if value <= self.tree[left]:\n",
    "            return self._retrieve(left, value)\n",
    "        else:\n",
    "            return self._retrieve(right, value - self.tree[left])\n",
    "\n",
    "    def insert(self, priority, data):\n",
    "        index = self.write_index + self.capacity - 1\n",
    "        self.data[self.write_index] = data\n",
    "        self.write_index += 1\n",
    "        self._propagate(index, priority - self.tree[index])\n",
    "\n",
    "\n",
    "    def query(self, value):\n",
    "        index = self._retrieve(0, value)\n",
    "        data_index = index - self.capacity + 1\n",
    "        data = self.data[data_index]\n",
    "        return data, data_index\n"
   ]
  },
  {
   "cell_type": "code",
   "execution_count": 2,
   "id": "5f68f149",
   "metadata": {},
   "outputs": [],
   "source": [
    "# I need to implement my own sumtree if I want to not use 2x the entries and also be able to remove entries. \n",
    "class SumTree:\n",
    "    def __init__(self, capacity):\n",
    "        self.capacity = capacity\n",
    "        self.tree = [None] * capacity\n",
    "        self.size = 0\n",
    "        self.sum = 0\n",
    "        \n",
    "        # nodes have a tuple of (value, data, sum)\n",
    "        # sum is value of both sides plus current value.\n",
    "    \n",
    "    def _propagate(self, index, diff):\n",
    "        # I don't think we need this because we're starting from a leaf node.\n",
    "#         self.tree[index] += diff\n",
    "        while index != 0:\n",
    "            index = (index - 1) // 2\n",
    "            self.tree[index][2] += diff\n",
    "    \n",
    "    def remove(self, index):\n",
    "        # get the index value\n",
    "        # reverse propagate the value\n",
    "        # get the last index value\n",
    "        # depropagate the value\n",
    "        # move it to the old spot\n"
   ]
  },
  {
   "cell_type": "code",
   "execution_count": 3,
   "id": "015893d1",
   "metadata": {},
   "outputs": [],
   "source": [
    "def test_sum_tree_edge_cases():\n",
    "    capacity = 10\n",
    "    sum_tree = SumTree(capacity)\n",
    "\n",
    "    # Test empty tree\n",
    "    assert sum_tree.query(0) is None\n",
    "\n",
    "    # Test adding values\n",
    "    for i in range(capacity):\n",
    "        sum_tree.insert(0.1, i)\n",
    "    print(sum_tree.tree)\n",
    "\n",
    "\n",
    "    # Test querying values\n",
    "    assert sum_tree.query(0) == 0\n",
    "    assert sum_tree.query(1) == 1\n",
    "    assert sum_tree.query(3) == 3\n",
    "    assert sum_tree.query(6) == 6\n",
    "    assert sum_tree.query(7) == 7\n",
    "\n",
    "    # Test removing values\n",
    "\n",
    "    # Test inserting more values than capacity\n"
   ]
  },
  {
   "cell_type": "code",
   "execution_count": 4,
   "id": "2620dfb8",
   "metadata": {},
   "outputs": [],
   "source": [
    "# Ok, I think I need to implement this as a basic binary tree with the sum as an extra target.\n",
    "# good diagrams on rotation here: https://betsybaileyy.github.io/AVL_Tree/\n",
    "class BinaryTreeNode:\n",
    "    def __init__(self, data):\n",
    "        self.left = None\n",
    "        self.right = None\n",
    "        self.parent = None\n",
    "        self.data = data\n",
    "        self.height = 1"
   ]
  },
  {
   "cell_type": "code",
   "execution_count": 5,
   "id": "f1c168b5",
   "metadata": {},
   "outputs": [],
   "source": [
    "def height(node):\n",
    "    if node is None:\n",
    "        return 0\n",
    "    return node.height"
   ]
  },
  {
   "cell_type": "code",
   "execution_count": null,
   "id": "56a736a3",
   "metadata": {},
   "outputs": [],
   "source": [
    "def rotate_left(node):\n",
    "    \"\"\"\n",
    "      A\n",
    "    D   B\n",
    "       E C\n",
    "    \n",
    "       B\n",
    "     A   C\n",
    "    D E\n",
    "    \n",
    "    return the new root so we don't have to deal with the parent.\n",
    "    \"\"\"\n",
    "    a = node\n",
    "    b = node.right\n",
    "    "
   ]
  },
  {
   "cell_type": "code",
   "execution_count": 6,
   "id": "bf553cb3",
   "metadata": {},
   "outputs": [],
   "source": [
    "# Or I can just implement a basic sum tree, then update the values when we get new data!\n",
    "# store the data in a regular replay buffer, store that index in the sum tree, then when we get to overwriting,\n",
    "# we can just change the index and update the value back through the tree!\n",
    "# this even works for weighting the priority of previous states upwards!\n",
    "# We can just index into the tree with the right index and increase the priority!\n"
   ]
  },
  {
   "cell_type": "code",
   "execution_count": 39,
   "id": "693fc897",
   "metadata": {},
   "outputs": [],
   "source": [
    "\"\"\"\n",
    "From https://github.com/rlcode/per/blob/master/SumTree.py\n",
    "\"\"\"\n",
    "import numpy\n",
    "\n",
    "\n",
    "# SumTree\n",
    "# a binary tree data structure where the parent’s value is the sum of its children\n",
    "class SumTree:\n",
    "    write = 0\n",
    "\n",
    "    def __init__(self, capacity):\n",
    "        self.capacity = capacity\n",
    "        self.tree = numpy.zeros(2 * capacity - 1)\n",
    "        self.data = numpy.zeros(capacity, dtype=object)\n",
    "        self.n_entries = 0\n",
    "\n",
    "    # update to the root node\n",
    "    def _propagate(self, idx, change):\n",
    "        parent = (idx - 1) // 2\n",
    "\n",
    "        self.tree[parent] += change\n",
    "\n",
    "        if parent != 0:\n",
    "            self._propagate(parent, change)\n",
    "\n",
    "    # find sample on leaf node\n",
    "    def _retrieve(self, idx, s):\n",
    "        left = 2 * idx + 1\n",
    "        right = left + 1\n",
    "\n",
    "        if left >= len(self.tree):\n",
    "            return idx\n",
    "\n",
    "        if s <= self.tree[left]:\n",
    "            return self._retrieve(left, s)\n",
    "        else:\n",
    "            return self._retrieve(right, s - self.tree[left])\n",
    "\n",
    "    def total(self):\n",
    "        return self.tree[0]\n",
    "    \n",
    "    def data_idx(self, idx):\n",
    "        return (idx + self.capacity + 1) % self.capacity\n",
    "    \n",
    "    def tree_idx(self, d_idx):\n",
    "        return d_idx + self.capacity - 1\n",
    "\n",
    "    # store priority and sample\n",
    "    def add(self, p, data):\n",
    "        idx = self.write + self.capacity - 1\n",
    "\n",
    "        self.data[self.write] = data\n",
    "        self.update(idx, p)\n",
    "\n",
    "        self.write += 1\n",
    "        if self.write >= self.capacity:\n",
    "            self.write = 0\n",
    "\n",
    "        if self.n_entries < self.capacity:\n",
    "            self.n_entries += 1\n",
    "        return idx\n",
    "\n",
    "    # update priority\n",
    "    def update(self, idx, p):\n",
    "        change = p - self.tree[idx]\n",
    "\n",
    "        self.tree[idx] = p\n",
    "        self._propagate(idx, change)\n",
    "\n",
    "    # get priority and sample\n",
    "    def get(self, s):\n",
    "        idx = self._retrieve(0, s)\n",
    "        dataIdx = idx - self.capacity + 1\n",
    "\n",
    "        return (idx, self.tree[idx], self.data[dataIdx])"
   ]
  },
  {
   "cell_type": "code",
   "execution_count": 45,
   "id": "193d1e1d",
   "metadata": {},
   "outputs": [
    {
     "data": {
      "text/plain": [
       "2016"
      ]
     },
     "execution_count": 45,
     "metadata": {},
     "output_type": "execute_result"
    }
   ],
   "source": [
    "tree = SumTree(64)\n",
    "total = 0\n",
    "for i in range(64):\n",
    "    assert i == tree.data_idx(tree.tree_idx(i))\n",
    "    assert 0 <= tree.data_idx(tree.tree_idx(i) + 1) < tree.capacity\n",
    "    assert 0 <= tree.data_idx(tree.tree_idx(i) - 1) < tree.capacity\n",
    "    tree.add(i, i)\n",
    "    total += i\n",
    "    assert tree.total() == total\n",
    "total"
   ]
  },
  {
   "cell_type": "code",
   "execution_count": 34,
   "id": "a0818f0f",
   "metadata": {},
   "outputs": [
    {
     "data": {
      "text/plain": [
       "63.0"
      ]
     },
     "execution_count": 34,
     "metadata": {},
     "output_type": "execute_result"
    }
   ],
   "source": [
    "tree.tree[-1]"
   ]
  },
  {
   "cell_type": "code",
   "execution_count": 35,
   "id": "e0269a0f",
   "metadata": {},
   "outputs": [
    {
     "data": {
      "text/plain": [
       "((64, 1.0, 1), (65, 2.0, 2), (65, 2.0, 2), (66, 3.0, 3))"
      ]
     },
     "execution_count": 35,
     "metadata": {},
     "output_type": "execute_result"
    }
   ],
   "source": [
    "tree.get(1), tree.get(2), tree.get(3), tree.get(4), "
   ]
  },
  {
   "cell_type": "code",
   "execution_count": 47,
   "id": "c751ec8c",
   "metadata": {},
   "outputs": [
    {
     "data": {
      "text/plain": [
       "64.0"
      ]
     },
     "execution_count": 47,
     "metadata": {},
     "output_type": "execute_result"
    }
   ],
   "source": [
    "tree.total()"
   ]
  },
  {
   "cell_type": "code",
   "execution_count": 48,
   "id": "c17cbd89",
   "metadata": {},
   "outputs": [
    {
     "data": {
      "text/plain": [
       "64.0"
      ]
     },
     "execution_count": 48,
     "metadata": {},
     "output_type": "execute_result"
    }
   ],
   "source": [
    "for i in range(64):\n",
    "    tree.update(tree.tree_idx(i), 1)\n",
    "tree.total()"
   ]
  },
  {
   "cell_type": "code",
   "execution_count": 14,
   "id": "12d1b544",
   "metadata": {},
   "outputs": [],
   "source": [
    "# actually the default implementation just kinda works. How did I doubt them?\n",
    "# I think I just need to figure out the default value and then it'll be fine."
   ]
  },
  {
   "cell_type": "code",
   "execution_count": 37,
   "id": "b16987bf",
   "metadata": {},
   "outputs": [],
   "source": [
    "# replay buffer. Store (s, a, r, s_n, d) tuples\n",
    "class PrioritizedReplayBuffer:\n",
    "    def __init__(self, max_size=1000000):\n",
    "        self.tree = SumTree(max_size)\n",
    "    \n",
    "    def add(self, s, a, r, s_n, d):\n",
    "        self.tree.add(1, (s, a, r, s_n, d))\n",
    "    \n",
    "    def sample_batch(self, batch_size):\n",
    "        batch = []\n",
    "        for i in range(batch_size):\n",
    "            batch.append(self.tree.get(random.random() * self.tree.total()))\n",
    "        return batch\n",
    "    \n",
    "    def add_all(self, sarsd):\n",
    "        for i in sarsd:\n",
    "            buffer.add(*i)\n",
    "    \n",
    "    def update(self, idx, p):\n",
    "        self.tree.update(idx, p)"
   ]
  },
  {
   "cell_type": "code",
   "execution_count": null,
   "id": "f489d4c1",
   "metadata": {},
   "outputs": [],
   "source": []
  },
  {
   "cell_type": "code",
   "execution_count": null,
   "id": "b3078f61",
   "metadata": {},
   "outputs": [],
   "source": []
  }
 ],
 "metadata": {
  "kernelspec": {
   "display_name": "Python 3 (ipykernel)",
   "language": "python",
   "name": "python3"
  },
  "language_info": {
   "codemirror_mode": {
    "name": "ipython",
    "version": 3
   },
   "file_extension": ".py",
   "mimetype": "text/x-python",
   "name": "python",
   "nbconvert_exporter": "python",
   "pygments_lexer": "ipython3",
   "version": "3.9.6"
  }
 },
 "nbformat": 4,
 "nbformat_minor": 5
}
