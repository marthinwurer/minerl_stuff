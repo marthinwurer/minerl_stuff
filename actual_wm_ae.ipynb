{
 "cells": [
  {
   "cell_type": "code",
   "execution_count": 1,
   "id": "102f756a",
   "metadata": {},
   "outputs": [],
   "source": [
    "%matplotlib inline\n",
    "%load_ext autoreload\n",
    "%autoreload 2"
   ]
  },
  {
   "cell_type": "code",
   "execution_count": 2,
   "id": "5d322998",
   "metadata": {},
   "outputs": [
    {
     "name": "stderr",
     "output_type": "stream",
     "text": [
      "/home/marthinwurer/.pyenv/versions/3.9.6/envs/minerl/lib/python3.9/site-packages/gym/logger.py:34: UserWarning: \u001b[33mWARN: Box bound precision lowered by casting to float32\u001b[0m\n",
      "  warnings.warn(colorize(\"%s: %s\" % (\"WARN\", msg % args), \"yellow\"))\n"
     ]
    }
   ],
   "source": [
    "import matplotlib.pyplot as plt\n",
    "import numpy as np\n",
    "import torch\n",
    "import minerl\n",
    "from tqdm import tqdm\n",
    "\n",
    "from torch import nn, optim\n",
    "import torch.nn.functional as F\n",
    "from torch.optim.lr_scheduler import ReduceLROnPlateau\n",
    "from utilities import flatten, unflatten, to_batch_shape, to_torch_channels"
   ]
  },
  {
   "cell_type": "code",
   "execution_count": 3,
   "id": "129d8677",
   "metadata": {},
   "outputs": [],
   "source": [
    "import matplotlib\n",
    "matplotlib.rcParams['figure.figsize'] = [10, 8]"
   ]
  },
  {
   "cell_type": "code",
   "execution_count": null,
   "id": "977d6b9c",
   "metadata": {},
   "outputs": [],
   "source": [
    "import autoencoder"
   ]
  },
  {
   "cell_type": "code",
   "execution_count": 5,
   "id": "c356c0ea",
   "metadata": {},
   "outputs": [],
   "source": [
    "# BATCH_SIZE = 512\n",
    "BATCH_SIZE = 256\n",
    "# BATCH_SIZE = 128\n",
    "# BATCH_SIZE = 64\n",
    "# BATCH_SIZE = 32\n",
    "# BATCH_SIZE = 8\n",
    "LEARNING_RATE = 0.0001\n",
    "EPOCHS = 30\n",
    "MOMENTUM = 0.9\n",
    "# IN_POWER = 8\n",
    "# IN_POWER = 6\n",
    "in_dim = 64"
   ]
  },
  {
   "cell_type": "code",
   "execution_count": 6,
   "id": "f0bf43dc",
   "metadata": {},
   "outputs": [],
   "source": [
    "def reparameterize(mu, logvar):\n",
    "    std = torch.exp(0.5 * logvar)\n",
    "    eps = torch.randn_like(std)\n",
    "    return eps * std + mu\n",
    "\n",
    "\n",
    "def kld_loss(mu, log_var):\n",
    "    kld_loss = torch.mean(-0.5 * torch.sum(1 + log_var - mu ** 2 - log_var.exp(), dim=1), dim=0)\n",
    "    return kld_loss"
   ]
  },
  {
   "cell_type": "code",
   "execution_count": 7,
   "id": "30c74e0c",
   "metadata": {},
   "outputs": [],
   "source": [
    "class VAELatent(nn.Module):\n",
    "    def __init__(self, latent_size, input_size):\n",
    "        super().__init__()\n",
    "        self.mu = nn.Linear(input_size, latent_size)\n",
    "        self.logvar = nn.Linear(input_size, latent_size)\n",
    "    \n",
    "    def forward(self, input):\n",
    "        x = input\n",
    "        x = torch.flatten(x, 1)\n",
    "        mu = self.mu(x)\n",
    "        logvar = self.logvar(x)\n",
    "        z = reparameterize(mu, logvar)\n",
    "        return (z, mu, logvar)"
   ]
  },
  {
   "cell_type": "code",
   "execution_count": 8,
   "id": "4fda3174",
   "metadata": {},
   "outputs": [],
   "source": [
    "class WM_VAE(nn.Module):\n",
    "    def __init__(self):\n",
    "        super().__init__()\n",
    "        activation = nn.ReLU\n",
    "        self.encoder = nn.Sequential(\n",
    "            nn.Conv2d(3, 32, 4, stride=2),\n",
    "            activation(),\n",
    "            nn.Conv2d(32, 64, 4, stride=2),\n",
    "            activation(),\n",
    "            nn.Conv2d(64, 128, 4, stride=2),\n",
    "            activation(),\n",
    "            nn.Conv2d(128, 256, 4, stride=2),\n",
    "            activation(),\n",
    "        )\n",
    "        \n",
    "        self.latent = VAELatent(128, 1024)\n",
    "        \n",
    "        self.unlatent = nn.Linear(128, 1024)\n",
    "        \n",
    "        self.decoder = nn.Sequential(\n",
    "            nn.ConvTranspose2d(1024, 128, 5, stride=2),\n",
    "            activation(),\n",
    "            nn.ConvTranspose2d(128, 64, 5, stride=2),\n",
    "            activation(),\n",
    "            nn.ConvTranspose2d(64, 32, 6, stride=2),\n",
    "            activation(),\n",
    "            nn.ConvTranspose2d(32, 3, 6, stride=2),\n",
    "            nn.Sigmoid(),\n",
    "        )\n",
    "    \n",
    "    def forward(self, input):\n",
    "        encoded = self.encoder(input)\n",
    "        latent = self.latent(encoded)\n",
    "        x = self.unlatent(latent[0])\n",
    "#         print(x.shape)\n",
    "        x = unflatten(x)\n",
    "#         print(x.shape)\n",
    "        decoded = self.decoder(x)\n",
    "#         print(decoded.shape)\n",
    "        return decoded, latent"
   ]
  },
  {
   "cell_type": "code",
   "execution_count": 9,
   "id": "51a8bc6b",
   "metadata": {},
   "outputs": [],
   "source": [
    "def vae_loss(inputs, outputs, latents):\n",
    "    z, mu, logvar = latents\n",
    "    recon = F.mse_loss(inputs, outputs)\n",
    "    kl = kld_loss(mu, logvar) * .0\n",
    "    return recon + kl, recon, kl"
   ]
  },
  {
   "cell_type": "code",
   "execution_count": 10,
   "id": "a7494b32",
   "metadata": {},
   "outputs": [],
   "source": [
    "import shapes_dataset"
   ]
  },
  {
   "cell_type": "code",
   "execution_count": 11,
   "id": "071df7d9",
   "metadata": {},
   "outputs": [],
   "source": [
    "shapes = shapes_dataset.build_shape_dataset(64, 64, 100000)"
   ]
  },
  {
   "cell_type": "code",
   "execution_count": 12,
   "id": "cdfd6bcb",
   "metadata": {},
   "outputs": [
    {
     "data": {
      "text/plain": [
       "<matplotlib.image.AxesImage at 0x7f0ca1745a00>"
      ]
     },
     "execution_count": 12,
     "metadata": {},
     "output_type": "execute_result"
    },
    {
     "data": {
      "image/png": "[encoded data removed]",
      "text/plain": [
       "<Figure size 720x576 with 1 Axes>"
      ]
     },
     "metadata": {
      "needs_background": "light"
     },
     "output_type": "display_data"
    }
   ],
   "source": [
    "plt.imshow(shapes[2])"
   ]
  },
  {
   "cell_type": "code",
   "execution_count": 13,
   "id": "788fdfe8",
   "metadata": {},
   "outputs": [],
   "source": [
    "from torch.utils.data import Dataset\n",
    "from torchvision import datasets\n",
    "from torchvision.transforms import ToTensor\n",
    "from torch.utils.data import DataLoader"
   ]
  },
  {
   "cell_type": "code",
   "execution_count": 14,
   "id": "b2c0ce50",
   "metadata": {},
   "outputs": [],
   "source": [
    "class ShapeDataset(Dataset):\n",
    "    def __init__(self, images, transform=None):\n",
    "        self.images = images\n",
    "        self.transform = transform\n",
    "\n",
    "    def __len__(self):\n",
    "        return len(self.images)\n",
    "\n",
    "    def __getitem__(self, idx):\n",
    "        image = self.images[idx]\n",
    "        if self.transform:\n",
    "            image = self.transform(image)\n",
    "        return image"
   ]
  },
  {
   "cell_type": "code",
   "execution_count": 15,
   "id": "4297fba6",
   "metadata": {},
   "outputs": [],
   "source": [
    "sd = ShapeDataset(shapes)"
   ]
  },
  {
   "cell_type": "code",
   "execution_count": 16,
   "id": "b3a2d276",
   "metadata": {},
   "outputs": [],
   "source": [
    "train_dataloader = DataLoader(sd, batch_size=BATCH_SIZE, shuffle=True)"
   ]
  },
  {
   "cell_type": "code",
   "execution_count": 17,
   "id": "9cf94f13",
   "metadata": {},
   "outputs": [],
   "source": [
    "train_features = next(iter(train_dataloader))"
   ]
  },
  {
   "cell_type": "code",
   "execution_count": 18,
   "id": "6014e386",
   "metadata": {},
   "outputs": [
    {
     "data": {
      "text/plain": [
       "torch.Size([256, 64, 64, 3])"
      ]
     },
     "execution_count": 18,
     "metadata": {},
     "output_type": "execute_result"
    }
   ],
   "source": [
    "train_features.shape"
   ]
  },
  {
   "cell_type": "code",
   "execution_count": 19,
   "id": "5f8803cb",
   "metadata": {},
   "outputs": [
    {
     "data": {
      "text/plain": [
       "(64, 64, 3)"
      ]
     },
     "execution_count": 19,
     "metadata": {},
     "output_type": "execute_result"
    }
   ],
   "source": [
    "shapes[0].shape"
   ]
  },
  {
   "cell_type": "code",
   "execution_count": 89,
   "id": "6e146bdc",
   "metadata": {},
   "outputs": [],
   "source": [
    "model = WM_VAE().cuda()\n",
    "loss_func = vae_loss"
   ]
  },
  {
   "cell_type": "code",
   "execution_count": 90,
   "id": "737628c5",
   "metadata": {},
   "outputs": [],
   "source": [
    "# from AdvancedAutoencoder import AdvancedAutoencoder\n",
    "# model = AdvancedAutoencoder().cuda()\n",
    "# loss_func = autoencoder.mse_loss"
   ]
  },
  {
   "cell_type": "code",
   "execution_count": 91,
   "id": "67a8ee5d",
   "metadata": {},
   "outputs": [],
   "source": [
    "optimizer = optim.Adam(model.parameters(), lr=LEARNING_RATE)"
   ]
  },
  {
   "cell_type": "code",
   "execution_count": 92,
   "id": "e3b316e8",
   "metadata": {},
   "outputs": [],
   "source": [
    "from matplotlib.lines import Line2D\n",
    "def plot_grad_flow(named_parameters):\n",
    "    '''Plots the gradients flowing through different layers in the net during training.\n",
    "    Can be used for checking for possible gradient vanishing / exploding problems.\n",
    "    \n",
    "    Usage: Plug this function in Trainer class after loss.backwards() as \n",
    "    \"plot_grad_flow(self.model.named_parameters())\" to visualize the gradient flow'''\n",
    "    ave_grads = []\n",
    "    max_grads= []\n",
    "    layers = []\n",
    "    for n, p in named_parameters:\n",
    "        if(p.requires_grad) and (\"bias\" not in n):\n",
    "            layers.append(n)\n",
    "            ave_grads.append(p.grad.abs().mean().cpu())\n",
    "            max_grads.append(p.grad.abs().max().cpu())\n",
    "    plt.bar(np.arange(len(max_grads)), max_grads, alpha=0.1, lw=1, color=\"c\")\n",
    "    plt.bar(np.arange(len(max_grads)), ave_grads, alpha=0.1, lw=1, color=\"b\")\n",
    "    plt.hlines(0, 0, len(ave_grads)+1, lw=2, color=\"k\" )\n",
    "    plt.xticks(range(0,len(ave_grads), 1), layers, rotation=\"vertical\")\n",
    "    plt.xlim(left=0, right=len(ave_grads))\n",
    "#     plt.ylim(bottom = -0.001, top=0.02) # zoom in on the lower gradient regions\n",
    "    plt.xlabel(\"Layers\")\n",
    "    plt.ylabel(\"average gradient\")\n",
    "    plt.title(\"Gradient flow\")\n",
    "    plt.grid(True)\n",
    "    plt.legend([Line2D([0], [0], color=\"c\", lw=4),\n",
    "                Line2D([0], [0], color=\"b\", lw=4),\n",
    "                Line2D([0], [0], color=\"k\", lw=4)], ['max-gradient', 'mean-gradient', 'zero-gradient'])\n"
   ]
  },
  {
   "cell_type": "code",
   "execution_count": 93,
   "id": "678011cc",
   "metadata": {},
   "outputs": [],
   "source": [
    "def train_batch(inputs, model, optimizer, loss_func):\n",
    "    # get the inputs\n",
    "    inputs = inputs.cuda()\n",
    "\n",
    "    if torch.isnan(inputs).any():\n",
    "        print(\"There's a NaN input!\")\n",
    "        return None\n",
    "\n",
    "    # zero the parameter gradients\n",
    "    optimizer.zero_grad()\n",
    "\n",
    "    # forward + backward + optimize\n",
    "    outputs, latents = model(inputs)\n",
    "\n",
    "    if torch.isnan(outputs).any():\n",
    "        print(\"There's a NaN output!\")\n",
    "        return None\n",
    "    loss = loss_func(inputs, outputs, latents)\n",
    "    if isinstance(loss, tuple):\n",
    "        loss[0].backward()\n",
    "    else:\n",
    "        loss.backward()\n",
    "    \n",
    "#     plot_grad_flow(model.named_parameters())\n",
    "\n",
    "    nn.utils.clip_grad_norm_(model.parameters(), max_norm=1.0)\n",
    "    optimizer.step()\n",
    "    return loss"
   ]
  },
  {
   "cell_type": "code",
   "execution_count": 94,
   "id": "6241b810",
   "metadata": {},
   "outputs": [],
   "source": [
    "losses = []\n",
    "raw_losses = []\n",
    "recons = []\n",
    "kls = []"
   ]
  },
  {
   "cell_type": "code",
   "execution_count": 97,
   "id": "3b5b29ff",
   "metadata": {},
   "outputs": [
    {
     "name": "stderr",
     "output_type": "stream",
     "text": [
      "391batch [00:24, 15.76batch/s, [1,   350] loss: 0.00868971]\n",
      "391batch [00:24, 15.64batch/s, [2,   350] loss: 0.00844086]\n",
      "391batch [00:25, 15.60batch/s, [3,   350] loss: 0.00816132]\n",
      "391batch [00:25, 15.55batch/s, [4,   350] loss: 0.00796414]\n",
      "391batch [00:25, 15.52batch/s, [5,   350] loss: 0.00771201]\n",
      "391batch [00:25, 15.52batch/s, [6,   350] loss: 0.00754162]\n",
      "391batch [00:25, 15.51batch/s, [7,   350] loss: 0.00741237]\n",
      "391batch [00:25, 15.49batch/s, [8,   350] loss: 0.00722544]\n",
      "391batch [00:25, 15.48batch/s, [9,   350] loss: 0.00700231]\n",
      "391batch [00:25, 15.47batch/s, [10,   350] loss: 0.00679718]\n",
      "391batch [00:25, 15.46batch/s, [11,   350] loss: 0.00669575]\n",
      "391batch [00:25, 15.47batch/s, [12,   350] loss: 0.00659784]\n",
      "391batch [00:25, 15.48batch/s, [13,   350] loss: 0.00649811]\n",
      "391batch [00:25, 15.46batch/s, [14,   350] loss: 0.00639752]\n",
      "391batch [00:25, 15.49batch/s, [15,   350] loss: 0.00622210]\n",
      "391batch [00:25, 15.47batch/s, [16,   350] loss: 0.00615100]\n",
      "391batch [00:25, 15.48batch/s, [17,   350] loss: 0.00605793]\n",
      "391batch [00:25, 15.48batch/s, [18,   350] loss: 0.00592486]\n",
      "391batch [00:25, 15.48batch/s, [19,   350] loss: 0.00590095]\n",
      "391batch [00:25, 15.48batch/s, [20,   350] loss: 0.00580143]\n",
      "391batch [00:25, 15.48batch/s, [21,   350] loss: 0.00571652]\n",
      "391batch [00:25, 15.48batch/s, [22,   350] loss: 0.00562149]\n",
      "391batch [00:25, 15.47batch/s, [23,   350] loss: 0.00552525]\n",
      "391batch [00:25, 15.47batch/s, [24,   350] loss: 0.00543274]\n",
      "391batch [00:25, 15.47batch/s, [25,   350] loss: 0.00540781]\n",
      "391batch [00:25, 15.48batch/s, [26,   350] loss: 0.00534659]\n",
      "391batch [00:25, 15.48batch/s, [27,   350] loss: 0.00525601]\n",
      "391batch [00:25, 15.48batch/s, [28,   350] loss: 0.00523111]\n",
      "391batch [00:25, 15.48batch/s, [29,   350] loss: 0.00521261]\n",
      "391batch [00:25, 15.48batch/s, [30,   350] loss: 0.00513764]\n",
      "391batch [00:25, 15.47batch/s, [31,   350] loss: 0.00509599]\n",
      "391batch [00:25, 15.47batch/s, [32,   350] loss: 0.00504889]\n",
      "391batch [00:25, 15.47batch/s, [33,   350] loss: 0.00497110]\n",
      "391batch [00:25, 15.47batch/s, [34,   350] loss: 0.00494125]\n",
      "391batch [00:25, 15.47batch/s, [35,   350] loss: 0.00485528]\n",
      "391batch [00:25, 15.48batch/s, [36,   350] loss: 0.00483743]\n",
      "391batch [00:25, 15.48batch/s, [37,   350] loss: 0.00472790]\n",
      "391batch [00:25, 15.48batch/s, [38,   350] loss: 0.00470991]\n",
      "391batch [00:25, 15.47batch/s, [39,   350] loss: 0.00471241]\n",
      "391batch [00:25, 15.51batch/s, [40,   350] loss: 0.00470279]\n",
      "391batch [00:25, 15.47batch/s, [41,   350] loss: 0.00467923]\n",
      "391batch [00:25, 15.49batch/s, [42,   350] loss: 0.00457097]\n",
      "391batch [00:25, 15.47batch/s, [43,   350] loss: 0.00455151]\n",
      "391batch [00:25, 15.47batch/s, [44,   350] loss: 0.00448695]\n",
      "391batch [00:25, 15.47batch/s, [45,   350] loss: 0.00447638]\n",
      "391batch [00:25, 15.50batch/s, [46,   350] loss: 0.00448478]\n",
      "391batch [00:25, 15.49batch/s, [47,   350] loss: 0.00444659]\n",
      "391batch [00:25, 15.49batch/s, [48,   350] loss: 0.00436962]\n",
      "391batch [00:25, 15.47batch/s, [49,   350] loss: 0.00438583]\n",
      "391batch [00:25, 15.45batch/s, [50,   350] loss: 0.00438415]\n",
      "391batch [00:25, 15.42batch/s, [51,   350] loss: 0.00433015]\n",
      "391batch [00:25, 15.42batch/s, [52,   350] loss: 0.00430170]\n",
      "391batch [00:25, 15.42batch/s, [53,   350] loss: 0.00425524]\n",
      "391batch [00:25, 15.42batch/s, [54,   350] loss: 0.00427439]\n",
      "391batch [00:25, 15.41batch/s, [55,   350] loss: 0.00417936]\n",
      "391batch [00:25, 15.42batch/s, [56,   350] loss: 0.00417917]\n",
      "391batch [00:25, 15.42batch/s, [57,   350] loss: 0.00420277]\n",
      "391batch [00:25, 15.42batch/s, [58,   350] loss: 0.00417534]\n",
      "391batch [00:25, 15.42batch/s, [59,   350] loss: 0.00410498]\n",
      "391batch [00:25, 15.42batch/s, [60,   350] loss: 0.00410724]\n",
      "391batch [00:25, 15.44batch/s, [61,   350] loss: 0.00412963]\n",
      "391batch [00:25, 15.42batch/s, [62,   350] loss: 0.00407385]\n",
      "391batch [00:25, 15.41batch/s, [63,   350] loss: 0.00407297]\n",
      "391batch [00:25, 15.42batch/s, [64,   350] loss: 0.00405061]\n",
      "391batch [00:25, 15.42batch/s, [65,   350] loss: 0.00400293]\n",
      "391batch [00:25, 15.44batch/s, [66,   350] loss: 0.00391788]\n",
      "391batch [00:25, 15.42batch/s, [67,   350] loss: 0.00394959]\n",
      "391batch [00:25, 15.47batch/s, [68,   350] loss: 0.00392942]\n",
      "391batch [00:25, 15.43batch/s, [69,   350] loss: 0.00393930]\n",
      "391batch [00:25, 15.43batch/s, [70,   350] loss: 0.00390791]\n",
      "391batch [00:25, 15.43batch/s, [71,   350] loss: 0.00388017]\n",
      "391batch [00:25, 15.42batch/s, [72,   350] loss: 0.00389220]\n",
      "391batch [00:25, 15.43batch/s, [73,   350] loss: 0.00386448]\n",
      "391batch [00:25, 15.42batch/s, [74,   350] loss: 0.00382090]\n",
      "391batch [00:25, 15.41batch/s, [75,   350] loss: 0.00377954]\n",
      "391batch [00:25, 15.43batch/s, [76,   350] loss: 0.00378472]\n",
      "391batch [00:25, 15.42batch/s, [77,   350] loss: 0.00377294]\n",
      "391batch [00:25, 15.43batch/s, [78,   350] loss: 0.00375984]\n",
      "391batch [00:25, 15.41batch/s, [79,   350] loss: 0.00372571]\n",
      "391batch [00:25, 15.43batch/s, [80,   350] loss: 0.00371695]\n",
      "391batch [00:25, 15.43batch/s, [81,   350] loss: 0.00371199]\n",
      "391batch [00:25, 15.43batch/s, [82,   350] loss: 0.00368714]\n",
      "391batch [00:25, 15.42batch/s, [83,   350] loss: 0.00367322]\n",
      "391batch [00:25, 15.44batch/s, [84,   350] loss: 0.00365532]\n",
      "391batch [00:25, 15.43batch/s, [85,   350] loss: 0.00371509]\n",
      "391batch [00:25, 15.43batch/s, [86,   350] loss: 0.00358899]\n",
      "391batch [00:25, 15.46batch/s, [87,   350] loss: 0.00360266]\n",
      "391batch [00:25, 15.46batch/s, [88,   350] loss: 0.00360819]\n",
      "391batch [00:25, 15.44batch/s, [89,   350] loss: 0.00363948]\n",
      "391batch [00:25, 15.42batch/s, [90,   350] loss: 0.00360248]\n",
      "391batch [00:25, 15.43batch/s, [91,   350] loss: 0.00358020]\n",
      "391batch [00:25, 15.43batch/s, [92,   350] loss: 0.00356714]\n",
      "391batch [00:25, 15.43batch/s, [93,   350] loss: 0.00358143]\n",
      "391batch [00:25, 15.43batch/s, [94,   350] loss: 0.00352293]\n",
      "391batch [00:25, 15.44batch/s, [95,   350] loss: 0.00353528]\n",
      "391batch [00:25, 15.43batch/s, [96,   350] loss: 0.00350772]\n",
      "391batch [00:25, 15.46batch/s, [97,   350] loss: 0.00351767]\n",
      "391batch [00:25, 15.43batch/s, [98,   350] loss: 0.00350044]\n",
      "391batch [00:25, 15.43batch/s, [99,   350] loss: 0.00350101]\n",
      "391batch [00:25, 15.46batch/s, [100,   350] loss: 0.00350894]\n",
      "391batch [00:25, 15.44batch/s, [101,   350] loss: 0.00349159]\n",
      "391batch [00:25, 15.43batch/s, [102,   350] loss: 0.00346471]\n",
      "391batch [00:25, 15.43batch/s, [103,   350] loss: 0.00345648]\n",
      "391batch [00:25, 15.42batch/s, [104,   350] loss: 0.00342521]\n",
      "391batch [00:25, 15.40batch/s, [105,   350] loss: 0.00342049]\n",
      "391batch [00:25, 15.41batch/s, [106,   350] loss: 0.00345137]\n",
      "391batch [00:25, 15.41batch/s, [107,   350] loss: 0.00345720]\n",
      "391batch [00:25, 15.42batch/s, [108,   350] loss: 0.00342390]\n",
      "391batch [00:25, 15.42batch/s, [109,   350] loss: 0.00341309]\n",
      "391batch [00:25, 15.42batch/s, [110,   350] loss: 0.00338950]\n",
      "391batch [00:25, 15.41batch/s, [111,   350] loss: 0.00338107]\n",
      "391batch [00:25, 15.42batch/s, [112,   350] loss: 0.00338666]\n",
      "391batch [00:25, 15.42batch/s, [113,   350] loss: 0.00338246]\n",
      "391batch [00:25, 15.41batch/s, [114,   350] loss: 0.00339416]\n",
      "391batch [00:25, 15.42batch/s, [115,   350] loss: 0.00335138]\n",
      "391batch [00:25, 15.42batch/s, [116,   350] loss: 0.00331949]\n",
      "391batch [00:25, 15.42batch/s, [117,   350] loss: 0.00336671]\n",
      "391batch [00:25, 15.43batch/s, [118,   350] loss: 0.00336906]\n",
      "391batch [00:25, 15.42batch/s, [119,   350] loss: 0.00331706]\n",
      "391batch [00:25, 15.42batch/s, [120,   350] loss: 0.00330693]\n",
      "391batch [00:25, 15.41batch/s, [121,   350] loss: 0.00330587]\n",
      "391batch [00:25, 15.41batch/s, [122,   350] loss: 0.00329337]\n",
      "391batch [00:25, 15.41batch/s, [123,   350] loss: 0.00328954]\n",
      "391batch [00:25, 15.42batch/s, [124,   350] loss: 0.00329661]\n",
      "391batch [00:25, 15.43batch/s, [125,   350] loss: 0.00329166]\n",
      "391batch [00:25, 15.44batch/s, [126,   350] loss: 0.00327887]\n",
      "391batch [00:25, 15.43batch/s, [127,   350] loss: 0.00323175]\n",
      "391batch [00:25, 15.43batch/s, [128,   350] loss: 0.00327444]\n",
      "391batch [00:25, 15.45batch/s, [129,   350] loss: 0.00325294]\n",
      "391batch [00:25, 15.43batch/s, [130,   350] loss: 0.00327055]\n",
      "391batch [00:25, 15.43batch/s, [131,   350] loss: 0.00326206]\n",
      "391batch [00:25, 15.43batch/s, [132,   350] loss: 0.00327667]\n",
      "391batch [00:25, 15.44batch/s, [133,   350] loss: 0.00321600]\n"
     ]
    },
    {
     "name": "stderr",
     "output_type": "stream",
     "text": [
      "391batch [00:25, 15.43batch/s, [134,   350] loss: 0.00325101]\n",
      "391batch [00:25, 15.42batch/s, [135,   350] loss: 0.00320918]\n",
      "391batch [00:25, 15.42batch/s, [136,   350] loss: 0.00322786]\n",
      "391batch [00:25, 15.42batch/s, [137,   350] loss: 0.00322430]\n",
      "391batch [00:25, 15.47batch/s, [138,   350] loss: 0.00322052]\n",
      "391batch [00:25, 15.43batch/s, [139,   350] loss: 0.00318922]\n",
      "391batch [00:25, 15.43batch/s, [140,   350] loss: 0.00321526]\n",
      "391batch [00:25, 15.43batch/s, [141,   350] loss: 0.00318529]\n",
      "391batch [00:25, 15.42batch/s, [142,   350] loss: 0.00318530]\n",
      "391batch [00:25, 15.38batch/s, [143,   350] loss: 0.00321045]\n",
      "391batch [00:25, 15.42batch/s, [144,   350] loss: 0.00318806]\n",
      "391batch [00:25, 15.42batch/s, [145,   350] loss: 0.00315399]\n",
      "391batch [00:25, 15.42batch/s, [146,   350] loss: 0.00314543]\n",
      "391batch [00:25, 15.43batch/s, [147,   350] loss: 0.00314515]\n",
      "391batch [00:25, 15.44batch/s, [148,   350] loss: 0.00314080]\n",
      "391batch [00:25, 15.44batch/s, [149,   350] loss: 0.00314219]\n",
      "391batch [00:25, 15.43batch/s, [150,   350] loss: 0.00314003]\n",
      "391batch [00:25, 15.43batch/s, [151,   350] loss: 0.00314831]\n",
      "391batch [00:25, 15.39batch/s, [152,   350] loss: 0.00311804]\n",
      "391batch [00:25, 15.38batch/s, [153,   350] loss: 0.00313010]\n",
      "391batch [00:25, 15.41batch/s, [154,   350] loss: 0.00309520]\n",
      "391batch [00:25, 15.42batch/s, [155,   350] loss: 0.00311736]\n",
      "391batch [00:25, 15.42batch/s, [156,   350] loss: 0.00311623]\n",
      "391batch [00:25, 15.42batch/s, [157,   350] loss: 0.00311087]\n",
      "391batch [00:25, 15.46batch/s, [158,   350] loss: 0.00312042]\n",
      "391batch [00:25, 15.47batch/s, [159,   350] loss: 0.00312696]\n",
      "391batch [00:25, 15.43batch/s, [160,   350] loss: 0.00311228]\n",
      "391batch [00:25, 15.42batch/s, [161,   350] loss: 0.00308285]\n",
      "391batch [00:25, 15.41batch/s, [162,   350] loss: 0.00310538]\n",
      "391batch [00:25, 15.42batch/s, [163,   350] loss: 0.00307987]\n",
      "391batch [00:25, 15.44batch/s, [164,   350] loss: 0.00307329]\n",
      "391batch [00:25, 15.44batch/s, [165,   350] loss: 0.00307328]\n",
      "391batch [00:25, 15.44batch/s, [166,   350] loss: 0.00305393]\n",
      "391batch [00:25, 15.44batch/s, [167,   350] loss: 0.00304143]\n",
      "391batch [00:25, 15.43batch/s, [168,   350] loss: 0.00308210]\n",
      "391batch [00:25, 15.44batch/s, [169,   350] loss: 0.00303298]\n",
      "391batch [00:25, 15.42batch/s, [170,   350] loss: 0.00303288]\n",
      "391batch [00:25, 15.41batch/s, [171,   350] loss: 0.00301650]\n",
      "391batch [00:25, 15.42batch/s, [172,   350] loss: 0.00304253]\n",
      "391batch [00:25, 15.43batch/s, [173,   350] loss: 0.00299288]\n",
      "391batch [00:25, 15.43batch/s, [174,   350] loss: 0.00300048]\n",
      "391batch [00:25, 15.43batch/s, [175,   350] loss: 0.00300955]\n",
      "391batch [00:25, 15.44batch/s, [176,   350] loss: 0.00302024]\n",
      "391batch [00:25, 15.42batch/s, [177,   350] loss: 0.00301606]\n",
      "391batch [00:25, 15.42batch/s, [178,   350] loss: 0.00300088]\n",
      "391batch [00:25, 15.40batch/s, [179,   350] loss: 0.00298169]\n",
      "391batch [00:25, 15.42batch/s, [180,   350] loss: 0.00297584]\n",
      "391batch [00:25, 15.41batch/s, [181,   350] loss: 0.00300777]\n",
      "391batch [00:25, 15.42batch/s, [182,   350] loss: 0.00301077]\n",
      "391batch [00:25, 15.41batch/s, [183,   350] loss: 0.00302561]\n",
      "391batch [00:25, 15.41batch/s, [184,   350] loss: 0.00299612]\n",
      "391batch [00:25, 15.41batch/s, [185,   350] loss: 0.00299226]\n",
      "391batch [00:25, 15.41batch/s, [186,   350] loss: 0.00297069]\n",
      "391batch [00:25, 15.42batch/s, [187,   350] loss: 0.00296830]\n",
      "391batch [00:25, 15.41batch/s, [188,   350] loss: 0.00295338]\n",
      "391batch [00:25, 15.43batch/s, [189,   350] loss: 0.00295764]\n",
      "391batch [00:25, 15.40batch/s, [190,   350] loss: 0.00293841]\n",
      "391batch [00:25, 15.44batch/s, [191,   350] loss: 0.00295744]\n",
      "391batch [00:25, 15.44batch/s, [192,   350] loss: 0.00293282]\n",
      "391batch [00:25, 15.43batch/s, [193,   350] loss: 0.00293477]\n",
      "391batch [00:25, 15.44batch/s, [194,   350] loss: 0.00294431]\n",
      "391batch [00:25, 15.43batch/s, [195,   350] loss: 0.00292282]\n",
      "391batch [00:25, 15.43batch/s, [196,   350] loss: 0.00293924]\n",
      "391batch [00:25, 15.42batch/s, [197,   350] loss: 0.00291644]\n",
      "391batch [00:25, 15.42batch/s, [198,   350] loss: 0.00293649]\n",
      "391batch [00:25, 15.42batch/s, [199,   350] loss: 0.00289601]\n",
      "391batch [00:25, 15.41batch/s, [200,   350] loss: 0.00289210]\n",
      "391batch [00:25, 15.42batch/s, [201,   350] loss: 0.00295629]\n",
      "391batch [00:25, 15.43batch/s, [202,   350] loss: 0.00291256]\n",
      "391batch [00:25, 15.42batch/s, [203,   350] loss: 0.00293264]\n",
      "391batch [00:25, 15.41batch/s, [204,   350] loss: 0.00290700]\n",
      "391batch [00:25, 15.43batch/s, [205,   350] loss: 0.00290851]\n",
      "391batch [00:25, 15.41batch/s, [206,   350] loss: 0.00289138]\n",
      "391batch [00:25, 15.45batch/s, [207,   350] loss: 0.00289234]\n",
      "391batch [00:25, 15.43batch/s, [208,   350] loss: 0.00287387]\n",
      "391batch [00:25, 15.42batch/s, [209,   350] loss: 0.00289547]\n",
      "391batch [00:25, 15.43batch/s, [210,   350] loss: 0.00286412]\n",
      "391batch [00:25, 15.42batch/s, [211,   350] loss: 0.00287101]\n",
      "391batch [00:25, 15.44batch/s, [212,   350] loss: 0.00288293]\n",
      "391batch [00:25, 15.43batch/s, [213,   350] loss: 0.00288564]\n",
      "391batch [00:25, 15.46batch/s, [214,   350] loss: 0.00285196]\n",
      "391batch [00:25, 15.44batch/s, [215,   350] loss: 0.00286069]\n",
      "391batch [00:25, 15.44batch/s, [216,   350] loss: 0.00287785]\n",
      "391batch [00:25, 15.44batch/s, [217,   350] loss: 0.00285883]\n",
      "391batch [00:25, 15.43batch/s, [218,   350] loss: 0.00284477]\n",
      "391batch [00:25, 15.43batch/s, [219,   350] loss: 0.00286230]\n",
      "391batch [00:25, 15.43batch/s, [220,   350] loss: 0.00284103]\n",
      "391batch [00:25, 15.42batch/s, [221,   350] loss: 0.00287435]\n",
      "391batch [00:25, 15.42batch/s, [222,   350] loss: 0.00283256]\n",
      "391batch [00:25, 15.42batch/s, [223,   350] loss: 0.00285138]\n",
      "391batch [00:25, 15.42batch/s, [224,   350] loss: 0.00287905]\n",
      "391batch [00:25, 15.41batch/s, [225,   350] loss: 0.00281240]\n",
      "391batch [00:25, 15.41batch/s, [226,   350] loss: 0.00284173]\n",
      "391batch [00:25, 15.40batch/s, [227,   350] loss: 0.00286447]\n",
      "391batch [00:25, 15.42batch/s, [228,   350] loss: 0.00282388]\n",
      "391batch [00:25, 15.42batch/s, [229,   350] loss: 0.00285348]\n",
      "391batch [00:25, 15.43batch/s, [230,   350] loss: 0.00282167]\n",
      "391batch [00:25, 15.43batch/s, [231,   350] loss: 0.00280961]\n",
      "391batch [00:25, 15.42batch/s, [232,   350] loss: 0.00282414]\n",
      "391batch [00:25, 15.42batch/s, [233,   350] loss: 0.00280440]\n",
      "391batch [00:25, 15.43batch/s, [234,   350] loss: 0.00282117]\n",
      "391batch [00:25, 15.44batch/s, [235,   350] loss: 0.00279751]\n",
      "391batch [00:25, 15.45batch/s, [236,   350] loss: 0.00281745]\n",
      "391batch [00:25, 15.44batch/s, [237,   350] loss: 0.00280335]\n",
      "391batch [00:25, 15.44batch/s, [238,   350] loss: 0.00279118]\n",
      "391batch [00:25, 15.43batch/s, [239,   350] loss: 0.00278559]\n",
      "391batch [00:25, 15.45batch/s, [240,   350] loss: 0.00280214]\n",
      "391batch [00:25, 15.43batch/s, [241,   350] loss: 0.00279022]\n",
      "391batch [00:25, 15.43batch/s, [242,   350] loss: 0.00281008]\n",
      "391batch [00:25, 15.44batch/s, [243,   350] loss: 0.00279462]\n",
      "391batch [00:25, 15.47batch/s, [244,   350] loss: 0.00281551]\n",
      "391batch [00:25, 15.44batch/s, [245,   350] loss: 0.00280703]\n",
      "391batch [00:25, 15.44batch/s, [246,   350] loss: 0.00278323]\n",
      "391batch [00:25, 15.46batch/s, [247,   350] loss: 0.00278713]\n",
      "391batch [00:25, 15.44batch/s, [248,   350] loss: 0.00274822]\n",
      "391batch [00:25, 15.43batch/s, [249,   350] loss: 0.00277752]\n",
      "391batch [00:25, 15.44batch/s, [250,   350] loss: 0.00278989]\n",
      "391batch [00:25, 15.45batch/s, [251,   350] loss: 0.00281625]\n",
      "391batch [00:25, 15.45batch/s, [252,   350] loss: 0.00275241]\n",
      "391batch [00:25, 15.45batch/s, [253,   350] loss: 0.00278651]\n",
      "391batch [00:25, 15.47batch/s, [254,   350] loss: 0.00275216]\n",
      "391batch [00:25, 15.43batch/s, [255,   350] loss: 0.00276773]\n",
      "391batch [00:25, 15.42batch/s, [256,   350] loss: 0.00274769]\n",
      "391batch [00:25, 15.43batch/s, [257,   350] loss: 0.00278543]\n",
      "391batch [00:25, 15.43batch/s, [258,   350] loss: 0.00277133]\n",
      "391batch [00:25, 15.42batch/s, [259,   350] loss: 0.00276358]\n",
      "391batch [00:25, 15.44batch/s, [260,   350] loss: 0.00276496]\n",
      "391batch [00:25, 15.44batch/s, [261,   350] loss: 0.00273873]\n",
      "391batch [00:25, 15.45batch/s, [262,   350] loss: 0.00273620]\n",
      "391batch [00:25, 15.43batch/s, [263,   350] loss: 0.00273690]\n",
      "391batch [00:25, 15.44batch/s, [264,   350] loss: 0.00276028]\n",
      "391batch [00:25, 15.42batch/s, [265,   350] loss: 0.00273644]\n"
     ]
    },
    {
     "name": "stderr",
     "output_type": "stream",
     "text": [
      "391batch [00:25, 15.41batch/s, [266,   350] loss: 0.00273579]\n",
      "391batch [00:25, 15.42batch/s, [267,   350] loss: 0.00271040]\n",
      "391batch [00:25, 15.43batch/s, [268,   350] loss: 0.00275149]\n",
      "391batch [00:25, 15.42batch/s, [269,   350] loss: 0.00271947]\n",
      "391batch [00:25, 15.42batch/s, [270,   350] loss: 0.00271427]\n",
      "391batch [00:25, 15.42batch/s, [271,   350] loss: 0.00270560]\n",
      "391batch [00:25, 15.43batch/s, [272,   350] loss: 0.00270230]\n",
      "391batch [00:25, 15.42batch/s, [273,   350] loss: 0.00269628]\n",
      "391batch [00:25, 15.42batch/s, [274,   350] loss: 0.00270713]\n",
      "391batch [00:25, 15.41batch/s, [275,   350] loss: 0.00269935]\n",
      "391batch [00:25, 15.44batch/s, [276,   350] loss: 0.00270889]\n",
      "391batch [00:25, 15.46batch/s, [277,   350] loss: 0.00268504]\n",
      "391batch [00:25, 15.45batch/s, [278,   350] loss: 0.00270337]\n",
      "391batch [00:25, 15.43batch/s, [279,   350] loss: 0.00271640]\n",
      "391batch [00:25, 15.44batch/s, [280,   350] loss: 0.00269463]\n",
      "391batch [00:25, 15.43batch/s, [281,   350] loss: 0.00270004]\n",
      "391batch [00:25, 15.47batch/s, [282,   350] loss: 0.00271314]\n",
      "391batch [00:25, 15.47batch/s, [283,   350] loss: 0.00266489]\n",
      "391batch [00:25, 15.49batch/s, [284,   350] loss: 0.00270797]\n",
      "391batch [00:25, 15.43batch/s, [285,   350] loss: 0.00268677]\n",
      "391batch [00:25, 15.46batch/s, [286,   350] loss: 0.00268861]\n",
      "391batch [00:25, 15.43batch/s, [287,   350] loss: 0.00269717]\n",
      "391batch [00:25, 15.43batch/s, [288,   350] loss: 0.00270172]\n",
      "391batch [00:25, 15.49batch/s, [289,   350] loss: 0.00268333]\n",
      "391batch [00:25, 15.47batch/s, [290,   350] loss: 0.00268440]\n",
      "391batch [00:25, 15.43batch/s, [291,   350] loss: 0.00269282]\n",
      "391batch [00:25, 15.46batch/s, [292,   350] loss: 0.00268679]\n",
      "391batch [00:25, 15.46batch/s, [293,   350] loss: 0.00265177]\n",
      "391batch [00:25, 15.44batch/s, [294,   350] loss: 0.00266919]\n",
      "391batch [00:25, 15.43batch/s, [295,   350] loss: 0.00265711]\n",
      "391batch [00:25, 15.43batch/s, [296,   350] loss: 0.00268675]\n",
      "391batch [00:25, 15.43batch/s, [297,   350] loss: 0.00265346]\n",
      "391batch [00:25, 15.43batch/s, [298,   350] loss: 0.00266924]\n",
      "391batch [00:25, 15.44batch/s, [299,   350] loss: 0.00269130]\n",
      "391batch [00:25, 15.44batch/s, [300,   350] loss: 0.00264570]\n",
      "391batch [00:25, 15.43batch/s, [301,   350] loss: 0.00266242]\n",
      "391batch [00:25, 15.45batch/s, [302,   350] loss: 0.00265886]\n",
      "391batch [00:25, 15.45batch/s, [303,   350] loss: 0.00264711]\n",
      "391batch [00:25, 15.45batch/s, [304,   350] loss: 0.00268255]\n",
      "391batch [00:25, 15.42batch/s, [305,   350] loss: 0.00263414]\n",
      "391batch [00:25, 15.42batch/s, [306,   350] loss: 0.00266024]\n",
      "391batch [00:25, 15.43batch/s, [307,   350] loss: 0.00265887]\n",
      "391batch [00:25, 15.41batch/s, [308,   350] loss: 0.00266771]\n",
      "391batch [00:25, 15.42batch/s, [309,   350] loss: 0.00263507]\n",
      "391batch [00:25, 15.44batch/s, [310,   350] loss: 0.00264119]\n",
      "391batch [00:25, 15.43batch/s, [311,   350] loss: 0.00263608]\n",
      "391batch [00:25, 15.42batch/s, [312,   350] loss: 0.00264628]\n",
      "391batch [00:25, 15.42batch/s, [313,   350] loss: 0.00262681]\n",
      "391batch [00:25, 15.42batch/s, [314,   350] loss: 0.00264754]\n",
      "391batch [00:25, 15.43batch/s, [315,   350] loss: 0.00263221]\n",
      "391batch [00:25, 15.46batch/s, [316,   350] loss: 0.00261875]\n",
      "391batch [00:25, 15.45batch/s, [317,   350] loss: 0.00262044]\n",
      "391batch [00:25, 15.45batch/s, [318,   350] loss: 0.00262049]\n",
      "391batch [00:25, 15.43batch/s, [319,   350] loss: 0.00262622]\n",
      "391batch [00:25, 15.45batch/s, [320,   350] loss: 0.00262916]\n",
      "391batch [00:25, 15.44batch/s, [321,   350] loss: 0.00259133]\n",
      "391batch [00:25, 15.44batch/s, [322,   350] loss: 0.00262672]\n",
      "391batch [00:25, 15.44batch/s, [323,   350] loss: 0.00262288]\n",
      "391batch [00:25, 15.44batch/s, [324,   350] loss: 0.00264425]\n",
      "391batch [00:25, 15.45batch/s, [325,   350] loss: 0.00262319]\n",
      "391batch [00:25, 15.43batch/s, [326,   350] loss: 0.00261393]\n",
      "391batch [00:25, 15.43batch/s, [327,   350] loss: 0.00260475]\n",
      "391batch [00:25, 15.44batch/s, [328,   350] loss: 0.00261443]\n",
      "391batch [00:25, 15.43batch/s, [329,   350] loss: 0.00258477]\n",
      "391batch [00:25, 15.44batch/s, [330,   350] loss: 0.00265033]\n",
      "391batch [00:25, 15.43batch/s, [331,   350] loss: 0.00257615]\n",
      "391batch [00:25, 15.44batch/s, [332,   350] loss: 0.00258716]\n",
      "391batch [00:25, 15.44batch/s, [333,   350] loss: 0.00258789]\n",
      "391batch [00:25, 15.44batch/s, [334,   350] loss: 0.00260667]\n",
      "391batch [00:25, 15.46batch/s, [335,   350] loss: 0.00259599]\n",
      "391batch [00:25, 15.46batch/s, [336,   350] loss: 0.00259415]\n",
      "391batch [00:25, 15.44batch/s, [337,   350] loss: 0.00257764]\n",
      "391batch [00:25, 15.44batch/s, [338,   350] loss: 0.00259063]\n",
      "391batch [00:25, 15.46batch/s, [339,   350] loss: 0.00260320]\n",
      "391batch [00:25, 15.45batch/s, [340,   350] loss: 0.00259638]\n",
      "391batch [00:25, 15.44batch/s, [341,   350] loss: 0.00259917]\n",
      "391batch [00:25, 15.47batch/s, [342,   350] loss: 0.00257504]\n",
      "391batch [00:25, 15.43batch/s, [343,   350] loss: 0.00257125]\n",
      "391batch [00:25, 15.46batch/s, [344,   350] loss: 0.00259849]\n",
      "391batch [00:25, 15.46batch/s, [345,   350] loss: 0.00255999]\n",
      "391batch [00:25, 15.44batch/s, [346,   350] loss: 0.00255390]\n",
      "391batch [00:25, 15.44batch/s, [347,   350] loss: 0.00258964]\n",
      "391batch [00:25, 15.44batch/s, [348,   350] loss: 0.00256561]\n",
      "391batch [00:25, 15.46batch/s, [349,   350] loss: 0.00257630]\n",
      "391batch [00:25, 15.44batch/s, [350,   350] loss: 0.00258298]\n",
      "391batch [00:25, 15.44batch/s, [351,   350] loss: 0.00257127]\n",
      "391batch [00:25, 15.46batch/s, [352,   350] loss: 0.00255480]\n",
      "391batch [00:25, 15.42batch/s, [353,   350] loss: 0.00260506]\n",
      "391batch [00:25, 15.42batch/s, [354,   350] loss: 0.00256090]\n",
      "391batch [00:25, 15.44batch/s, [355,   350] loss: 0.00252943]\n",
      "391batch [00:25, 15.44batch/s, [356,   350] loss: 0.00255334]\n",
      "391batch [00:25, 15.45batch/s, [357,   350] loss: 0.00258056]\n",
      "391batch [00:25, 15.44batch/s, [358,   350] loss: 0.00258151]\n",
      "391batch [00:25, 15.44batch/s, [359,   350] loss: 0.00257851]\n",
      "391batch [00:25, 15.45batch/s, [360,   350] loss: 0.00255263]\n",
      "391batch [00:25, 15.44batch/s, [361,   350] loss: 0.00254515]\n",
      "391batch [00:25, 15.44batch/s, [362,   350] loss: 0.00257021]\n",
      "391batch [00:25, 15.45batch/s, [363,   350] loss: 0.00255189]\n",
      "391batch [00:25, 15.45batch/s, [364,   350] loss: 0.00256656]\n",
      "391batch [00:25, 15.45batch/s, [365,   350] loss: 0.00253628]\n",
      "391batch [00:25, 15.44batch/s, [366,   350] loss: 0.00258318]\n",
      "391batch [00:25, 15.44batch/s, [367,   350] loss: 0.00256552]\n",
      "391batch [00:25, 15.44batch/s, [368,   350] loss: 0.00255265]\n",
      "391batch [00:25, 15.44batch/s, [369,   350] loss: 0.00255217]\n",
      "391batch [00:25, 15.45batch/s, [370,   350] loss: 0.00252437]\n",
      "391batch [00:25, 15.44batch/s, [371,   350] loss: 0.00254045]\n",
      "391batch [00:25, 15.49batch/s, [372,   350] loss: 0.00255700]\n",
      "391batch [00:25, 15.44batch/s, [373,   350] loss: 0.00253021]\n",
      "391batch [00:25, 15.47batch/s, [374,   350] loss: 0.00255514]\n",
      "391batch [00:25, 15.46batch/s, [375,   350] loss: 0.00252204]\n",
      "391batch [00:25, 15.44batch/s, [376,   350] loss: 0.00254711]\n",
      "391batch [00:25, 15.44batch/s, [377,   350] loss: 0.00253202]\n",
      "391batch [00:25, 15.42batch/s, [378,   350] loss: 0.00253048]\n",
      "391batch [00:25, 15.42batch/s, [379,   350] loss: 0.00252498]\n",
      "391batch [00:25, 15.43batch/s, [380,   350] loss: 0.00252004]\n",
      "391batch [00:25, 15.43batch/s, [381,   350] loss: 0.00248685]\n",
      "391batch [00:25, 15.43batch/s, [382,   350] loss: 0.00253730]\n",
      "391batch [00:25, 15.41batch/s, [383,   350] loss: 0.00251914]\n",
      "391batch [00:25, 15.44batch/s, [384,   350] loss: 0.00254822]\n",
      "391batch [00:25, 15.43batch/s, [385,   350] loss: 0.00253973]\n",
      "391batch [00:25, 15.43batch/s, [386,   350] loss: 0.00253701]\n",
      "391batch [00:25, 15.44batch/s, [387,   350] loss: 0.00250496]\n",
      "391batch [00:25, 15.42batch/s, [388,   350] loss: 0.00252167]\n",
      "391batch [00:25, 15.43batch/s, [389,   350] loss: 0.00250988]\n",
      "391batch [00:25, 15.43batch/s, [390,   350] loss: 0.00250571]\n",
      "391batch [00:25, 15.43batch/s, [391,   350] loss: 0.00252017]\n",
      "391batch [00:25, 15.44batch/s, [392,   350] loss: 0.00252395]\n",
      "391batch [00:25, 15.44batch/s, [393,   350] loss: 0.00251078]\n",
      "391batch [00:25, 15.45batch/s, [394,   350] loss: 0.00251603]\n",
      "391batch [00:25, 15.44batch/s, [395,   350] loss: 0.00252059]\n",
      "391batch [00:25, 15.45batch/s, [396,   350] loss: 0.00251538]\n",
      "391batch [00:25, 15.45batch/s, [397,   350] loss: 0.00250207]\n"
     ]
    },
    {
     "name": "stderr",
     "output_type": "stream",
     "text": [
      "391batch [00:25, 15.45batch/s, [398,   350] loss: 0.00250876]\n",
      "391batch [00:25, 15.45batch/s, [399,   350] loss: 0.00250804]\n",
      "391batch [00:25, 15.45batch/s, [400,   350] loss: 0.00250649]\n",
      "391batch [00:25, 15.45batch/s, [401,   350] loss: 0.00249862]\n",
      "391batch [00:25, 15.44batch/s, [402,   350] loss: 0.00251473]\n",
      "391batch [00:25, 15.44batch/s, [403,   350] loss: 0.00253218]\n",
      "391batch [00:25, 15.40batch/s, [404,   350] loss: 0.00251109]\n",
      "391batch [00:25, 15.44batch/s, [405,   350] loss: 0.00248232]\n",
      "391batch [00:25, 15.43batch/s, [406,   350] loss: 0.00251739]\n",
      "391batch [00:25, 15.43batch/s, [407,   350] loss: 0.00249637]\n",
      "391batch [00:25, 15.44batch/s, [408,   350] loss: 0.00249147]\n",
      "391batch [00:25, 15.41batch/s, [409,   350] loss: 0.00251023]\n",
      "391batch [00:25, 15.44batch/s, [410,   350] loss: 0.00252821]\n",
      "391batch [00:25, 15.44batch/s, [411,   350] loss: 0.00245474]\n",
      "391batch [00:25, 15.45batch/s, [412,   350] loss: 0.00249979]\n",
      "391batch [00:25, 15.46batch/s, [413,   350] loss: 0.00249133]\n",
      "391batch [00:25, 15.44batch/s, [414,   350] loss: 0.00249015]\n",
      "391batch [00:25, 15.44batch/s, [415,   350] loss: 0.00247170]\n",
      "391batch [00:25, 15.43batch/s, [416,   350] loss: 0.00246733]\n",
      "391batch [00:25, 15.43batch/s, [417,   350] loss: 0.00246177]\n",
      "391batch [00:25, 15.44batch/s, [418,   350] loss: 0.00251636]\n",
      "391batch [00:25, 15.45batch/s, [419,   350] loss: 0.00250151]\n",
      "391batch [00:25, 15.47batch/s, [420,   350] loss: 0.00248505]\n",
      "391batch [00:25, 15.45batch/s, [421,   350] loss: 0.00248254]\n",
      "391batch [00:25, 15.44batch/s, [422,   350] loss: 0.00247904]\n",
      "391batch [00:25, 15.44batch/s, [423,   350] loss: 0.00249185]\n",
      "391batch [00:25, 15.42batch/s, [424,   350] loss: 0.00247699]\n",
      "391batch [00:25, 15.43batch/s, [425,   350] loss: 0.00246999]\n",
      "391batch [00:25, 15.43batch/s, [426,   350] loss: 0.00244709]\n",
      "391batch [00:25, 15.43batch/s, [427,   350] loss: 0.00247768]\n",
      "391batch [00:25, 15.44batch/s, [428,   350] loss: 0.00246781]\n",
      "391batch [00:25, 15.43batch/s, [429,   350] loss: 0.00246486]\n",
      "391batch [00:25, 15.43batch/s, [430,   350] loss: 0.00247424]\n",
      "391batch [00:25, 15.42batch/s, [431,   350] loss: 0.00243604]\n",
      "391batch [00:25, 15.43batch/s, [432,   350] loss: 0.00246513]\n",
      "391batch [00:25, 15.42batch/s, [433,   350] loss: 0.00242768]\n",
      "391batch [00:25, 15.42batch/s, [434,   350] loss: 0.00248420]\n",
      "391batch [00:25, 15.48batch/s, [435,   350] loss: 0.00245738]\n",
      "391batch [00:25, 15.45batch/s, [436,   350] loss: 0.00244227]\n",
      "391batch [00:25, 15.45batch/s, [437,   350] loss: 0.00247872]\n",
      "391batch [00:25, 15.47batch/s, [438,   350] loss: 0.00246896]\n",
      "391batch [00:25, 15.46batch/s, [439,   350] loss: 0.00243862]\n",
      "391batch [00:25, 15.44batch/s, [440,   350] loss: 0.00245012]\n",
      "391batch [00:25, 15.44batch/s, [441,   350] loss: 0.00246109]\n",
      "391batch [00:25, 15.44batch/s, [442,   350] loss: 0.00248134]\n",
      "391batch [00:25, 15.42batch/s, [443,   350] loss: 0.00247122]\n",
      "391batch [00:25, 15.43batch/s, [444,   350] loss: 0.00245238]\n",
      "391batch [00:25, 15.44batch/s, [445,   350] loss: 0.00246244]\n",
      "391batch [00:25, 15.47batch/s, [446,   350] loss: 0.00244991]\n",
      "391batch [00:25, 15.43batch/s, [447,   350] loss: 0.00243945]\n",
      "391batch [00:25, 15.41batch/s, [448,   350] loss: 0.00242910]\n",
      "391batch [00:25, 15.40batch/s, [449,   350] loss: 0.00248233]\n",
      "391batch [00:25, 15.42batch/s, [450,   350] loss: 0.00245898]\n",
      "391batch [00:25, 15.40batch/s, [451,   350] loss: 0.00243885]\n",
      "391batch [00:25, 15.42batch/s, [452,   350] loss: 0.00244912]\n",
      "391batch [00:25, 15.43batch/s, [453,   350] loss: 0.00244457]\n",
      "391batch [00:25, 15.44batch/s, [454,   350] loss: 0.00243933]\n",
      "391batch [00:25, 15.47batch/s, [455,   350] loss: 0.00243197]\n",
      "391batch [00:25, 15.44batch/s, [456,   350] loss: 0.00244395]\n",
      "391batch [00:25, 15.45batch/s, [457,   350] loss: 0.00244539]\n",
      "391batch [00:25, 15.45batch/s, [458,   350] loss: 0.00245938]\n",
      "391batch [00:25, 15.44batch/s, [459,   350] loss: 0.00245395]\n",
      "391batch [00:25, 15.43batch/s, [460,   350] loss: 0.00241617]\n",
      "391batch [00:25, 15.43batch/s, [461,   350] loss: 0.00242938]\n",
      "391batch [00:25, 15.42batch/s, [462,   350] loss: 0.00242519]\n",
      "391batch [00:25, 15.38batch/s, [463,   350] loss: 0.00241823]\n",
      "391batch [00:25, 15.43batch/s, [464,   350] loss: 0.00246727]\n",
      "391batch [00:25, 15.43batch/s, [465,   350] loss: 0.00244332]\n",
      "391batch [00:25, 15.43batch/s, [466,   350] loss: 0.00241911]\n",
      "391batch [00:25, 15.44batch/s, [467,   350] loss: 0.00242769]\n",
      "391batch [00:25, 15.44batch/s, [468,   350] loss: 0.00241844]\n",
      "391batch [00:25, 15.44batch/s, [469,   350] loss: 0.00242391]\n",
      "391batch [00:25, 15.44batch/s, [470,   350] loss: 0.00244770]\n",
      "391batch [00:25, 15.43batch/s, [471,   350] loss: 0.00244462]\n",
      "391batch [00:25, 15.44batch/s, [472,   350] loss: 0.00240697]\n",
      "391batch [00:25, 15.44batch/s, [473,   350] loss: 0.00242157]\n",
      "391batch [00:25, 15.45batch/s, [474,   350] loss: 0.00242358]\n",
      "391batch [00:25, 15.45batch/s, [475,   350] loss: 0.00241551]\n",
      "391batch [00:25, 15.45batch/s, [476,   350] loss: 0.00238538]\n",
      "391batch [00:25, 15.45batch/s, [477,   350] loss: 0.00240812]\n",
      "391batch [00:25, 15.45batch/s, [478,   350] loss: 0.00239852]\n",
      "391batch [00:25, 15.45batch/s, [479,   350] loss: 0.00243143]\n",
      "391batch [00:25, 15.45batch/s, [480,   350] loss: 0.00242628]\n",
      "391batch [00:25, 15.43batch/s, [481,   350] loss: 0.00237830]\n",
      "391batch [00:25, 15.43batch/s, [482,   350] loss: 0.00241874]\n",
      "391batch [00:25, 15.42batch/s, [483,   350] loss: 0.00241761]\n",
      "391batch [00:25, 15.45batch/s, [484,   350] loss: 0.00239810]\n",
      "391batch [00:25, 15.45batch/s, [485,   350] loss: 0.00241049]\n",
      "391batch [00:25, 15.44batch/s, [486,   350] loss: 0.00241095]\n",
      "391batch [00:25, 15.43batch/s, [487,   350] loss: 0.00241749]\n",
      "391batch [00:25, 15.45batch/s, [488,   350] loss: 0.00238356]\n",
      "391batch [00:25, 15.48batch/s, [489,   350] loss: 0.00239495]\n",
      "391batch [00:25, 15.45batch/s, [490,   350] loss: 0.00240214]\n",
      "391batch [00:25, 15.48batch/s, [491,   350] loss: 0.00242249]\n",
      "391batch [00:25, 15.43batch/s, [492,   350] loss: 0.00239991]\n",
      "391batch [00:25, 15.43batch/s, [493,   350] loss: 0.00240700]\n",
      "391batch [00:25, 15.45batch/s, [494,   350] loss: 0.00241480]\n",
      "391batch [00:25, 15.42batch/s, [495,   350] loss: 0.00242904]\n",
      "391batch [00:25, 15.45batch/s, [496,   350] loss: 0.00239100]\n",
      "391batch [00:25, 15.45batch/s, [497,   350] loss: 0.00241774]\n",
      "391batch [00:25, 15.44batch/s, [498,   350] loss: 0.00241788]\n",
      "391batch [00:25, 15.44batch/s, [499,   350] loss: 0.00240497]\n",
      "391batch [00:25, 15.44batch/s, [500,   350] loss: 0.00239310]\n"
     ]
    }
   ],
   "source": [
    "running_loss = 0\n",
    "loss_steps = 50\n",
    "epochs = 500\n",
    "\n",
    "for epoch in range(epochs):\n",
    "    with tqdm(enumerate(train_dataloader, 0), unit=\"batch\") as t:\n",
    "        for i, data in t:\n",
    "            # get the inputs\n",
    "    #         current_state, action, reward, next_state, done = data\n",
    "            image = data.transpose(-1, 1).cuda() / 255\n",
    "\n",
    "    #         loss = train_batch(image, model, optimizer, autoencoder.spectral_loss)\n",
    "            full_loss = train_batch(image, model, optimizer, loss_func)\n",
    "\n",
    "            if isinstance(full_loss, tuple):\n",
    "                loss = full_loss[0].item()\n",
    "                raw_losses.append(loss)\n",
    "                recons.append(full_loss[1].item())\n",
    "                kls.append(full_loss[2].item())\n",
    "            else:\n",
    "                loss = full_loss.item()\n",
    "                raw_losses.append(loss)\n",
    "\n",
    "\n",
    "    #         if loss is None or torch.isnan(loss).any():\n",
    "    #             print(\"There's a NaN loss!\")\n",
    "    #             from IPython.core.debugger import Pdb; Pdb().set_trace()\n",
    "    #             break\n",
    "\n",
    "\n",
    "\n",
    "            # print statistics\n",
    "            running_loss += loss\n",
    "            if i % loss_steps == loss_steps - 1:  # print every N mini-batches\n",
    "                string = '[%d, %5d] loss: %.8f' % (epoch + 1, i + 1, running_loss / loss_steps)\n",
    "                t.set_postfix_str(string)\n",
    "                losses.append(running_loss / loss_steps)\n",
    "    #             scheduler.step(running_loss)\n",
    "                running_loss = 0.0"
   ]
  },
  {
   "cell_type": "code",
   "execution_count": null,
   "id": "b032f6db",
   "metadata": {},
   "outputs": [],
   "source": []
  },
  {
   "cell_type": "code",
   "execution_count": 98,
   "id": "be092f3a",
   "metadata": {},
   "outputs": [
    {
     "data": {
      "text/plain": [
       "[<matplotlib.lines.Line2D at 0x7f0c59c35f10>]"
      ]
     },
     "execution_count": 98,
     "metadata": {},
     "output_type": "execute_result"
    },
    {
     "data": {
      "image/png": "[encoded data removed]",
      "text/plain": [
       "<Figure size 720x576 with 1 Axes>"
      ]
     },
     "metadata": {
      "needs_background": "light"
     },
     "output_type": "display_data"
    }
   ],
   "source": [
    "plt.plot(raw_losses)"
   ]
  },
  {
   "cell_type": "code",
   "execution_count": 197,
   "id": "096c3452",
   "metadata": {},
   "outputs": [
    {
     "data": {
      "text/plain": [
       "2.9857085337425815e-07"
      ]
     },
     "execution_count": 197,
     "metadata": {},
     "output_type": "execute_result"
    }
   ],
   "source": [
    "kls[-1]"
   ]
  },
  {
   "cell_type": "code",
   "execution_count": 110,
   "id": "362edf46",
   "metadata": {},
   "outputs": [
    {
     "data": {
      "text/plain": [
       "(64, 64, 3)"
      ]
     },
     "execution_count": 110,
     "metadata": {},
     "output_type": "execute_result"
    }
   ],
   "source": [
    "recon_target = shapes[3]\n",
    "recon_target.shape"
   ]
  },
  {
   "cell_type": "code",
   "execution_count": 111,
   "id": "7cb1ae5e",
   "metadata": {},
   "outputs": [
    {
     "data": {
      "text/plain": [
       "<matplotlib.image.AxesImage at 0x7f0c54ae84c0>"
      ]
     },
     "execution_count": 111,
     "metadata": {},
     "output_type": "execute_result"
    },
    {
     "data": {
      "image/png": "[encoded data removed]",
      "text/plain": [
       "<Figure size 720x576 with 1 Axes>"
      ]
     },
     "metadata": {
      "needs_background": "light"
     },
     "output_type": "display_data"
    }
   ],
   "source": [
    "plt.imshow(recon_target)"
   ]
  },
  {
   "cell_type": "code",
   "execution_count": 112,
   "id": "b1b1b55a",
   "metadata": {},
   "outputs": [
    {
     "data": {
      "text/plain": [
       "torch.Size([1, 3, 64, 64])"
      ]
     },
     "execution_count": 112,
     "metadata": {},
     "output_type": "execute_result"
    }
   ],
   "source": [
    "image = torch.from_numpy(to_batch_shape(recon_target).transpose(0, 3, 1, 2)).cuda() / 255\n",
    "image.shape"
   ]
  },
  {
   "cell_type": "code",
   "execution_count": 113,
   "id": "faa74888",
   "metadata": {},
   "outputs": [],
   "source": [
    "m2 = WM_VAE().cuda()"
   ]
  },
  {
   "cell_type": "code",
   "execution_count": 114,
   "id": "76936a51",
   "metadata": {},
   "outputs": [
    {
     "data": {
      "text/plain": [
       "(1, 64, 64, 3)"
      ]
     },
     "execution_count": 114,
     "metadata": {},
     "output_type": "execute_result"
    }
   ],
   "source": [
    "outputs, latents = model(image)\n",
    "op = outputs.detach().cpu().numpy().transpose(0, 2, 3, 1)\n",
    "op.shape"
   ]
  },
  {
   "cell_type": "code",
   "execution_count": 115,
   "id": "22a247ac",
   "metadata": {},
   "outputs": [
    {
     "data": {
      "text/plain": [
       "<matplotlib.image.AxesImage at 0x7f0c298ace20>"
      ]
     },
     "execution_count": 115,
     "metadata": {},
     "output_type": "execute_result"
    },
    {
     "data": {
      "image/png": "[encoded data removed]",
      "text/plain": [
       "<Figure size 720x576 with 2 Axes>"
      ]
     },
     "metadata": {
      "needs_background": "light"
     },
     "output_type": "display_data"
    }
   ],
   "source": [
    "plt.subplot(1, 2, 1)\n",
    "plt.imshow(recon_target)\n",
    "plt.subplot(1, 2, 2)\n",
    "\n",
    "plt.imshow(op[0])"
   ]
  },
  {
   "cell_type": "code",
   "execution_count": 73,
   "id": "7ca9768d",
   "metadata": {},
   "outputs": [
    {
     "data": {
      "text/plain": [
       "tensor(0.2706, device='cuda:0')"
      ]
     },
     "execution_count": 73,
     "metadata": {},
     "output_type": "execute_result"
    }
   ],
   "source": [
    "image[0][0][0][0]"
   ]
  },
  {
   "cell_type": "code",
   "execution_count": 74,
   "id": "08061f69",
   "metadata": {},
   "outputs": [
    {
     "data": {
      "text/plain": [
       "0.4890771"
      ]
     },
     "execution_count": 74,
     "metadata": {},
     "output_type": "execute_result"
    }
   ],
   "source": [
    "op[0][0][0][0]"
   ]
  },
  {
   "cell_type": "code",
   "execution_count": 88,
   "id": "ca205e76",
   "metadata": {},
   "outputs": [
    {
     "data": {
      "text/plain": [
       "[<matplotlib.lines.Line2D at 0x7f0c29966040>]"
      ]
     },
     "execution_count": 88,
     "metadata": {},
     "output_type": "execute_result"
    },
    {
     "data": {
      "image/png": "[encoded data removed]",
      "text/plain": [
       "<Figure size 720x576 with 1 Axes>"
      ]
     },
     "metadata": {
      "needs_background": "light"
     },
     "output_type": "display_data"
    }
   ],
   "source": [
    "plt.plot(latents[0].detach().cpu().numpy())"
   ]
  },
  {
   "cell_type": "code",
   "execution_count": 64,
   "id": "97278cf2",
   "metadata": {},
   "outputs": [
    {
     "data": {
      "text/plain": [
       "torch.Size([1, 128])"
      ]
     },
     "execution_count": 64,
     "metadata": {},
     "output_type": "execute_result"
    }
   ],
   "source": [
    "latents[0].shape"
   ]
  },
  {
   "cell_type": "code",
   "execution_count": 105,
   "id": "3a4469ee",
   "metadata": {},
   "outputs": [
    {
     "name": "stdout",
     "output_type": "stream",
     "text": [
      "added layer encoder-0\n",
      "Skipping encoder-1\n",
      "added layer encoder-2\n",
      "Skipping encoder-3\n",
      "added layer encoder-4\n",
      "Skipping encoder-5\n",
      "added layer encoder-6\n",
      "Skipping encoder-7\n",
      "added layer latent-mu\n",
      "added layer latent-logvar\n",
      "added layer unlatent\n",
      "Skipping decoder-0\n",
      "Skipping decoder-1\n",
      "Skipping decoder-2\n",
      "Skipping decoder-3\n",
      "Skipping decoder-4\n",
      "Skipping decoder-5\n",
      "Skipping decoder-6\n",
      "Skipping decoder-7\n"
     ]
    }
   ],
   "source": [
    "from delve import CheckLayerSat\n",
    "tracker = CheckLayerSat(\"my_experiment\", save_to=\"plotcsv\", modules=model, device=image.device)"
   ]
  },
  {
   "cell_type": "code",
   "execution_count": 109,
   "id": "0d72d5cb",
   "metadata": {},
   "outputs": [
    {
     "name": "stdout",
     "output_type": "stream",
     "text": [
      "my_experiment_lsat_train_epoch_1.png\n"
     ]
    },
    {
     "data": {
      "image/png": "[encoded data removed]",
      "text/plain": [
       "<Figure size 720x576 with 1 Axes>"
      ]
     },
     "metadata": {
      "needs_background": "light"
     },
     "output_type": "display_data"
    }
   ],
   "source": [
    "data = next(iter(train_dataloader))\n",
    "image = data.transpose(-1, 1).cuda() / 255\n",
    "outputs, latents = model(image)\n",
    "tracker.add_saturations()"
   ]
  },
  {
   "cell_type": "code",
   "execution_count": null,
   "id": "7b553ba4",
   "metadata": {},
   "outputs": [],
   "source": []
  }
 ],
 "metadata": {
  "kernelspec": {
   "display_name": "Python 3 (ipykernel)",
   "language": "python",
   "name": "python3"
  },
  "language_info": {
   "codemirror_mode": {
    "name": "ipython",
    "version": 3
   },
   "file_extension": ".py",
   "mimetype": "text/x-python",
   "name": "python",
   "nbconvert_exporter": "python",
   "pygments_lexer": "ipython3",
   "version": "3.9.6"
  }
 },
 "nbformat": 4,
 "nbformat_minor": 5
}
