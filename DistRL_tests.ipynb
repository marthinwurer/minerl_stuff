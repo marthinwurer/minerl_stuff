{
 "cells": [
  {
   "cell_type": "code",
   "execution_count": 1,
   "id": "765db825",
   "metadata": {},
   "outputs": [],
   "source": [
    "%matplotlib inline\n",
    "%load_ext autoreload\n",
    "%autoreload 2"
   ]
  },
  {
   "cell_type": "code",
   "execution_count": 2,
   "id": "161091c5",
   "metadata": {},
   "outputs": [],
   "source": [
    "import matplotlib\n",
    "matplotlib.rcParams['figure.figsize'] = [10, 8]\n",
    "import matplotlib.pyplot as plt"
   ]
  },
  {
   "cell_type": "code",
   "execution_count": 124,
   "id": "0aca2064",
   "metadata": {},
   "outputs": [],
   "source": [
    "import numpy as np\n",
    "import torch\n",
    "# import minerl\n",
    "from tqdm import tqdm\n",
    "import random\n",
    "\n",
    "from torch import nn, optim\n",
    "import torch.nn.functional as F\n",
    "from torch.optim.lr_scheduler import ReduceLROnPlateau\n",
    "from utilities import flatten, unflatten, to_batch_shape, to_torch_channels\n",
    "from collections import defaultdict\n",
    "import coordconv\n",
    "\n",
    "import collections\n",
    "\n",
    "from ZerO import init_ZerO\n",
    "from networks import SkippableLayerNorm\n",
    "from lion_pytorch import Lion\n",
    "from mdn import *\n",
    "from DotEnvs import *\n",
    "from utilities import soft_update\n",
    "from basic_dqn import DQN_Policy"
   ]
  },
  {
   "cell_type": "code",
   "execution_count": 125,
   "id": "245f6d0b",
   "metadata": {},
   "outputs": [],
   "source": [
    "class EnvSamplingWrapper:\n",
    "    def __init__(self, env):\n",
    "        self.env = env\n",
    "        self.obs = env.reset()\n",
    "        self.step_count = 0\n",
    "        self.total_reward = 0\n",
    "    \n",
    "    def sample(self, count, policy):\n",
    "        tuples = []\n",
    "        rewards = []\n",
    "        for i in range(count):\n",
    "            self.step_count += 1\n",
    "            action = policy(self.obs)\n",
    "            observation, reward, done, info = env.step(action)\n",
    "            tuples.append((self.obs, action, reward, observation, done))\n",
    "            self.obs = observation\n",
    "            self.total_reward += reward\n",
    "            if done:\n",
    "                self.obs = env.reset()\n",
    "                rewards.append((self.total_reward, self.step_count))\n",
    "                self.total_reward = 0\n",
    "        \n",
    "        return tuples, rewards\n",
    "\n",
    "\n",
    "def prod(x):\n",
    "    total = 1\n",
    "    for i in x:\n",
    "        total *= i\n",
    "    return total\n",
    "\n",
    "\n",
    "\n",
    "\n",
    "    \n"
   ]
  },
  {
   "cell_type": "code",
   "execution_count": 126,
   "id": "7e0e7f5f",
   "metadata": {},
   "outputs": [],
   "source": [
    "\"\"\"\n",
    "From https://github.com/rlcode/per/blob/master/SumTree.py\n",
    "\"\"\"\n",
    "import numpy\n",
    "\n",
    "\n",
    "# SumTree\n",
    "# a binary tree data structure where the parent’s value is the sum of its children\n",
    "class SumTree:\n",
    "\n",
    "    def __init__(self, capacity):\n",
    "        self.capacity = capacity\n",
    "        self.tree = numpy.zeros(2 * capacity - 1)\n",
    "        self.data = numpy.zeros(capacity, dtype=object)\n",
    "        self.n_samples = numpy.zeros(capacity)\n",
    "        self.n_entries = 0\n",
    "        self.write = 0\n",
    "\n",
    "    # update to the root node\n",
    "    def _propagate(self, idx, change):\n",
    "        parent = (idx - 1) // 2\n",
    "\n",
    "        self.tree[parent] += change\n",
    "\n",
    "        if parent != 0:\n",
    "            self._propagate(parent, change)\n",
    "\n",
    "    # find sample on leaf node\n",
    "    def _retrieve(self, idx, s):\n",
    "        left = 2 * idx + 1\n",
    "        right = left + 1\n",
    "\n",
    "        if left >= len(self.tree):\n",
    "            return idx\n",
    "\n",
    "        if s <= self.tree[left]:\n",
    "            return self._retrieve(left, s)\n",
    "        else:\n",
    "            return self._retrieve(right, s - self.tree[left])\n",
    "\n",
    "    def total(self):\n",
    "        return self.tree[0]\n",
    "    \n",
    "    def data_idx(self, idx):\n",
    "        return (idx + self.capacity + 1) % self.capacity\n",
    "    \n",
    "    def tree_idx(self, d_idx):\n",
    "        return d_idx + self.capacity - 1\n",
    "\n",
    "    # store priority and sample\n",
    "    def add(self, p, data):\n",
    "        idx = self.write + self.capacity - 1\n",
    "\n",
    "        self.data[self.write] = data\n",
    "        self.update(idx, p)\n",
    "\n",
    "        self.write += 1\n",
    "        if self.write >= self.capacity:\n",
    "            self.write = 0\n",
    "\n",
    "        if self.n_entries < self.capacity:\n",
    "            self.n_entries += 1\n",
    "        return idx\n",
    "\n",
    "    # update priority\n",
    "    def update(self, idx, p):\n",
    "        change = p - self.tree[idx]\n",
    "\n",
    "        self.tree[idx] = p\n",
    "        self._propagate(idx, change)\n",
    "\n",
    "    # get priority and sample\n",
    "    def get(self, s):\n",
    "        idx = self._retrieve(0, s)\n",
    "        dataIdx = idx - self.capacity + 1\n",
    "        self.n_samples[dataIdx] += 1\n",
    "\n",
    "        return (idx, self.tree[idx], self.data[dataIdx])\n",
    "    \n",
    "    def get_at(self, idx):\n",
    "        return (idx, self.tree[idx], self.data[self.data_idx(idx)])"
   ]
  },
  {
   "cell_type": "code",
   "execution_count": 127,
   "id": "14c327f1",
   "metadata": {},
   "outputs": [],
   "source": [
    "# replay buffer. Store (s, a, r, s_n, d) tuples\n",
    "class PrioritizedReplayBuffer:\n",
    "    def __init__(self, max_size=1000000, epsilon=0.00001):\n",
    "        self.tree = SumTree(max_size)\n",
    "        self.epsilon = epsilon\n",
    "    \n",
    "    def add(self, s, a, r, s_n, d):\n",
    "        self.tree.add(1, (s, a, r, s_n, d))\n",
    "    \n",
    "    def sample_batch(self, batch_size):\n",
    "        batch = []\n",
    "        chunk = self.tree.total() / batch_size\n",
    "        for i in range(batch_size):\n",
    "            item = self.tree.get(random.random() * chunk + i * chunk)\n",
    "            batch.append(item)\n",
    "        return batch\n",
    "    \n",
    "    def add_all(self, sarsd):\n",
    "        for i in sarsd:\n",
    "            buffer.add(*i)\n",
    "    \n",
    "    def update(self, idx, p):\n",
    "        self.tree.update(idx, p + self.epsilon)"
   ]
  },
  {
   "cell_type": "code",
   "execution_count": 128,
   "id": "3d2041ad",
   "metadata": {},
   "outputs": [],
   "source": [
    "def sample_training_batch(buffer, batch_size):\n",
    "    batch = buffer.sample_batch(batch_size)\n",
    "    s = np.zeros((batch_size, 64, 64, 3), dtype='float32')\n",
    "    a = np.zeros((batch_size, 1), dtype='int64')\n",
    "    r = np.zeros((batch_size, 1), dtype='float32')\n",
    "    s_n = np.zeros((batch_size, 64, 64, 3), dtype='float32')\n",
    "    d = np.zeros((batch_size, 1), dtype='float32')\n",
    "\n",
    "    \n",
    "    for i, data in enumerate(batch):\n",
    "        x = data[2]\n",
    "        s[i] = x[0]\n",
    "        a[i] = x[1]\n",
    "        r[i] = x[2]\n",
    "        s_n[i] = x[3]\n",
    "        d[i] = x[4]\n",
    "    \n",
    "    s = torch.from_numpy(s).permute((0, 3, 1, 2)).cuda() / 255\n",
    "    s_n = torch.from_numpy(s_n).permute((0, 3, 1, 2)).cuda() / 255\n",
    "    a = torch.from_numpy(a).cuda()\n",
    "    r = torch.from_numpy(r).cuda()\n",
    "    d = torch.from_numpy(d).cuda()\n",
    "    \n",
    "    return s, a, r, s_n, d, batch"
   ]
  },
  {
   "cell_type": "code",
   "execution_count": 129,
   "id": "51385c58",
   "metadata": {},
   "outputs": [],
   "source": [
    "STATS = defaultdict(list)\n",
    "env = SparseDotEnv()\n",
    "# env = DotEnv()\n",
    "env_wrapper = EnvSamplingWrapper(env)"
   ]
  },
  {
   "cell_type": "code",
   "execution_count": 130,
   "id": "f9a84cd5",
   "metadata": {},
   "outputs": [],
   "source": [
    "buffer = PrioritizedReplayBuffer()\n",
    "# initialize the buffer:\n",
    "sarsd, rew = env_wrapper.sample(10000, lambda x: env.action_space.sample())\n",
    "buffer.add_all(sarsd)"
   ]
  },
  {
   "cell_type": "code",
   "execution_count": 289,
   "id": "c1f7d31e",
   "metadata": {},
   "outputs": [],
   "source": [
    "class DistDQN_Net(nn.Module):\n",
    "    def __init__(self, input_size, action_size, zero=True):\n",
    "        super().__init__()\n",
    "#         print(input_size)\n",
    "        self.net = nn.Sequential(\n",
    "            nn.Linear(input_size, 16),\n",
    "            nn.GELU(),\n",
    "            nn.Linear(16, 16),\n",
    "            nn.GELU(),\n",
    "            MDN(16, action_size, 3),\n",
    "        )\n",
    "    \n",
    "    def forward(self, x):\n",
    "#         print(x.shape)\n",
    "        x = torch.flatten(x, 1)\n",
    "#         print(x.shape)\n",
    "        x = self.net(x)\n",
    "        return x"
   ]
  },
  {
   "cell_type": "code",
   "execution_count": 290,
   "id": "19caf497",
   "metadata": {},
   "outputs": [],
   "source": [
    "def sample_action(outputs, fraction):\n",
    "    pi, sigma, mu = outputs\n",
    "    shape = mu.shape\n",
    "    \n",
    "    offset_mean = pi * (sigma * fraction + mu)\n",
    "#     return offset_mean.view(shape[:-1])\n",
    "    return distribution(pi, sigma, mu).mean"
   ]
  },
  {
   "cell_type": "code",
   "execution_count": 291,
   "id": "842e9119",
   "metadata": {},
   "outputs": [
    {
     "data": {
      "text/plain": [
       "torch.Size([7, 4])"
      ]
     },
     "execution_count": 291,
     "metadata": {},
     "output_type": "execute_result"
    }
   ],
   "source": [
    "bs = 7\n",
    "step = 0.2\n",
    "mix = 2\n",
    "n_actions = 4\n",
    "\n",
    "pi = F.softmax(torch.ones((bs, n_actions, mix)))\n",
    "sigma = torch.ones((bs, n_actions, mix))\n",
    "mu = torch.ones((bs, n_actions, mix))\n",
    "\n",
    "sample_action((pi, sigma, mu), 0).shape"
   ]
  },
  {
   "cell_type": "code",
   "execution_count": 292,
   "id": "7f08472b",
   "metadata": {},
   "outputs": [
    {
     "data": {
      "text/plain": [
       "torch.return_types.max(\n",
       "values=tensor([1., 1., 1., 1., 1., 1., 1.]),\n",
       "indices=tensor([0, 0, 0, 0, 0, 0, 0]))"
      ]
     },
     "execution_count": 292,
     "metadata": {},
     "output_type": "execute_result"
    }
   ],
   "source": [
    "torch.max(sample_action((pi, sigma, mu), 0), 1)"
   ]
  },
  {
   "cell_type": "code",
   "execution_count": 293,
   "id": "ebdf8598",
   "metadata": {},
   "outputs": [],
   "source": [
    "def dqn_policy(model, obs):\n",
    "    # scale the obs, change to model shape\n",
    "    image = torch.from_numpy(to_batch_shape(obs)).permute((0, 3, 1, 2)).cuda() / 255\n",
    "    with torch.no_grad():\n",
    "        outputs = model(image)\n",
    "        action = torch.argmax(sample_action(outputs, 0)).item()\n",
    "    \n",
    "    return action"
   ]
  },
  {
   "cell_type": "code",
   "execution_count": 294,
   "id": "fb70d86c",
   "metadata": {},
   "outputs": [],
   "source": [
    "class DQN_Policy:\n",
    "    def __init__(self, model, epsilon, sampler):\n",
    "        self.model = model\n",
    "        self.epsilon = epsilon\n",
    "        self.sampler = sampler\n",
    "    \n",
    "    def __call__(self, obs):\n",
    "        if random.random() < self.epsilon:\n",
    "            return self.sampler()\n",
    "        return dqn_policy(self.model, obs)"
   ]
  },
  {
   "cell_type": "code",
   "execution_count": 295,
   "id": "f245f094",
   "metadata": {},
   "outputs": [],
   "source": [
    "\n",
    "def gnll_loss_individual(pi, sigma, mu, target):\n",
    "    gm = distribution(pi, sigma, mu)\n",
    "    print(gm)\n",
    "#     print(target)\n",
    "#     print(mu)\n",
    "    log_likelihood = gm.log_prob(target.view(-1))\n",
    "#     log_likelihood = gm.log_prob(target)\n",
    "#     print(log_likelihood)\n",
    "#     print(gm.batch_shape)\n",
    "    return torch.log(torch.exp(-log_likelihood) + 1)\n"
   ]
  },
  {
   "cell_type": "code",
   "execution_count": 296,
   "id": "ded7c69e",
   "metadata": {},
   "outputs": [
    {
     "name": "stdout",
     "output_type": "stream",
     "text": [
      "MixtureSameFamily(\n",
      "  Categorical(probs: torch.Size([32, 2]), logits: torch.Size([32, 2])),\n",
      "  Normal(loc: torch.Size([32, 2]), scale: torch.Size([32, 2])))\n"
     ]
    },
    {
     "data": {
      "text/plain": [
       "tensor([1.6356, 1.5599, 1.4933, 1.4357, 1.3865, 1.3456, 1.3125, 1.2870, 1.2690,\n",
       "        1.2582, 1.2547, 1.2582, 1.2690, 1.2870, 1.3125, 1.3456, 1.3865, 1.4357,\n",
       "        1.4933, 1.5599, 1.6356, 1.7210, 1.8164, 1.9221, 2.0385, 2.1657, 2.3041,\n",
       "        2.4538, 2.6149, 2.7875, 2.9715, 3.1670])"
      ]
     },
     "execution_count": 296,
     "metadata": {},
     "output_type": "execute_result"
    }
   ],
   "source": [
    "mix = 2\n",
    "pi = torch.ones((32, mix))\n",
    "sigma = torch.ones((32, mix))\n",
    "mu = torch.ones((32, mix))\n",
    "\n",
    "target = torch.arange(0, 3.2, step=0.1).view(32)\n",
    "gnll_loss_individual(pi, sigma, mu, target)"
   ]
  },
  {
   "cell_type": "code",
   "execution_count": 297,
   "id": "277ce238",
   "metadata": {},
   "outputs": [
    {
     "data": {
      "text/plain": [
       "tensor([[[0.5000, 0.7000],\n",
       "         [0.5000, 0.7000]],\n",
       "\n",
       "        [[0.9000, 1.1000],\n",
       "         [0.9000, 1.1000]],\n",
       "\n",
       "        [[1.3000, 1.5000],\n",
       "         [1.3000, 1.5000]],\n",
       "\n",
       "        [[1.7000, 1.9000],\n",
       "         [1.7000, 1.9000]],\n",
       "\n",
       "        [[2.1000, 2.3000],\n",
       "         [2.1000, 2.3000]],\n",
       "\n",
       "        [[2.5000, 2.7000],\n",
       "         [2.5000, 2.7000]],\n",
       "\n",
       "        [[2.9000, 3.1000],\n",
       "         [2.9000, 3.1000]]])"
      ]
     },
     "execution_count": 297,
     "metadata": {},
     "output_type": "execute_result"
    }
   ],
   "source": [
    "bs = 7\n",
    "step = 0.2\n",
    "mix = 2\n",
    "pi = F.softmax(torch.ones((bs, mix)))\n",
    "sigma = torch.ones((bs, mix))\n",
    "mu = torch.ones((bs, mix))\n",
    "\n",
    "target = torch.arange(0, bs * step * mix, step=step).view(bs, 1, mix)\n",
    "\n",
    "(pi.reshape(-1, 2, 1) * target).shape\n",
    "pi_rs = pi.reshape(-1, 2, 1)\n",
    "\n",
    "mu_rs = mu.reshape(-1, 2, 1)\n",
    "s_rs = sigma.reshape(-1, 2, 1)\n",
    "\n",
    "(pi.reshape(-1, 2, 1) * target * target).shape\n",
    "D.Normal(mu_rs, s_rs).log_prob(pi_rs).shape, pi_rs.shape\n",
    "(pi.reshape(-1, 2, 1) + target)"
   ]
  },
  {
   "cell_type": "code",
   "execution_count": 298,
   "id": "6af94044",
   "metadata": {},
   "outputs": [],
   "source": [
    "def gather_actions(outputs, actions):\n",
    "    pi, sigma, mu = outputs\n",
    "    batch_size = pi.shape[0]\n",
    "    n_actions = pi.shape[1]\n",
    "    gathered = [torch.take_along_dim(x, actions.view(-1, 1, 1), 1).view(batch_size, -1) for x in outputs]\n",
    "    return gathered"
   ]
  },
  {
   "cell_type": "code",
   "execution_count": 299,
   "id": "8fb062b2",
   "metadata": {},
   "outputs": [
    {
     "name": "stdout",
     "output_type": "stream",
     "text": [
      "torch.Size([7, 7, 2]) torch.Size([7])\n"
     ]
    },
    {
     "data": {
      "text/plain": [
       "tensor([[0.1429, 0.1429],\n",
       "        [0.1429, 0.1429],\n",
       "        [0.1429, 0.1429],\n",
       "        [0.1429, 0.1429],\n",
       "        [0.1429, 0.1429],\n",
       "        [0.1429, 0.1429],\n",
       "        [0.1429, 0.1429]])"
      ]
     },
     "execution_count": 299,
     "metadata": {},
     "output_type": "execute_result"
    }
   ],
   "source": [
    "bs = 7\n",
    "step = 0.2\n",
    "mix = 2\n",
    "n_actions = 7\n",
    "pi = F.softmax(torch.ones((bs, n_actions, mix)))\n",
    "sigma = torch.ones((bs, n_actions, mix))\n",
    "mu = torch.ones((bs, n_actions, mix))\n",
    "\n",
    "target = torch.arange(0, bs * step * mix * n_actions, step=step).view(bs, n_actions, mix)\n",
    "actions = torch.arange(n_actions)\n",
    "print(target.shape, actions.shape)\n",
    "gather_actions((pi, sigma, target), actions)[0]\n",
    "# print(target, actions)"
   ]
  },
  {
   "cell_type": "code",
   "execution_count": null,
   "id": "66d9b196",
   "metadata": {},
   "outputs": [],
   "source": []
  },
  {
   "cell_type": "code",
   "execution_count": null,
   "id": "86baea79",
   "metadata": {},
   "outputs": [],
   "source": []
  },
  {
   "cell_type": "code",
   "execution_count": 300,
   "id": "c4d5dca8",
   "metadata": {},
   "outputs": [
    {
     "data": {
      "text/plain": [
       "tensor([[-1.9243,  0.4156, -2.4651, -0.9771,  0.3076, -0.2165, -1.3770],\n",
       "        [-0.4227, -0.6051, -1.3401, -0.5420,  1.3638, -1.2072, -0.0272],\n",
       "        [-1.7426,  0.0429, -0.5396, -2.2771, -2.3997,  0.0771, -0.6610],\n",
       "        [ 0.4699,  1.0693,  0.9264,  0.9042, -0.5368, -0.1294, -1.3420],\n",
       "        [-0.3242, -0.8240,  1.1137, -1.2990,  0.3809,  1.8120, -1.0459],\n",
       "        [ 0.5061,  0.1465,  0.4738,  0.7065, -0.0907,  0.3912, -0.8877],\n",
       "        [ 0.7506, -0.1610,  0.8640,  0.3601, -0.2482,  1.6757,  0.0383]])"
      ]
     },
     "execution_count": 300,
     "metadata": {},
     "output_type": "execute_result"
    }
   ],
   "source": [
    "target = torch.randn((bs, n_actions, 1))\n",
    "target.mean(2)"
   ]
  },
  {
   "cell_type": "code",
   "execution_count": 301,
   "id": "53798ac1",
   "metadata": {},
   "outputs": [
    {
     "data": {
      "text/plain": [
       "(torch.return_types.max(\n",
       " values=tensor([[0.4156],\n",
       "         [1.3638],\n",
       "         [0.0771],\n",
       "         [1.0693],\n",
       "         [1.8120],\n",
       "         [0.7065],\n",
       "         [1.6757]]),\n",
       " indices=tensor([[1],\n",
       "         [4],\n",
       "         [5],\n",
       "         [1],\n",
       "         [5],\n",
       "         [3],\n",
       "         [5]])),\n",
       " torch.Size([7, 7, 1]))"
      ]
     },
     "execution_count": 301,
     "metadata": {},
     "output_type": "execute_result"
    }
   ],
   "source": [
    "torch.max(target, 1), target.shape"
   ]
  },
  {
   "cell_type": "code",
   "execution_count": 302,
   "id": "1eeab5d2",
   "metadata": {},
   "outputs": [
    {
     "data": {
      "text/plain": [
       "tensor([[[0.4156]],\n",
       "\n",
       "        [[1.3638]],\n",
       "\n",
       "        [[0.0771]],\n",
       "\n",
       "        [[1.0693]],\n",
       "\n",
       "        [[1.8120]],\n",
       "\n",
       "        [[0.7065]],\n",
       "\n",
       "        [[1.6757]]])"
      ]
     },
     "execution_count": 302,
     "metadata": {},
     "output_type": "execute_result"
    }
   ],
   "source": [
    "torch.take_along_dim(target, torch.argmax(target, 1).view(-1, 1, 1), 1)"
   ]
  },
  {
   "cell_type": "code",
   "execution_count": 303,
   "id": "32de9a80",
   "metadata": {},
   "outputs": [],
   "source": [
    "def pairwise(a, b):\n",
    "    pi, si, mi = a\n",
    "    pj, sj, mj = b\n",
    "    bs = pi.shape[0]\n",
    "    \n",
    "    # pi*pj*N(mi;mj,si^2+sj^2)\n",
    "    # make the normals\n",
    "    N = D.Normal(mj.reshape(bs, 1, -1), torch.sqrt(si.reshape(bs, -1, 1) ** 2 + sj.reshape(bs, 1, -1) **2))\n",
    "    return torch.sum(pi.reshape(bs, -1, 1) * pj.reshape(bs, 1, -1) * torch.exp(N.log_prob(mi.reshape(bs, -1, 1))), (1, 2))\n",
    "    "
   ]
  },
  {
   "cell_type": "code",
   "execution_count": 316,
   "id": "252fcec2",
   "metadata": {},
   "outputs": [
    {
     "data": {
      "text/plain": [
       "tensor([0.2821, 0.2821, 0.2821, 0.2821, 0.2821, 0.2821, 0.2821])"
      ]
     },
     "execution_count": 316,
     "metadata": {},
     "output_type": "execute_result"
    }
   ],
   "source": [
    "bs = 7\n",
    "step = 0.2\n",
    "mix = 2\n",
    "pi = F.softmax(torch.ones((bs, mix)))\n",
    "sigma = torch.ones((bs, mix))\n",
    "mu = torch.ones((bs, mix))\n",
    "\n",
    "target = torch.arange(0, bs * step * mix, step=step).view(bs, 1, mix)\n",
    "\n",
    "t = (pi, sigma, mu)\n",
    "pairwise(t, t)"
   ]
  },
  {
   "cell_type": "code",
   "execution_count": 317,
   "id": "6eb79876",
   "metadata": {},
   "outputs": [],
   "source": [
    "def jtd(output, target):\n",
    "    pi, si, mi = output\n",
    "    pj, sj, mj = target\n",
    "    \n",
    "    # pi*pj*N(mi;mj,si^2+sj^2)\n",
    "    # make the pairwise comparisions\n",
    "    parts = pairwise(output, output) + pairwise(target, target) - 2 * pairwise(output, target)\n",
    "#     print(parts)\n",
    "    return torch.sqrt(torch.abs(parts))"
   ]
  },
  {
   "cell_type": "code",
   "execution_count": 318,
   "id": "d6372fc0",
   "metadata": {},
   "outputs": [
    {
     "data": {
      "text/plain": [
       "tensor([0., 0., 0., 0., 0., 0., 0.])"
      ]
     },
     "execution_count": 318,
     "metadata": {},
     "output_type": "execute_result"
    }
   ],
   "source": [
    "jtd(t, (pi, sigma, mu))"
   ]
  },
  {
   "cell_type": "code",
   "execution_count": 325,
   "id": "eb4d8b6c",
   "metadata": {},
   "outputs": [],
   "source": [
    "def train_batch(model, target, buffer, optimizer, curiosity=None):\n",
    "    # get the inputs\n",
    "    \n",
    "    # sample from the buffer and preprocess next qs\n",
    "    s, a, r, s_n, d, batch = sample_training_batch(buffer, 32)\n",
    "    \n",
    "    # get the next qs\n",
    "    with torch.no_grad():\n",
    "        # I need to train to the scaled and transformed reward for the selected action, not just the mean\n",
    "        pi, sigma, mu = target(s_n)\n",
    "        outputs = [pi, sigma, mu]\n",
    "        base_dist = distribution(pi, sigma, mu)\n",
    "#         print(r)\n",
    "#         print(base_dist.mean.shape)\n",
    "        mq_n, a_n = torch.max(base_dist.mean, 1)\n",
    "#         print(mq_n.shape, a_n.shape)\n",
    "        pi, sigma, mu = gather_actions(outputs, a_n)\n",
    "#         print(mu.shape)\n",
    "        \n",
    "        gamma = 0.99\n",
    "        \n",
    "        # get scaled and transformed targets\n",
    "        # done case: target of r with sd 1?\n",
    "#         print(d.shape, r.shape, sigma.shape, (sigma * gamma).shape)\n",
    "        target_gm = (pi, sigma * gamma * (1 - d) + d, mu * gamma * (1 - d) + r)\n",
    "#         print(distribution(*target_gm).mean)\n",
    "#         print(target_gm[2].shape)\n",
    "#         print(distribution(*target_gm).mean.shape)\n",
    "\n",
    "    \n",
    "    if curiosity:\n",
    "        targets += curiosity.get_results(s)\n",
    "\n",
    "    # zero the parameter gradients\n",
    "    optimizer.zero_grad(set_to_none=True)\n",
    "    \n",
    "    # forward + backward + optimize\n",
    "    outputs = model(s)\n",
    "    pi, sigma, mu = outputs\n",
    "    shape = pi.shape[:-1]\n",
    "# #     print(shape)\n",
    "#     outputs = [torch.gather(x.view(shape), 1, a) for x in outputs]\n",
    "    actual_gm = gather_actions(outputs, a)\n",
    "    \n",
    "\n",
    "    individual_loss = jtd(actual_gm, target_gm)\n",
    "#     print(individual_loss)\n",
    "    loss = torch.mean(individual_loss)\n",
    "    \n",
    "    if torch.isnan(individual_loss).any():\n",
    "        print(\"There's a NaN output!\")\n",
    "        print(individual_loss)\n",
    "        return None\n",
    "\n",
    "    loss.backward()\n",
    "    \n",
    "    nn.utils.clip_grad_norm_(model.parameters(), max_norm=1.0)\n",
    "    optimizer.step()\n",
    "    \n",
    "    for i, l in enumerate(individual_loss.detach().reshape(-1).tolist()):\n",
    "#         print(batch[i])\n",
    "        tree_idx = batch[i][0]\n",
    "        tree = buffer.tree\n",
    "        buffer.update(tree_idx, l)\n",
    "        prev = tree.get_at(tree.tree_idx(tree.data_idx(tree_idx - 1)))\n",
    "        # skip the wrap around states and terminal states\n",
    "        if not prev[2] or prev[2][4]:\n",
    "            continue\n",
    "#         print(prev[0], prev[1], l)\n",
    "        buffer.update(prev[0], prev[1] + l)\n",
    "        \n",
    "    return loss.detach().item()"
   ]
  },
  {
   "cell_type": "code",
   "execution_count": 326,
   "id": "753a39b0",
   "metadata": {},
   "outputs": [],
   "source": [
    "model = DistDQN_Net(prod(env.observation_space.shape), env.action_space.n)\n",
    "model.cuda()\n",
    "target = DistDQN_Net(prod(env.observation_space.shape), env.action_space.n)\n",
    "target.cuda()\n",
    "target.eval()\n",
    "soft_update(target, model, 1.0)\n",
    "optimizer = optim.AdamW(model.parameters(), lr=0.0001)\n",
    "# optimizer = Lion(model.parameters(), lr=0.00001)"
   ]
  },
  {
   "cell_type": "code",
   "execution_count": 327,
   "id": "f49c152d",
   "metadata": {},
   "outputs": [
    {
     "data": {
      "text/plain": [
       "1.1521332263946533"
      ]
     },
     "execution_count": 327,
     "metadata": {},
     "output_type": "execute_result"
    }
   ],
   "source": [
    "train_batch(model, target, buffer, optimizer, None)"
   ]
  },
  {
   "cell_type": "code",
   "execution_count": 328,
   "id": "3e98eb9e",
   "metadata": {},
   "outputs": [],
   "source": [
    "def dqn_loop(model, target, env_wrapper, buffer, optimizer, curiosity, steps, STATS):\n",
    "    running_loss = None\n",
    "    running_rew = 0\n",
    "    \n",
    "    next_exploration = 0.95\n",
    "    with tqdm(range(steps), unit=\"batch\") as t:\n",
    "        for i in t:\n",
    "            \n",
    "            if i % 2500 == 0:\n",
    "                policy = DQN_Policy(model, next_exploration, env_wrapper.env.action_space.sample)\n",
    "                next_exploration -= 0.05\n",
    "                next_exploration = max(next_exploration, 0.05)\n",
    "            \n",
    "            sarsd, rew = env_wrapper.sample(1, policy)\n",
    "            buffer.add_all(sarsd)\n",
    "            STATS['returns'].extend(rew)\n",
    "            for r in rew:\n",
    "                running_rew = running_rew * 0.99 + r[0] * 0.01\n",
    "            \n",
    "            if (i + 1) % 4 != 0:\n",
    "                continue\n",
    "\n",
    "            loss = train_batch(model, target, buffer, optimizer, curiosity)\n",
    "            STATS[\"loss\"].append(loss)\n",
    "\n",
    "#             if i % 10000 == 0:\n",
    "#                 soft_update(target, model, 1.0)\n",
    "            soft_update(target, model, 0.001)\n",
    "            if running_loss is None:\n",
    "                running_loss = loss\n",
    "            running_loss = running_loss * 0.999 + loss * 0.001\n",
    "            if (i + 1) % 100 == 0:  # print every N mini-batches\n",
    "                string = 'loss: %.8f, rew: %.8f' % (\n",
    "                    running_loss, running_rew\n",
    "                )\n",
    "                t.set_postfix_str(string)"
   ]
  },
  {
   "cell_type": "code",
   "execution_count": 342,
   "id": "fcbfa5b8",
   "metadata": {},
   "outputs": [],
   "source": [
    "model = DistDQN_Net(prod(env.observation_space.shape), env.action_space.n)\n",
    "model.cuda()\n",
    "target = DistDQN_Net(prod(env.observation_space.shape), env.action_space.n)\n",
    "target.cuda()\n",
    "target.eval()\n",
    "soft_update(target, model, 1.0)\n",
    "optimizer = optim.AdamW(model.parameters(), lr=0.0001)\n",
    "# optimizer = Lion(model.parameters(), lr=0.00001)"
   ]
  },
  {
   "cell_type": "code",
   "execution_count": 343,
   "id": "819f49db",
   "metadata": {},
   "outputs": [],
   "source": [
    "STATS = defaultdict(list)"
   ]
  },
  {
   "cell_type": "code",
   "execution_count": 344,
   "id": "b373f8b4",
   "metadata": {},
   "outputs": [],
   "source": [
    "# env = SparseDotEnv()\n",
    "env = DotEnv()\n",
    "env_wrapper = EnvSamplingWrapper(env)"
   ]
  },
  {
   "cell_type": "code",
   "execution_count": null,
   "id": "d1d072fb",
   "metadata": {},
   "outputs": [],
   "source": []
  },
  {
   "cell_type": "code",
   "execution_count": 345,
   "id": "65d501b0",
   "metadata": {},
   "outputs": [],
   "source": [
    "buffer = PrioritizedReplayBuffer()\n",
    "# initialize the buffer:\n",
    "sarsd, rew = env_wrapper.sample(10000, lambda x: env.action_space.sample())\n",
    "buffer.add_all(sarsd)"
   ]
  },
  {
   "cell_type": "code",
   "execution_count": 346,
   "id": "169166fc",
   "metadata": {},
   "outputs": [
    {
     "name": "stderr",
     "output_type": "stream",
     "text": [
      " 40%|███████▏          | 40007/100000 [02:01<03:02, 328.39batch/s, loss: 0.10073275, rew: 30.86682049]\n"
     ]
    },
    {
     "ename": "KeyboardInterrupt",
     "evalue": "",
     "output_type": "error",
     "traceback": [
      "\u001b[0;31m---------------------------------------------------------------------------\u001b[0m",
      "\u001b[0;31mKeyboardInterrupt\u001b[0m                         Traceback (most recent call last)",
      "\u001b[0;32m/tmp/ipykernel_1319217/2803881987.py\u001b[0m in \u001b[0;36m<module>\u001b[0;34m\u001b[0m\n\u001b[0;32m----> 1\u001b[0;31m \u001b[0mdqn_loop\u001b[0m\u001b[0;34m(\u001b[0m\u001b[0mmodel\u001b[0m\u001b[0;34m,\u001b[0m \u001b[0mtarget\u001b[0m\u001b[0;34m,\u001b[0m \u001b[0menv_wrapper\u001b[0m\u001b[0;34m,\u001b[0m \u001b[0mbuffer\u001b[0m\u001b[0;34m,\u001b[0m \u001b[0moptimizer\u001b[0m\u001b[0;34m,\u001b[0m \u001b[0;32mNone\u001b[0m\u001b[0;34m,\u001b[0m \u001b[0;36m100000\u001b[0m\u001b[0;34m,\u001b[0m \u001b[0mSTATS\u001b[0m\u001b[0;34m)\u001b[0m\u001b[0;34m\u001b[0m\u001b[0;34m\u001b[0m\u001b[0m\n\u001b[0m",
      "\u001b[0;32m/tmp/ipykernel_1319217/1523838611.py\u001b[0m in \u001b[0;36mdqn_loop\u001b[0;34m(model, target, env_wrapper, buffer, optimizer, curiosity, steps, STATS)\u001b[0m\n\u001b[1;32m     21\u001b[0m                 \u001b[0;32mcontinue\u001b[0m\u001b[0;34m\u001b[0m\u001b[0;34m\u001b[0m\u001b[0m\n\u001b[1;32m     22\u001b[0m \u001b[0;34m\u001b[0m\u001b[0m\n\u001b[0;32m---> 23\u001b[0;31m             \u001b[0mloss\u001b[0m \u001b[0;34m=\u001b[0m \u001b[0mtrain_batch\u001b[0m\u001b[0;34m(\u001b[0m\u001b[0mmodel\u001b[0m\u001b[0;34m,\u001b[0m \u001b[0mtarget\u001b[0m\u001b[0;34m,\u001b[0m \u001b[0mbuffer\u001b[0m\u001b[0;34m,\u001b[0m \u001b[0moptimizer\u001b[0m\u001b[0;34m,\u001b[0m \u001b[0mcuriosity\u001b[0m\u001b[0;34m)\u001b[0m\u001b[0;34m\u001b[0m\u001b[0;34m\u001b[0m\u001b[0m\n\u001b[0m\u001b[1;32m     24\u001b[0m             \u001b[0mSTATS\u001b[0m\u001b[0;34m[\u001b[0m\u001b[0;34m\"loss\"\u001b[0m\u001b[0;34m]\u001b[0m\u001b[0;34m.\u001b[0m\u001b[0mappend\u001b[0m\u001b[0;34m(\u001b[0m\u001b[0mloss\u001b[0m\u001b[0;34m)\u001b[0m\u001b[0;34m\u001b[0m\u001b[0;34m\u001b[0m\u001b[0m\n\u001b[1;32m     25\u001b[0m \u001b[0;34m\u001b[0m\u001b[0m\n",
      "\u001b[0;32m/tmp/ipykernel_1319217/453742363.py\u001b[0m in \u001b[0;36mtrain_batch\u001b[0;34m(model, target, buffer, optimizer, curiosity)\u001b[0m\n\u001b[1;32m     41\u001b[0m \u001b[0;31m# #     print(shape)\u001b[0m\u001b[0;34m\u001b[0m\u001b[0;34m\u001b[0m\u001b[0;34m\u001b[0m\u001b[0m\n\u001b[1;32m     42\u001b[0m \u001b[0;31m#     outputs = [torch.gather(x.view(shape), 1, a) for x in outputs]\u001b[0m\u001b[0;34m\u001b[0m\u001b[0;34m\u001b[0m\u001b[0;34m\u001b[0m\u001b[0m\n\u001b[0;32m---> 43\u001b[0;31m     \u001b[0mactual_gm\u001b[0m \u001b[0;34m=\u001b[0m \u001b[0mgather_actions\u001b[0m\u001b[0;34m(\u001b[0m\u001b[0moutputs\u001b[0m\u001b[0;34m,\u001b[0m \u001b[0ma\u001b[0m\u001b[0;34m)\u001b[0m\u001b[0;34m\u001b[0m\u001b[0;34m\u001b[0m\u001b[0m\n\u001b[0m\u001b[1;32m     44\u001b[0m \u001b[0;34m\u001b[0m\u001b[0m\n\u001b[1;32m     45\u001b[0m \u001b[0;34m\u001b[0m\u001b[0m\n",
      "\u001b[0;32m/tmp/ipykernel_1319217/1921971041.py\u001b[0m in \u001b[0;36mgather_actions\u001b[0;34m(outputs, actions)\u001b[0m\n\u001b[1;32m      3\u001b[0m     \u001b[0mbatch_size\u001b[0m \u001b[0;34m=\u001b[0m \u001b[0mpi\u001b[0m\u001b[0;34m.\u001b[0m\u001b[0mshape\u001b[0m\u001b[0;34m[\u001b[0m\u001b[0;36m0\u001b[0m\u001b[0;34m]\u001b[0m\u001b[0;34m\u001b[0m\u001b[0;34m\u001b[0m\u001b[0m\n\u001b[1;32m      4\u001b[0m     \u001b[0mn_actions\u001b[0m \u001b[0;34m=\u001b[0m \u001b[0mpi\u001b[0m\u001b[0;34m.\u001b[0m\u001b[0mshape\u001b[0m\u001b[0;34m[\u001b[0m\u001b[0;36m1\u001b[0m\u001b[0;34m]\u001b[0m\u001b[0;34m\u001b[0m\u001b[0;34m\u001b[0m\u001b[0m\n\u001b[0;32m----> 5\u001b[0;31m     \u001b[0mgathered\u001b[0m \u001b[0;34m=\u001b[0m \u001b[0;34m[\u001b[0m\u001b[0mtorch\u001b[0m\u001b[0;34m.\u001b[0m\u001b[0mtake_along_dim\u001b[0m\u001b[0;34m(\u001b[0m\u001b[0mx\u001b[0m\u001b[0;34m,\u001b[0m \u001b[0mactions\u001b[0m\u001b[0;34m.\u001b[0m\u001b[0mview\u001b[0m\u001b[0;34m(\u001b[0m\u001b[0;34m-\u001b[0m\u001b[0;36m1\u001b[0m\u001b[0;34m,\u001b[0m \u001b[0;36m1\u001b[0m\u001b[0;34m,\u001b[0m \u001b[0;36m1\u001b[0m\u001b[0;34m)\u001b[0m\u001b[0;34m,\u001b[0m \u001b[0;36m1\u001b[0m\u001b[0;34m)\u001b[0m\u001b[0;34m.\u001b[0m\u001b[0mview\u001b[0m\u001b[0;34m(\u001b[0m\u001b[0mbatch_size\u001b[0m\u001b[0;34m,\u001b[0m \u001b[0;34m-\u001b[0m\u001b[0;36m1\u001b[0m\u001b[0;34m)\u001b[0m \u001b[0;32mfor\u001b[0m \u001b[0mx\u001b[0m \u001b[0;32min\u001b[0m \u001b[0moutputs\u001b[0m\u001b[0;34m]\u001b[0m\u001b[0;34m\u001b[0m\u001b[0;34m\u001b[0m\u001b[0m\n\u001b[0m\u001b[1;32m      6\u001b[0m     \u001b[0;32mreturn\u001b[0m \u001b[0mgathered\u001b[0m\u001b[0;34m\u001b[0m\u001b[0;34m\u001b[0m\u001b[0m\n",
      "\u001b[0;32m/tmp/ipykernel_1319217/1921971041.py\u001b[0m in \u001b[0;36m<listcomp>\u001b[0;34m(.0)\u001b[0m\n\u001b[1;32m      3\u001b[0m     \u001b[0mbatch_size\u001b[0m \u001b[0;34m=\u001b[0m \u001b[0mpi\u001b[0m\u001b[0;34m.\u001b[0m\u001b[0mshape\u001b[0m\u001b[0;34m[\u001b[0m\u001b[0;36m0\u001b[0m\u001b[0;34m]\u001b[0m\u001b[0;34m\u001b[0m\u001b[0;34m\u001b[0m\u001b[0m\n\u001b[1;32m      4\u001b[0m     \u001b[0mn_actions\u001b[0m \u001b[0;34m=\u001b[0m \u001b[0mpi\u001b[0m\u001b[0;34m.\u001b[0m\u001b[0mshape\u001b[0m\u001b[0;34m[\u001b[0m\u001b[0;36m1\u001b[0m\u001b[0;34m]\u001b[0m\u001b[0;34m\u001b[0m\u001b[0;34m\u001b[0m\u001b[0m\n\u001b[0;32m----> 5\u001b[0;31m     \u001b[0mgathered\u001b[0m \u001b[0;34m=\u001b[0m \u001b[0;34m[\u001b[0m\u001b[0mtorch\u001b[0m\u001b[0;34m.\u001b[0m\u001b[0mtake_along_dim\u001b[0m\u001b[0;34m(\u001b[0m\u001b[0mx\u001b[0m\u001b[0;34m,\u001b[0m \u001b[0mactions\u001b[0m\u001b[0;34m.\u001b[0m\u001b[0mview\u001b[0m\u001b[0;34m(\u001b[0m\u001b[0;34m-\u001b[0m\u001b[0;36m1\u001b[0m\u001b[0;34m,\u001b[0m \u001b[0;36m1\u001b[0m\u001b[0;34m,\u001b[0m \u001b[0;36m1\u001b[0m\u001b[0;34m)\u001b[0m\u001b[0;34m,\u001b[0m \u001b[0;36m1\u001b[0m\u001b[0;34m)\u001b[0m\u001b[0;34m.\u001b[0m\u001b[0mview\u001b[0m\u001b[0;34m(\u001b[0m\u001b[0mbatch_size\u001b[0m\u001b[0;34m,\u001b[0m \u001b[0;34m-\u001b[0m\u001b[0;36m1\u001b[0m\u001b[0;34m)\u001b[0m \u001b[0;32mfor\u001b[0m \u001b[0mx\u001b[0m \u001b[0;32min\u001b[0m \u001b[0moutputs\u001b[0m\u001b[0;34m]\u001b[0m\u001b[0;34m\u001b[0m\u001b[0;34m\u001b[0m\u001b[0m\n\u001b[0m\u001b[1;32m      6\u001b[0m     \u001b[0;32mreturn\u001b[0m \u001b[0mgathered\u001b[0m\u001b[0;34m\u001b[0m\u001b[0;34m\u001b[0m\u001b[0m\n",
      "\u001b[0;31mKeyboardInterrupt\u001b[0m: "
     ]
    }
   ],
   "source": [
    "dqn_loop(model, target, env_wrapper, buffer, optimizer, None, 100000, STATS)"
   ]
  },
  {
   "cell_type": "code",
   "execution_count": null,
   "id": "f4250428",
   "metadata": {},
   "outputs": [],
   "source": []
  },
  {
   "cell_type": "code",
   "execution_count": 347,
   "id": "0e328674",
   "metadata": {},
   "outputs": [
    {
     "data": {
      "text/plain": [
       "[<matplotlib.lines.Line2D at 0x7fda238f9b20>]"
      ]
     },
     "execution_count": 347,
     "metadata": {},
     "output_type": "execute_result"
    },
    {
     "data": {
      "image/png": "[encoded data removed]",
      "text/plain": [
       "<Figure size 720x576 with 1 Axes>"
      ]
     },
     "metadata": {
      "needs_background": "light"
     },
     "output_type": "display_data"
    }
   ],
   "source": [
    "plt.plot(np.convolve(np.asarray([x[0] for x in STATS['returns']]), np.ones((100,)) / 100, mode='valid'))"
   ]
  },
  {
   "cell_type": "code",
   "execution_count": 348,
   "id": "966cb1a9",
   "metadata": {},
   "outputs": [
    {
     "data": {
      "text/plain": [
       "[<matplotlib.lines.Line2D at 0x7fda238c1b80>]"
      ]
     },
     "execution_count": 348,
     "metadata": {},
     "output_type": "execute_result"
    },
    {
     "data": {
      "image/png": "[encoded data removed]",
      "text/plain": [
       "<Figure size 720x576 with 1 Axes>"
      ]
     },
     "metadata": {
      "needs_background": "light"
     },
     "output_type": "display_data"
    }
   ],
   "source": [
    "plt.plot(np.convolve(np.convolve(np.asarray([x[1] for x in STATS['returns']]), np.asarray([1, -1]), mode='valid'), np.ones((1,)) / 1, mode='valid'))"
   ]
  },
  {
   "cell_type": "code",
   "execution_count": 349,
   "id": "3a19c2fb",
   "metadata": {},
   "outputs": [
    {
     "data": {
      "text/plain": [
       "[<matplotlib.lines.Line2D at 0x7fda1f3327c0>]"
      ]
     },
     "execution_count": 349,
     "metadata": {},
     "output_type": "execute_result"
    },
    {
     "data": {
      "image/png": "[encoded data removed]",
      "text/plain": [
       "<Figure size 720x576 with 1 Axes>"
      ]
     },
     "metadata": {
      "needs_background": "light"
     },
     "output_type": "display_data"
    }
   ],
   "source": [
    "plt.plot(np.convolve(np.asarray(STATS['loss']), np.ones((100,)) / 100, mode='valid')[10:])"
   ]
  },
  {
   "cell_type": "code",
   "execution_count": 350,
   "id": "3d3a2247",
   "metadata": {},
   "outputs": [
    {
     "data": {
      "text/plain": [
       "[<matplotlib.lines.Line2D at 0x7fda1f2f65b0>]"
      ]
     },
     "execution_count": 350,
     "metadata": {},
     "output_type": "execute_result"
    },
    {
     "data": {
      "image/png": "[encoded data removed]",
      "text/plain": [
       "<Figure size 720x576 with 1 Axes>"
      ]
     },
     "metadata": {
      "needs_background": "light"
     },
     "output_type": "display_data"
    }
   ],
   "source": [
    "plt.plot(buffer.tree.tree[buffer.tree.tree_idx(0):buffer.tree.tree_idx(buffer.tree.n_entries)-500])"
   ]
  },
  {
   "cell_type": "code",
   "execution_count": null,
   "id": "f43a5d70",
   "metadata": {},
   "outputs": [],
   "source": []
  },
  {
   "cell_type": "code",
   "execution_count": 351,
   "id": "033041b9",
   "metadata": {},
   "outputs": [],
   "source": [
    "# evaluate the model on all possible states, then display the return\n",
    "sum_obs = np.zeros((64, 64))\n",
    "act = np.zeros((64, 64))\n",
    "\n",
    "\n",
    "# generate all possible states, and calculate their return\n",
    "states = []\n",
    "for j in range(64):\n",
    "    for i in range(64):\n",
    "        observation = np.zeros((64, 64, 3), dtype=np.uint8)\n",
    "        observation[i:i+2, j:j+2] = np.array([255, 255, 255])\n",
    "        image = torch.from_numpy(to_batch_shape(observation)).permute((0, 3, 1, 2)).cuda() / 255\n",
    "        with torch.no_grad():\n",
    "            outputs = sample_action(model(image), 0)\n",
    "            q_n, a_n = torch.max(outputs, 1)\n",
    "#             print(q_n, a_n, outputs)\n",
    "#             break\n",
    "        sum_obs[i, j] = q_n.item()\n",
    "        act[i, j] = a_n.item()"
   ]
  },
  {
   "cell_type": "code",
   "execution_count": 352,
   "id": "aec5f275",
   "metadata": {},
   "outputs": [
    {
     "data": {
      "text/plain": [
       "<matplotlib.image.AxesImage at 0x7fda1f2b8550>"
      ]
     },
     "execution_count": 352,
     "metadata": {},
     "output_type": "execute_result"
    },
    {
     "data": {
      "image/png": "[encoded data removed]",
      "text/plain": [
       "<Figure size 720x576 with 1 Axes>"
      ]
     },
     "metadata": {
      "needs_background": "light"
     },
     "output_type": "display_data"
    }
   ],
   "source": [
    "plt.imshow(sum_obs)"
   ]
  },
  {
   "cell_type": "code",
   "execution_count": 353,
   "id": "d63acf7c",
   "metadata": {},
   "outputs": [
    {
     "data": {
      "text/plain": [
       "<matplotlib.image.AxesImage at 0x7fda1f274790>"
      ]
     },
     "execution_count": 353,
     "metadata": {},
     "output_type": "execute_result"
    },
    {
     "data": {
      "image/png": "[encoded data removed]",
      "text/plain": [
       "<Figure size 720x576 with 1 Axes>"
      ]
     },
     "metadata": {
      "needs_background": "light"
     },
     "output_type": "display_data"
    }
   ],
   "source": [
    "plt.imshow(act)"
   ]
  },
  {
   "cell_type": "code",
   "execution_count": 340,
   "id": "8f0e6c99",
   "metadata": {},
   "outputs": [
    {
     "data": {
      "text/plain": [
       "(5.093817710876465, 0.4450194537639618, 3.176833444988006)"
      ]
     },
     "execution_count": 340,
     "metadata": {},
     "output_type": "execute_result"
    }
   ],
   "source": [
    "sum_obs.max(), sum_obs.min(), sum_obs.mean()"
   ]
  },
  {
   "cell_type": "code",
   "execution_count": null,
   "id": "eec05c94",
   "metadata": {},
   "outputs": [],
   "source": []
  }
 ],
 "metadata": {
  "kernelspec": {
   "display_name": "Python 3 (ipykernel)",
   "language": "python",
   "name": "python3"
  },
  "language_info": {
   "codemirror_mode": {
    "name": "ipython",
    "version": 3
   },
   "file_extension": ".py",
   "mimetype": "text/x-python",
   "name": "python",
   "nbconvert_exporter": "python",
   "pygments_lexer": "ipython3",
   "version": "3.9.6"
  }
 },
 "nbformat": 4,
 "nbformat_minor": 5
}
