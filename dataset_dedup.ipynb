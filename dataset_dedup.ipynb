{
 "cells": [
  {
   "cell_type": "code",
   "execution_count": 1,
   "id": "f42ff348",
   "metadata": {},
   "outputs": [],
   "source": [
    "%matplotlib inline\n",
    "%load_ext autoreload\n",
    "%autoreload 2"
   ]
  },
  {
   "cell_type": "code",
   "execution_count": 2,
   "id": "5a609e3d",
   "metadata": {},
   "outputs": [],
   "source": [
    "import matplotlib\n",
    "matplotlib.rcParams['figure.figsize'] = [15, 10]"
   ]
  },
  {
   "cell_type": "code",
   "execution_count": 12,
   "id": "e9615bcd",
   "metadata": {},
   "outputs": [],
   "source": [
    "import matplotlib.pyplot as plt\n",
    "import numpy as np\n",
    "import torch\n",
    "import minerl\n",
    "from tqdm import tqdm\n",
    "from collections import defaultdict\n",
    "import hashlib"
   ]
  },
  {
   "cell_type": "code",
   "execution_count": null,
   "id": "7aef17d6",
   "metadata": {},
   "outputs": [],
   "source": []
  },
  {
   "cell_type": "code",
   "execution_count": 13,
   "id": "99ca99cc",
   "metadata": {},
   "outputs": [],
   "source": [
    "from dataset_preprocessing import MineRlSequenceDataset, MineRlImageDataset\n"
   ]
  },
  {
   "cell_type": "code",
   "execution_count": 14,
   "id": "13968475",
   "metadata": {},
   "outputs": [],
   "source": [
    "base_dir = \"data/npy_obtain_diamond\""
   ]
  },
  {
   "cell_type": "code",
   "execution_count": 15,
   "id": "20f86bc8",
   "metadata": {},
   "outputs": [],
   "source": [
    "frames = np.memmap(base_dir + '/pov.npy', dtype='uint8', mode='r', shape=(1916597, 64, 64, 3))"
   ]
  },
  {
   "cell_type": "code",
   "execution_count": 16,
   "id": "4695b743",
   "metadata": {},
   "outputs": [],
   "source": [
    "indexes = defaultdict(list)"
   ]
  },
  {
   "cell_type": "code",
   "execution_count": 17,
   "id": "a1729efa",
   "metadata": {},
   "outputs": [
    {
     "name": "stderr",
     "output_type": "stream",
     "text": [
      "100%|████████████████████████████████████████████████████████████████████████████| 1916597/1916597 [00:29<00:00, 65796.64it/s]\n"
     ]
    }
   ],
   "source": [
    "for ii in tqdm(range(1916597)):\n",
    "    frame = frames[ii]\n",
    "    frame_hash = hashlib.sha224(frame.tobytes()).hexdigest()\n",
    "    indexes[frame_hash].append(ii)\n",
    "    "
   ]
  },
  {
   "cell_type": "code",
   "execution_count": 18,
   "id": "5077c1d0",
   "metadata": {},
   "outputs": [
    {
     "data": {
      "text/plain": [
       "1733950"
      ]
     },
     "execution_count": 18,
     "metadata": {},
     "output_type": "execute_result"
    }
   ],
   "source": [
    "len(indexes)"
   ]
  },
  {
   "cell_type": "code",
   "execution_count": 19,
   "id": "aed3581f",
   "metadata": {},
   "outputs": [
    {
     "data": {
      "text/plain": [
       "182647"
      ]
     },
     "execution_count": 19,
     "metadata": {},
     "output_type": "execute_result"
    }
   ],
   "source": [
    "1916597-len(indexes)"
   ]
  },
  {
   "cell_type": "code",
   "execution_count": null,
   "id": "e176432c",
   "metadata": {},
   "outputs": [],
   "source": []
  },
  {
   "cell_type": "code",
   "execution_count": null,
   "id": "534b7cf9",
   "metadata": {},
   "outputs": [],
   "source": []
  },
  {
   "cell_type": "code",
   "execution_count": null,
   "id": "e2f6c697",
   "metadata": {},
   "outputs": [],
   "source": [
    "class MineRlImageDataset(Dataset):\n",
    "    def __init__(self, base_dir, transform=None):\n",
    "        initial_size = 1916597\n",
    "        self.transform = transform\n",
    "        self.pov = np.memmap(base_dir + '/pov.npy', dtype='uint8', mode='r', shape=(initial_size, 64, 64, 3))\n",
    "\n",
    "    def __len__(self):\n",
    "        return self.pov.shape[0]\n",
    "\n",
    "    def __getitem__(self, idx):\n",
    "        image = self.pov[idx]\n",
    "        if self.transform:\n",
    "            image = self.transform(image)\n",
    "        return image"
   ]
  },
  {
   "cell_type": "code",
   "execution_count": null,
   "id": "ffed0899",
   "metadata": {},
   "outputs": [],
   "source": []
  },
  {
   "cell_type": "code",
   "execution_count": null,
   "id": "16c35ec6",
   "metadata": {},
   "outputs": [],
   "source": []
  },
  {
   "cell_type": "code",
   "execution_count": null,
   "id": "23740ed5",
   "metadata": {},
   "outputs": [],
   "source": []
  },
  {
   "cell_type": "code",
   "execution_count": null,
   "id": "7a6281a3",
   "metadata": {},
   "outputs": [],
   "source": []
  },
  {
   "cell_type": "code",
   "execution_count": null,
   "id": "61d168ba",
   "metadata": {},
   "outputs": [],
   "source": [
    "hashlib.sha224(b\"Nobody inspects the spammish repetition\").hexdigest()"
   ]
  }
 ],
 "metadata": {
  "kernelspec": {
   "display_name": "Python 3 (ipykernel)",
   "language": "python",
   "name": "python3"
  },
  "language_info": {
   "codemirror_mode": {
    "name": "ipython",
    "version": 3
   },
   "file_extension": ".py",
   "mimetype": "text/x-python",
   "name": "python",
   "nbconvert_exporter": "python",
   "pygments_lexer": "ipython3",
   "version": "3.9.6"
  }
 },
 "nbformat": 4,
 "nbformat_minor": 5
}
