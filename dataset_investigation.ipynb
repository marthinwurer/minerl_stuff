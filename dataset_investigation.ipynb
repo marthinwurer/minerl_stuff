{
 "cells": [
  {
   "cell_type": "code",
   "execution_count": 1,
   "id": "0027e316",
   "metadata": {},
   "outputs": [],
   "source": [
    "%matplotlib inline\n",
    "%load_ext autoreload\n",
    "%autoreload 2"
   ]
  },
  {
   "cell_type": "code",
   "execution_count": 2,
   "id": "94a87570",
   "metadata": {},
   "outputs": [],
   "source": [
    "import matplotlib\n",
    "matplotlib.rcParams['figure.figsize'] = [15, 10]"
   ]
  },
  {
   "cell_type": "code",
   "execution_count": 3,
   "id": "fd6b4909",
   "metadata": {},
   "outputs": [
    {
     "name": "stderr",
     "output_type": "stream",
     "text": [
      "/home/marthinwurer/.pyenv/versions/3.9.6/envs/minerl/lib/python3.9/site-packages/gym/logger.py:34: UserWarning: \u001b[33mWARN: Box bound precision lowered by casting to float32\u001b[0m\n",
      "  warnings.warn(colorize(\"%s: %s\" % (\"WARN\", msg % args), \"yellow\"))\n"
     ]
    }
   ],
   "source": [
    "import os\n",
    "import minerl\n",
    "import numpy as np\n",
    "from torch.utils.data import Dataset\n",
    "from tqdm import tqdm\n",
    "import matplotlib.pyplot as plt\n",
    "from dataset_preprocessing import MineRlSequenceDataset, MineRlImageDataset"
   ]
  },
  {
   "cell_type": "code",
   "execution_count": 4,
   "id": "739e7f64",
   "metadata": {},
   "outputs": [],
   "source": [
    "dataset = MineRlSequenceDataset(\"data/npy_obtain_diamond\", 32)"
   ]
  },
  {
   "cell_type": "code",
   "execution_count": 5,
   "id": "e21b4424",
   "metadata": {},
   "outputs": [],
   "source": [
    "# compute return for each episode"
   ]
  },
  {
   "cell_type": "code",
   "execution_count": 6,
   "id": "3d7f6888",
   "metadata": {},
   "outputs": [],
   "source": [
    "ret = np.zeros_like(dataset.rew)"
   ]
  },
  {
   "cell_type": "code",
   "execution_count": 7,
   "id": "a1ac8f58",
   "metadata": {},
   "outputs": [
    {
     "data": {
      "text/plain": [
       "(1916597, 1)"
      ]
     },
     "execution_count": 7,
     "metadata": {},
     "output_type": "execute_result"
    }
   ],
   "source": [
    "ret.shape"
   ]
  },
  {
   "cell_type": "code",
   "execution_count": 10,
   "id": "8817ad18",
   "metadata": {},
   "outputs": [],
   "source": [
    "current_ret = np.zeros_like(dataset.rew)"
   ]
  },
  {
   "cell_type": "code",
   "execution_count": 11,
   "id": "7ac54be4",
   "metadata": {},
   "outputs": [],
   "source": [
    "episodes = []"
   ]
  },
  {
   "cell_type": "code",
   "execution_count": 12,
   "id": "07200093",
   "metadata": {},
   "outputs": [],
   "source": [
    "total = 0\n",
    "start = 0\n",
    "for idx in range(ret.shape[0]):\n",
    "    total += dataset.rew[idx][0]\n",
    "    current_ret[idx] = total\n",
    "    if dataset.don[idx][0]:\n",
    "        episodes.append((start, idx, total))\n",
    "        total = 0\n",
    "        start = idx + 1"
   ]
  },
  {
   "cell_type": "code",
   "execution_count": 13,
   "id": "a8a58b78",
   "metadata": {},
   "outputs": [
    {
     "data": {
      "text/plain": [
       "[(0, 26127, 1571.0),\n",
       " (26128, 35426, 1571.0),\n",
       " (35427, 43610, 67.0),\n",
       " (43611, 52648, 1571.0),\n",
       " (52649, 122174, 99.0),\n",
       " (122175, 142315, 547.0),\n",
       " (142316, 150078, 1571.0),\n",
       " (150079, 154820, 1571.0),\n",
       " (154821, 166392, 1571.0),\n",
       " (166393, 178845, 163.0),\n",
       " (178846, 189298, 1571.0),\n",
       " (189299, 194448, 1571.0),\n",
       " (194449, 206066, 1571.0),\n",
       " (206067, 218290, 1571.0),\n",
       " (218291, 242248, 1571.0),\n",
       " (242249, 265282, 1571.0),\n",
       " (265283, 281063, 1571.0),\n",
       " (281064, 283081, 35.0),\n",
       " (283082, 292049, 131.0),\n",
       " (292050, 303906, 99.0),\n",
       " (303907, 321778, 1571.0),\n",
       " (321779, 347261, 1571.0),\n",
       " (347262, 360593, 1571.0),\n",
       " (360594, 362487, 19.0),\n",
       " (362488, 376189, 1571.0),\n",
       " (376190, 378385, 35.0),\n",
       " (378386, 389122, 1571.0),\n",
       " (389123, 402131, 547.0),\n",
       " (402132, 468119, 1571.0),\n",
       " (468120, 486746, 1571.0),\n",
       " (486747, 489652, 35.0),\n",
       " (489653, 500119, 547.0),\n",
       " (500120, 501098, 1.0),\n",
       " (501099, 505233, 1571.0),\n",
       " (505234, 510691, 1571.0),\n",
       " (510692, 535955, 1571.0),\n",
       " (535956, 563190, 1571.0),\n",
       " (563191, 573729, 1571.0),\n",
       " (573730, 598427, 547.0),\n",
       " (598428, 601877, 67.0),\n",
       " (601878, 606391, 35.0),\n",
       " (606392, 615387, 1571.0),\n",
       " (615388, 659562, 163.0),\n",
       " (659563, 706636, 1571.0),\n",
       " (706637, 723250, 163.0),\n",
       " (723251, 737620, 1571.0),\n",
       " (737621, 744983, 547.0),\n",
       " (744984, 770064, 547.0),\n",
       " (770065, 800688, 1571.0),\n",
       " (800689, 834980, 1571.0),\n",
       " (834981, 848869, 1571.0),\n",
       " (848870, 865299, 1571.0),\n",
       " (865300, 873272, 1571.0),\n",
       " (873273, 900050, 1571.0),\n",
       " (900051, 915360, 547.0),\n",
       " (915361, 946358, 547.0),\n",
       " (946359, 972817, 1571.0),\n",
       " (972818, 991749, 1571.0),\n",
       " (991750, 997445, 1571.0),\n",
       " (997446, 1003557, 1571.0),\n",
       " (1003558, 1005552, 1.0),\n",
       " (1005553, 1007401, 1.0),\n",
       " (1007402, 1015791, 1571.0),\n",
       " (1015792, 1024658, 67.0),\n",
       " (1024659, 1031419, 1571.0),\n",
       " (1031420, 1052856, 163.0),\n",
       " (1052857, 1084233, 1571.0),\n",
       " (1084234, 1118125, 1571.0),\n",
       " (1118126, 1129015, 1571.0),\n",
       " (1129016, 1137595, 1571.0),\n",
       " (1137596, 1179276, 1571.0),\n",
       " (1179277, 1191621, 1571.0),\n",
       " (1191622, 1210839, 547.0),\n",
       " (1210840, 1222385, 99.0),\n",
       " (1222386, 1229951, 1571.0),\n",
       " (1229952, 1240667, 1571.0),\n",
       " (1240668, 1278084, 163.0),\n",
       " (1278085, 1292981, 1571.0),\n",
       " (1292982, 1299562, 1571.0),\n",
       " (1299563, 1301074, 1.0),\n",
       " (1301075, 1319573, 67.0),\n",
       " (1319574, 1346920, 1571.0),\n",
       " (1346921, 1361811, 547.0),\n",
       " (1361812, 1373952, 1571.0),\n",
       " (1373953, 1380662, 163.0),\n",
       " (1380663, 1390795, 1571.0),\n",
       " (1390796, 1409573, 547.0),\n",
       " (1409574, 1416105, 67.0),\n",
       " (1416106, 1426234, 99.0),\n",
       " (1426235, 1472882, 1571.0),\n",
       " (1472883, 1476090, 35.0),\n",
       " (1476091, 1489289, 1571.0),\n",
       " (1489290, 1495492, 1571.0),\n",
       " (1495493, 1525130, 547.0),\n",
       " (1525131, 1538240, 1571.0),\n",
       " (1538241, 1564576, 1571.0),\n",
       " (1564577, 1575560, 1571.0),\n",
       " (1575561, 1588756, 547.0),\n",
       " (1588757, 1616646, 547.0),\n",
       " (1616647, 1627302, 1571.0),\n",
       " (1627303, 1643806, 547.0),\n",
       " (1643807, 1647148, 1.0),\n",
       " (1647149, 1659750, 547.0),\n",
       " (1659751, 1669126, 1571.0),\n",
       " (1669127, 1685317, 1571.0),\n",
       " (1685318, 1706576, 1571.0),\n",
       " (1706577, 1719890, 99.0),\n",
       " (1719891, 1724292, 1571.0),\n",
       " (1724293, 1730838, 547.0),\n",
       " (1730839, 1739371, 1571.0),\n",
       " (1739372, 1746946, 1571.0),\n",
       " (1746947, 1750557, 67.0),\n",
       " (1750558, 1775103, 547.0),\n",
       " (1775104, 1789580, 1571.0),\n",
       " (1789581, 1807990, 1571.0),\n",
       " (1807991, 1816265, 67.0),\n",
       " (1816266, 1825885, 1571.0),\n",
       " (1825886, 1831342, 1571.0),\n",
       " (1831343, 1866821, 547.0),\n",
       " (1866822, 1895636, 1571.0),\n",
       " (1895637, 1909505, 1571.0),\n",
       " (1909506, 1916596, 547.0)]"
      ]
     },
     "execution_count": 13,
     "metadata": {},
     "output_type": "execute_result"
    }
   ],
   "source": [
    "ep = episodes"
   ]
  },
  {
   "cell_type": "code",
   "execution_count": 24,
   "id": "fc366031",
   "metadata": {},
   "outputs": [
    {
     "data": {
      "text/plain": [
       "[<matplotlib.lines.Line2D at 0x7f3bc0013e20>]"
      ]
     },
     "execution_count": 24,
     "metadata": {},
     "output_type": "execute_result"
    },
    {
     "data": {
      "image/png": "[encoded data removed]",
      "text/plain": [
       "<Figure size 1080x720 with 1 Axes>"
      ]
     },
     "metadata": {
      "needs_background": "light"
     },
     "output_type": "display_data"
    }
   ],
   "source": [
    "ep = 7\n",
    "plt.plot(np.log2(current_ret+1)[episodes[ep][0]:episodes[ep][1]+1])"
   ]
  },
  {
   "cell_type": "code",
   "execution_count": null,
   "id": "2a6710f1",
   "metadata": {},
   "outputs": [],
   "source": []
  }
 ],
 "metadata": {
  "kernelspec": {
   "display_name": "Python 3 (ipykernel)",
   "language": "python",
   "name": "python3"
  },
  "language_info": {
   "codemirror_mode": {
    "name": "ipython",
    "version": 3
   },
   "file_extension": ".py",
   "mimetype": "text/x-python",
   "name": "python",
   "nbconvert_exporter": "python",
   "pygments_lexer": "ipython3",
   "version": "3.9.6"
  }
 },
 "nbformat": 4,
 "nbformat_minor": 5
}
