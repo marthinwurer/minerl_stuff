{
 "cells": [
  {
   "cell_type": "code",
   "execution_count": 1,
   "id": "f65e4e0d",
   "metadata": {},
   "outputs": [],
   "source": [
    "%matplotlib inline\n",
    "%load_ext autoreload\n",
    "%autoreload 2"
   ]
  },
  {
   "cell_type": "code",
   "execution_count": 2,
   "id": "84be007f",
   "metadata": {},
   "outputs": [],
   "source": [
    "import matplotlib\n",
    "matplotlib.rcParams['figure.figsize'] = [10, 8]"
   ]
  },
  {
   "cell_type": "code",
   "execution_count": 8,
   "id": "c2626379",
   "metadata": {},
   "outputs": [],
   "source": [
    "import matplotlib.pyplot as plt\n",
    "import numpy as np\n",
    "import torch\n",
    "# import minerl\n",
    "from tqdm import tqdm\n",
    "import random\n",
    "\n",
    "from torch import nn, optim\n",
    "import torch.nn.functional as F\n",
    "from torch.optim.lr_scheduler import ReduceLROnPlateau\n",
    "from utilities import flatten, unflatten, to_batch_shape, to_torch_channels\n",
    "from collections import defaultdict\n",
    "import coordconv\n",
    "\n",
    "from networks import ConvNeXtBlock, SimpleLayerNorm\n",
    "from spectralpool import SpectralPool2d\n",
    "import collections\n",
    "from autoencoder import VAELatent\n",
    "\n",
    "import shapes_dataset\n",
    "# from dataset_preprocessing import MineRlSequenceDataset, MineRlImageDataset\n",
    "from torch.utils.data import Dataset\n",
    "from torchvision import datasets\n",
    "from torchvision.transforms import ToTensor\n",
    "from torch.utils.data import DataLoader\n",
    "\n",
    "import AdvancedAutoencoder\n",
    "import autoencoder\n",
    "from ZerO import init_ZerO\n",
    "from networks import SkippableLayerNorm\n",
    "from lion_pytorch import Lion"
   ]
  },
  {
   "cell_type": "code",
   "execution_count": 9,
   "id": "1a5839c6",
   "metadata": {},
   "outputs": [],
   "source": [
    "# the basic algorithm:\n",
    "# https://spinningup.openai.com/en/latest/spinningup/rl_intro.html#\n",
    "# Q(state, action) -> return (total reward)\n",
    "# So, implement Q() as a neural net.\n",
    "# This works because nns are universal function approximators.\n",
    "# Train it to predict the returns for each action,\n",
    "# then pick the action with the highest expected return.\n",
    "# This can be done recursively by doing:\n",
    "# Q(s, a) = r(s, a) + max(Q(s_n, a_n))\n",
    "# we can max Q() because we actually implement Q(state) -> List[return]\n",
    "# So, what we need to do is to make that nn from the observation space to the action space with the returns\n"
   ]
  },
  {
   "cell_type": "code",
   "execution_count": 10,
   "id": "92db4b5d",
   "metadata": {},
   "outputs": [],
   "source": [
    "# alright, let's make a simple gym"
   ]
  },
  {
   "cell_type": "code",
   "execution_count": 11,
   "id": "800d0b82",
   "metadata": {},
   "outputs": [],
   "source": [
    "import gym\n",
    "from gym import spaces"
   ]
  },
  {
   "cell_type": "code",
   "execution_count": 12,
   "id": "72cfebd3",
   "metadata": {},
   "outputs": [],
   "source": [
    "action_to_vector = {\n",
    "    0: np.array([0, -1]),  # Up\n",
    "    1: np.array([1, 0]),   # Right\n",
    "    2: np.array([0, 1]),   # Down\n",
    "    3: np.array([-1, 0])   # Left\n",
    "}"
   ]
  },
  {
   "cell_type": "code",
   "execution_count": 13,
   "id": "0b819834",
   "metadata": {},
   "outputs": [],
   "source": [
    "import gym\n",
    "import numpy as np\n",
    "\n",
    "class DotEnv(gym.Env):\n",
    "    metadata = {'render.modes': ['human']}\n",
    "\n",
    "    def __init__(self):\n",
    "        self.width = 64\n",
    "        self.height = 64\n",
    "        self.observation_space = gym.spaces.Box(low=0, high=255, shape=(self.height, self.width, 3), dtype=np.uint8)\n",
    "        self.action_space = gym.spaces.Discrete(4)\n",
    "        self.dot_position = np.array([0, 0], dtype='int32')\n",
    "        self.dot_color = np.array([255, 255, 255])\n",
    "        self.goal_position = np.array([self.width/2, self.height/2], dtype='int32')\n",
    "        self.viewer = None\n",
    "        self.reward_range = (-float('inf'), float('inf'))\n",
    "        self.max_episode_steps = 200\n",
    "        self.current_step = 0\n",
    "\n",
    "    def step(self, action):\n",
    "        # Move the dot according to the action\n",
    "        if action == 0:  # Up\n",
    "            self.dot_position[1] = max(self.dot_position[1] - 1, 0)\n",
    "        elif action == 1:  # Right\n",
    "            self.dot_position[0] = min(self.dot_position[0] + 1, self.width - 2)\n",
    "        elif action == 2:  # Down\n",
    "            self.dot_position[1] = min(self.dot_position[1] + 1, self.height - 2)\n",
    "        elif action == 3:  # Left\n",
    "            self.dot_position[0] = max(self.dot_position[0] - 1, 0)\n",
    "\n",
    "        # Compute the reward based on the new position of the dot\n",
    "        distance = np.linalg.norm(self.dot_position - self.goal_position)\n",
    "        reward = 1 if distance < np.linalg.norm(self.dot_position - action_to_vector[action] - self.goal_position) else -1\n",
    "\n",
    "        # Update the observation\n",
    "        observation = np.zeros((self.height, self.width, 3), dtype=np.uint8)\n",
    "        observation[self.dot_position[1]:self.dot_position[1]+2, self.dot_position[0]:self.dot_position[0]+2] = self.dot_color\n",
    "\n",
    "        self.current_step += 1\n",
    "        done = self.current_step >= self.max_episode_steps or all(self.dot_position == self.goal_position)\n",
    "        info = {}\n",
    "\n",
    "        return observation, reward, done, info\n",
    "    \n",
    "    def get_obs(self):\n",
    "        observation = np.zeros((self.height, self.width, 3), dtype=np.uint8)\n",
    "        observation[self.dot_position[1]:self.dot_position[1]+2, self.dot_position[0]:self.dot_position[0]+2] = self.dot_color\n",
    "        return observation\n",
    "\n",
    "    def reset(self):\n",
    "        self.dot_position = np.array([np.random.randint(0, self.width - 2), np.random.randint(0, self.height - 2)])\n",
    "        observation = np.zeros((self.height, self.width, 3), dtype=np.uint8)\n",
    "        observation[self.dot_position[1]:self.dot_position[1]+2, self.dot_position[0]:self.dot_position[0]+2] = self.dot_color\n",
    "        self.current_step = 0\n",
    "        return observation\n",
    "\n",
    "    def render(self, mode='human'):\n",
    "        if self.viewer is None:\n",
    "            from gym.envs.classic_control import rendering\n",
    "            self.viewer = rendering.SimpleImageViewer()\n",
    "        self.viewer.imshow(self.reset())\n"
   ]
  },
  {
   "cell_type": "code",
   "execution_count": 14,
   "id": "ab7866aa",
   "metadata": {},
   "outputs": [
    {
     "name": "stdout",
     "output_type": "stream",
     "text": [
      "Total reward: 12\n"
     ]
    }
   ],
   "source": [
    "env = DotEnv()\n",
    "observation = env.reset()\n",
    "done = False\n",
    "total_reward = 0\n",
    "while not done:\n",
    "    action = env.action_space.sample()  # Replace with your policy\n",
    "    observation, reward, done, info = env.step(action)\n",
    "    total_reward += reward\n",
    "#     env.render()\n",
    "print(f'Total reward: {total_reward}')"
   ]
  },
  {
   "cell_type": "code",
   "execution_count": 15,
   "id": "934fa643",
   "metadata": {},
   "outputs": [],
   "source": [
    "env.dot_position = np.array([32, 31])"
   ]
  },
  {
   "cell_type": "code",
   "execution_count": 16,
   "id": "d462b8f3",
   "metadata": {},
   "outputs": [
    {
     "data": {
      "text/plain": [
       "True"
      ]
     },
     "execution_count": 16,
     "metadata": {},
     "output_type": "execute_result"
    }
   ],
   "source": [
    "observation, reward, done, info = env.step(2)\n",
    "done"
   ]
  },
  {
   "cell_type": "code",
   "execution_count": 17,
   "id": "862c4079",
   "metadata": {},
   "outputs": [
    {
     "data": {
      "text/plain": [
       "<matplotlib.image.AxesImage at 0x7f20160561f0>"
      ]
     },
     "execution_count": 17,
     "metadata": {},
     "output_type": "execute_result"
    },
    {
     "data": {
      "image/png": "[encoded data removed]",
      "text/plain": [
       "<Figure size 720x576 with 1 Axes>"
      ]
     },
     "metadata": {
      "needs_background": "light"
     },
     "output_type": "display_data"
    }
   ],
   "source": [
    "plt.imshow(observation)"
   ]
  },
  {
   "cell_type": "code",
   "execution_count": 18,
   "id": "0ae36bf4",
   "metadata": {},
   "outputs": [],
   "source": [
    "# alright, now that I have my model, it's time to try doing some reinforcement learning"
   ]
  },
  {
   "cell_type": "code",
   "execution_count": 19,
   "id": "b1bdba1b",
   "metadata": {},
   "outputs": [],
   "source": [
    "# start by doing a basic linear network from the observation space to the "
   ]
  },
  {
   "cell_type": "code",
   "execution_count": 20,
   "id": "8b42b4a4",
   "metadata": {},
   "outputs": [],
   "source": [
    "# replay buffer. Store (s, a, r, s_n, d) tuples\n",
    "class ReplayBuffer:\n",
    "    def __init__(self, max_size=1000000):\n",
    "        self.buffer = []\n",
    "        self.max_size = max_size\n",
    "        self.insert_at = 0\n",
    "    \n",
    "    def add(self, s, a, r, s_n, d):\n",
    "        if len(self.buffer) < self.max_size:\n",
    "            self.buffer.append((s, a, r, s_n, d))\n",
    "        else:\n",
    "            self.buffer[self.insert_at] = (s, a, r, s_n, d)\n",
    "            self.insert_at = (self.insert_at + 1) % self.max_size\n",
    "    \n",
    "    def sample_batch(self, batch_size):\n",
    "        return random.sample(self.buffer, batch_size)\n",
    "    \n",
    "    def add_all(self, sarsd):\n",
    "        for i in sarsd:\n",
    "            buffer.add(*i)"
   ]
  },
  {
   "cell_type": "code",
   "execution_count": 233,
   "id": "9e91ef4b",
   "metadata": {},
   "outputs": [],
   "source": [
    "def sample_training_batch(buffer, batch_size):\n",
    "    batch = buffer.sample_batch(batch_size)\n",
    "    s = np.zeros((batch_size, 64, 64, 3), dtype='float32')\n",
    "    a = np.zeros((batch_size, 1), dtype='int64')\n",
    "    r = np.zeros((batch_size, 1), dtype='float32')\n",
    "    s_n = np.zeros((batch_size, 64, 64, 3), dtype='float32')\n",
    "    d = np.zeros((batch_size, 1), dtype='float32')\n",
    "\n",
    "    \n",
    "    for i, x in enumerate(batch):\n",
    "        s[i] = x[0]\n",
    "        a[i] = x[1]\n",
    "        r[i] = x[2]\n",
    "        s_n[i] = x[3]\n",
    "        d[i] = x[4]\n",
    "    \n",
    "    s = torch.from_numpy(s).permute((0, 3, 1, 2)).cuda() / 255\n",
    "    s_n = torch.from_numpy(s_n).permute((0, 3, 1, 2)).cuda() / 255\n",
    "    a = torch.from_numpy(a).cuda()\n",
    "    r = torch.from_numpy(r).cuda()\n",
    "    d = torch.from_numpy(d).cuda()\n",
    "    \n",
    "    return s, a, r, s_n, d"
   ]
  },
  {
   "cell_type": "code",
   "execution_count": 234,
   "id": "952b5066",
   "metadata": {},
   "outputs": [],
   "source": [
    "buffer = ReplayBuffer()"
   ]
  },
  {
   "cell_type": "code",
   "execution_count": 23,
   "id": "59b08683",
   "metadata": {},
   "outputs": [],
   "source": [
    "class EnvSamplingWrapper:\n",
    "    def __init__(self, env):\n",
    "        self.env = env\n",
    "        self.obs = env.reset()\n",
    "        self.step_count = 0\n",
    "        self.total_reward = 0\n",
    "    \n",
    "    def sample(self, count, policy):\n",
    "        tuples = []\n",
    "        rewards = []\n",
    "        for i in range(count):\n",
    "            self.step_count += 1\n",
    "            action = policy(self.obs)\n",
    "            observation, reward, done, info = env.step(action)\n",
    "            tuples.append((self.obs, action, reward, observation, done))\n",
    "            self.obs = observation\n",
    "            self.total_reward += reward\n",
    "            if done:\n",
    "                self.obs = env.reset()\n",
    "                rewards.append((self.total_reward, self.step_count))\n",
    "                self.total_reward = 0\n",
    "        \n",
    "        return tuples, rewards"
   ]
  },
  {
   "cell_type": "code",
   "execution_count": 24,
   "id": "76497e27",
   "metadata": {},
   "outputs": [],
   "source": [
    "env = DotEnv()\n",
    "env_wrapper = EnvSamplingWrapper(env)"
   ]
  },
  {
   "cell_type": "code",
   "execution_count": 25,
   "id": "731ee517",
   "metadata": {},
   "outputs": [],
   "source": [
    "sarsd, rew = env_wrapper.sample(500, lambda x: env.action_space.sample())"
   ]
  },
  {
   "cell_type": "code",
   "execution_count": 26,
   "id": "381eaf82",
   "metadata": {},
   "outputs": [
    {
     "data": {
      "text/plain": [
       "[(4, 200), (17, 317)]"
      ]
     },
     "execution_count": 26,
     "metadata": {},
     "output_type": "execute_result"
    }
   ],
   "source": [
    "rew"
   ]
  },
  {
   "cell_type": "code",
   "execution_count": null,
   "id": "2403dfff",
   "metadata": {},
   "outputs": [],
   "source": []
  },
  {
   "cell_type": "code",
   "execution_count": 27,
   "id": "4509392d",
   "metadata": {},
   "outputs": [],
   "source": [
    "def prod(x):\n",
    "    total = 1\n",
    "    for i in x:\n",
    "        total *= i\n",
    "    return total"
   ]
  },
  {
   "cell_type": "code",
   "execution_count": 28,
   "id": "830905ff",
   "metadata": {},
   "outputs": [
    {
     "data": {
      "text/plain": [
       "12288"
      ]
     },
     "execution_count": 28,
     "metadata": {},
     "output_type": "execute_result"
    }
   ],
   "source": [
    "prod(env.observation_space.shape)"
   ]
  },
  {
   "cell_type": "code",
   "execution_count": 29,
   "id": "68265680",
   "metadata": {},
   "outputs": [
    {
     "data": {
      "text/plain": [
       "4"
      ]
     },
     "execution_count": 29,
     "metadata": {},
     "output_type": "execute_result"
    }
   ],
   "source": [
    "env.action_space.n"
   ]
  },
  {
   "cell_type": "code",
   "execution_count": 30,
   "id": "4b0d428e",
   "metadata": {},
   "outputs": [],
   "source": [
    "class DQN_Net(nn.Module):\n",
    "    def __init__(self, input_size, action_size):\n",
    "        super().__init__()\n",
    "#         print(input_size)\n",
    "        self.net = nn.Sequential(\n",
    "            nn.Linear(input_size, 10),\n",
    "            nn.ReLU(),\n",
    "            nn.Linear(10, action_size),\n",
    "        )\n",
    "        with torch.no_grad():\n",
    "            self.net[-1].weight[:,:] = 0\n",
    "    \n",
    "    def forward(self, x):\n",
    "#         print(x.shape)\n",
    "        x = torch.flatten(x, 1)\n",
    "#         print(x.shape)\n",
    "        x = self.net(x)\n",
    "        return x"
   ]
  },
  {
   "cell_type": "code",
   "execution_count": 31,
   "id": "8ced8a01",
   "metadata": {},
   "outputs": [],
   "source": [
    "model = DQN_Net(prod(env.observation_space.shape), env.action_space.n)"
   ]
  },
  {
   "cell_type": "code",
   "execution_count": 32,
   "id": "9ca5ce00",
   "metadata": {},
   "outputs": [
    {
     "data": {
      "text/plain": [
       "DQN_Net(\n",
       "  (net): Sequential(\n",
       "    (0): Linear(in_features=12288, out_features=10, bias=True)\n",
       "    (1): ReLU()\n",
       "    (2): Linear(in_features=10, out_features=4, bias=True)\n",
       "  )\n",
       ")"
      ]
     },
     "execution_count": 32,
     "metadata": {},
     "output_type": "execute_result"
    }
   ],
   "source": [
    "model.cuda()"
   ]
  },
  {
   "cell_type": "code",
   "execution_count": 33,
   "id": "4c40a633",
   "metadata": {},
   "outputs": [],
   "source": [
    "optimizer = optim.AdamW(model.parameters(), lr=0.0001, weight_decay=0.00025)"
   ]
  },
  {
   "cell_type": "code",
   "execution_count": 34,
   "id": "87b1c432",
   "metadata": {},
   "outputs": [],
   "source": [
    "def dqn_policy(model, obs):\n",
    "    # scale the obs, change to model shape\n",
    "    image = torch.from_numpy(to_batch_shape(obs)).permute((0, 3, 1, 2)).cuda() / 255\n",
    "    with torch.no_grad():\n",
    "        outputs = model(image)\n",
    "        action = torch.argmax(outputs).item()\n",
    "    \n",
    "    return action"
   ]
  },
  {
   "cell_type": "code",
   "execution_count": 35,
   "id": "699f5ef0",
   "metadata": {},
   "outputs": [
    {
     "data": {
      "text/plain": [
       "0"
      ]
     },
     "execution_count": 35,
     "metadata": {},
     "output_type": "execute_result"
    }
   ],
   "source": [
    "dqn_policy(model, observation)"
   ]
  },
  {
   "cell_type": "code",
   "execution_count": 36,
   "id": "83580746",
   "metadata": {},
   "outputs": [],
   "source": [
    "buffer = ReplayBuffer()"
   ]
  },
  {
   "cell_type": "code",
   "execution_count": 237,
   "id": "4eafc095",
   "metadata": {},
   "outputs": [],
   "source": [
    "# initialize the buffer:\n",
    "sarsd, rew = env_wrapper.sample(10000, lambda x: env.action_space.sample())\n",
    "\n",
    "for i in sarsd:\n",
    "    buffer.add(*i)"
   ]
  },
  {
   "cell_type": "code",
   "execution_count": null,
   "id": "a16a44b0",
   "metadata": {},
   "outputs": [],
   "source": []
  },
  {
   "cell_type": "code",
   "execution_count": 499,
   "id": "f7cea282",
   "metadata": {},
   "outputs": [],
   "source": [
    "def train_batch(model, target, buffer, optimizer):\n",
    "    # get the inputs\n",
    "    \n",
    "    # sample from the buffer and preprocess next qs\n",
    "    s, a, r, s_n, d = sample_training_batch(buffer, 32)\n",
    "#     print(d)\n",
    "    \n",
    "    # get the next qs\n",
    "    with torch.no_grad():\n",
    "        outputs = target(s_n)\n",
    "        q_n, a_n = torch.max(outputs, 1)\n",
    "        # Avoid potential broadcast issue\n",
    "        q_n = q_n.view(-1, 1)\n",
    "#         print(q_n.shape)\n",
    "        targets = r * (1.0) + q_n * (1 - d) * 0.99\n",
    "\n",
    "    # zero the parameter gradients\n",
    "    optimizer.zero_grad(set_to_none=True)\n",
    "    \n",
    "    # forward + backward + optimize\n",
    "    outputs = model(s)\n",
    "#     print(a.shape)\n",
    "    \n",
    "    # get the target action to diff the target with\n",
    "    v = torch.gather(outputs, 1, a)\n",
    "#     print(v.shape, outputs.shape)\n",
    "\n",
    "    if torch.isnan(outputs).any():\n",
    "        print(\"There's a NaN output!\")\n",
    "        return None\n",
    "    loss = F.smooth_l1_loss(v, targets)\n",
    "\n",
    "    loss.backward()\n",
    "    \n",
    "    nn.utils.clip_grad_norm_(model.parameters(), max_norm=10.0)\n",
    "    optimizer.step()\n",
    "\n",
    "    return loss.detach().item()"
   ]
  },
  {
   "cell_type": "code",
   "execution_count": 500,
   "id": "9d296be0",
   "metadata": {},
   "outputs": [
    {
     "data": {
      "text/plain": [
       "0.48316335678100586"
      ]
     },
     "execution_count": 500,
     "metadata": {},
     "output_type": "execute_result"
    }
   ],
   "source": [
    "train_batch(model, target, buffer, optimizer)"
   ]
  },
  {
   "cell_type": "code",
   "execution_count": 501,
   "id": "43f1130d",
   "metadata": {},
   "outputs": [],
   "source": [
    "class DQN_Policy:\n",
    "    def __init__(self, model, epsilon, sampler):\n",
    "        self.model = model\n",
    "        self.epsilon = epsilon\n",
    "        self.sampler = sampler\n",
    "    \n",
    "    def __call__(self, obs):\n",
    "        if random.random() < self.epsilon:\n",
    "            return self.sampler()\n",
    "        return dqn_policy(model, obs)"
   ]
  },
  {
   "cell_type": "code",
   "execution_count": 502,
   "id": "eaac7a0e",
   "metadata": {},
   "outputs": [],
   "source": [
    "# from https://github.com/ghliu/pytorch-ddpg/blob/e9db328ca70ef9daf7ab3d4b44975076ceddf088/util.py#L26\n",
    "def soft_update(target, source, tau):\n",
    "    for target_param, param in zip(target.parameters(), source.parameters()):\n",
    "        target_param.data.copy_(\n",
    "            target_param.data * (1.0 - tau) + param.data * tau\n",
    "        )"
   ]
  },
  {
   "cell_type": "code",
   "execution_count": 503,
   "id": "fcc3f6fa",
   "metadata": {},
   "outputs": [],
   "source": [
    "def dqn_loop(model, target, env_wrapper, buffer, optimizer, steps, STATS):\n",
    "    running_loss = None\n",
    "    \n",
    "    next_exploration = 0.95\n",
    "    with tqdm(range(steps), unit=\"batch\") as t:\n",
    "        for i in t:\n",
    "            \n",
    "            if i % 1000 == 0:\n",
    "                policy = DQN_Policy(model, next_exploration, env_wrapper.env.action_space.sample)\n",
    "                next_exploration -= 0.05\n",
    "                next_exploration = max(next_exploration, 0.05)\n",
    "            \n",
    "            sarsd, rew = env_wrapper.sample(1, policy)\n",
    "            buffer.add_all(sarsd)\n",
    "            STATS['returns'].extend(rew)\n",
    "            \n",
    "            if (i + 1) % 4 != 0:\n",
    "                continue\n",
    "\n",
    "            loss = train_batch(model, target, buffer, optimizer)\n",
    "            STATS[\"loss\"].append(loss)\n",
    "\n",
    "            if i % 10000 == 0:\n",
    "                soft_update(target, model, 1.0)\n",
    "#             soft_update(target, model, 0.000001)\n",
    "            if running_loss is None:\n",
    "                running_loss = loss\n",
    "            running_loss = running_loss * 0.999 + loss * 0.001\n",
    "            if (i + 1) % 100 == 0:  # print every N mini-batches\n",
    "                string = 'loss: %.8f' % (\n",
    "                    running_loss\n",
    "                )\n",
    "                t.set_postfix_str(string)"
   ]
  },
  {
   "cell_type": "code",
   "execution_count": 504,
   "id": "32f77fb8",
   "metadata": {},
   "outputs": [
    {
     "data": {
      "text/plain": [
       "DQN_Net(\n",
       "  (net): Sequential(\n",
       "    (0): Linear(in_features=12288, out_features=10, bias=True)\n",
       "    (1): ReLU()\n",
       "    (2): Linear(in_features=10, out_features=4, bias=True)\n",
       "  )\n",
       ")"
      ]
     },
     "execution_count": 504,
     "metadata": {},
     "output_type": "execute_result"
    }
   ],
   "source": [
    "model = DQN_Net(prod(env.observation_space.shape), env.action_space.n)\n",
    "model.cuda()"
   ]
  },
  {
   "cell_type": "code",
   "execution_count": 505,
   "id": "afe9d55a",
   "metadata": {},
   "outputs": [],
   "source": [
    "target = DQN_Net(prod(env.observation_space.shape), env.action_space.n)\n",
    "target.cuda()\n",
    "target.eval()\n",
    "soft_update(target, model, 1.0)"
   ]
  },
  {
   "cell_type": "code",
   "execution_count": 506,
   "id": "44f9248c",
   "metadata": {},
   "outputs": [],
   "source": [
    "optimizer = optim.AdamW(model.parameters(), lr=0.0001)\n",
    "# optimizer = Lion(model.parameters(), lr=0.00001)"
   ]
  },
  {
   "cell_type": "code",
   "execution_count": 507,
   "id": "3342b9e7",
   "metadata": {},
   "outputs": [],
   "source": [
    "env = DotEnv()\n",
    "env_wrapper = EnvSamplingWrapper(env)"
   ]
  },
  {
   "cell_type": "code",
   "execution_count": 508,
   "id": "b9bf61d8",
   "metadata": {},
   "outputs": [],
   "source": [
    "buffer = ReplayBuffer()\n",
    "# initialize the buffer:\n",
    "sarsd, rew = env_wrapper.sample(10000, lambda x: env.action_space.sample())\n",
    "buffer.add_all(sarsd)"
   ]
  },
  {
   "cell_type": "code",
   "execution_count": 509,
   "id": "c4fadc35",
   "metadata": {},
   "outputs": [],
   "source": [
    "STATS = defaultdict(list)"
   ]
  },
  {
   "cell_type": "code",
   "execution_count": 510,
   "id": "6f975172",
   "metadata": {},
   "outputs": [
    {
     "name": "stderr",
     "output_type": "stream",
     "text": [
      "100%|██████████████████████████████████| 100000/100000 [01:36<00:00, 1036.17batch/s, loss: 0.00186391]\n"
     ]
    }
   ],
   "source": [
    "dqn_loop(model, target, env_wrapper, buffer, optimizer, 100000, STATS)"
   ]
  },
  {
   "cell_type": "code",
   "execution_count": 511,
   "id": "06ae80dc",
   "metadata": {},
   "outputs": [
    {
     "data": {
      "text/plain": [
       "[(27, 109605),\n",
       " (48, 109655),\n",
       " (32, 109695),\n",
       " (51, 109750),\n",
       " (35, 109791),\n",
       " (57, 109850),\n",
       " (41, 109891),\n",
       " (33, 109926),\n",
       " (34, 109966),\n",
       " (26, 109992)]"
      ]
     },
     "execution_count": 511,
     "metadata": {},
     "output_type": "execute_result"
    }
   ],
   "source": [
    "STATS['returns'][-10:]"
   ]
  },
  {
   "cell_type": "code",
   "execution_count": 512,
   "id": "c24255e0",
   "metadata": {},
   "outputs": [
    {
     "data": {
      "text/plain": [
       "[<matplotlib.lines.Line2D at 0x7f1fb5905220>]"
      ]
     },
     "execution_count": 512,
     "metadata": {},
     "output_type": "execute_result"
    },
    {
     "data": {
      "image/png": "[encoded data removed]",
      "text/plain": [
       "<Figure size 720x576 with 1 Axes>"
      ]
     },
     "metadata": {
      "needs_background": "light"
     },
     "output_type": "display_data"
    }
   ],
   "source": [
    "plt.plot(np.convolve(np.asarray([x[0] for x in STATS['returns']]), np.ones((10,)) / 10, mode='valid'))"
   ]
  },
  {
   "cell_type": "code",
   "execution_count": 513,
   "id": "b450ae61",
   "metadata": {},
   "outputs": [
    {
     "data": {
      "text/plain": [
       "[<matplotlib.lines.Line2D at 0x7f1fb58d4eb0>]"
      ]
     },
     "execution_count": 513,
     "metadata": {},
     "output_type": "execute_result"
    },
    {
     "data": {
      "image/png": "[encoded data removed]",
      "text/plain": [
       "<Figure size 720x576 with 1 Axes>"
      ]
     },
     "metadata": {
      "needs_background": "light"
     },
     "output_type": "display_data"
    }
   ],
   "source": [
    "plt.plot(np.convolve(np.convolve(np.asarray([x[1] for x in STATS['returns']]), np.asarray([1, -1]), mode='valid'), np.ones((100,)) / 100, mode='valid'))"
   ]
  },
  {
   "cell_type": "code",
   "execution_count": 514,
   "id": "00527a4e",
   "metadata": {
    "scrolled": false
   },
   "outputs": [
    {
     "data": {
      "text/plain": [
       "[<matplotlib.lines.Line2D at 0x7f1fb583aac0>]"
      ]
     },
     "execution_count": 514,
     "metadata": {},
     "output_type": "execute_result"
    },
    {
     "data": {
      "image/png": "[encoded data removed]",
      "text/plain": [
       "<Figure size 720x576 with 1 Axes>"
      ]
     },
     "metadata": {
      "needs_background": "light"
     },
     "output_type": "display_data"
    }
   ],
   "source": [
    "plt.plot(np.convolve(np.asarray(STATS['loss']), np.ones((10,)) / 10, mode='valid')[10000:])"
   ]
  },
  {
   "cell_type": "code",
   "execution_count": 467,
   "id": "860c1211",
   "metadata": {
    "scrolled": false
   },
   "outputs": [
    {
     "data": {
      "text/plain": [
       "<matplotlib.image.AxesImage at 0x7f1fb5c481f0>"
      ]
     },
     "execution_count": 467,
     "metadata": {},
     "output_type": "execute_result"
    },
    {
     "data": {
      "image/png": "[encoded data removed]",
      "text/plain": [
       "<Figure size 720x576 with 1 Axes>"
      ]
     },
     "metadata": {
      "needs_background": "light"
     },
     "output_type": "display_data"
    }
   ],
   "source": [
    "observation = buffer.buffer[12346][0]\n",
    "plt.imshow(observation)"
   ]
  },
  {
   "cell_type": "code",
   "execution_count": 625,
   "id": "7081ab7a",
   "metadata": {},
   "outputs": [],
   "source": [
    "# scale the obs, change to model shape\n",
    "image = torch.from_numpy(to_batch_shape(observation)).permute((0, 3, 1, 2)).cuda() / 255\n",
    "with torch.no_grad():\n",
    "    outputs = model(image)\n",
    "    action = torch.argmax(outputs).item()"
   ]
  },
  {
   "cell_type": "code",
   "execution_count": 626,
   "id": "3352f877",
   "metadata": {},
   "outputs": [
    {
     "data": {
      "text/plain": [
       "tensor([[0.2791, 0.2780, 0.2795, 0.2789]], device='cuda:0')"
      ]
     },
     "execution_count": 626,
     "metadata": {},
     "output_type": "execute_result"
    }
   ],
   "source": [
    "outputs"
   ]
  },
  {
   "cell_type": "code",
   "execution_count": 627,
   "id": "2406171d",
   "metadata": {},
   "outputs": [],
   "source": [
    "# action_to_vector = {\n",
    "#     0: np.array([0, -1]),  # Up\n",
    "#     1: np.array([1, 0]),   # Right\n",
    "#     2: np.array([0, 1]),   # Down\n",
    "#     3: np.array([-1, 0])   # Left\n",
    "# }"
   ]
  },
  {
   "cell_type": "code",
   "execution_count": 106,
   "id": "c4847d83",
   "metadata": {},
   "outputs": [],
   "source": [
    "# evaluate the model on all possible states, then tally up the error\n",
    "\n",
    "# generate all possible states, and calculate their distance\n",
    "states = []\n",
    "for i in range(62):\n",
    "    for j in range(62):\n",
    "        observation = np.zeros((64, 64, 3), dtype=np.uint8)\n",
    "        observation[i:i+2, j:j+2] = np.array([255, 255, 255])\n",
    "        distance = abs(32 - i) + abs(32-j)\n",
    "        states.append((observation, distance))"
   ]
  },
  {
   "cell_type": "code",
   "execution_count": 107,
   "id": "483924d6",
   "metadata": {},
   "outputs": [
    {
     "data": {
      "text/plain": [
       "118164.4397746427"
      ]
     },
     "execution_count": 107,
     "metadata": {},
     "output_type": "execute_result"
    }
   ],
   "source": [
    "loss = 0\n",
    "\n",
    "for s, distance in states:\n",
    "    image = torch.from_numpy(to_batch_shape(s)).permute((0, 3, 1, 2)).cuda() / 255\n",
    "    with torch.no_grad():\n",
    "        outputs = model(image)\n",
    "#         print(outputs)\n",
    "        q_n, a_n = torch.max(outputs, 1)\n",
    "        q_n = q_n.item() * 100\n",
    "    \n",
    "    loss += abs(q_n - distance)\n",
    "loss\n"
   ]
  },
  {
   "cell_type": "code",
   "execution_count": 108,
   "id": "f4ba50c3",
   "metadata": {},
   "outputs": [],
   "source": [
    "short_states = [x for x in states if x[1] < 3]"
   ]
  },
  {
   "cell_type": "code",
   "execution_count": 109,
   "id": "681f0f26",
   "metadata": {},
   "outputs": [
    {
     "data": {
      "text/plain": [
       "13"
      ]
     },
     "execution_count": 109,
     "metadata": {},
     "output_type": "execute_result"
    }
   ],
   "source": [
    "len(short_states)"
   ]
  },
  {
   "cell_type": "code",
   "execution_count": 1,
   "id": "fa66324b",
   "metadata": {},
   "outputs": [
    {
     "ename": "NameError",
     "evalue": "name 'short_states' is not defined",
     "output_type": "error",
     "traceback": [
      "\u001b[0;31m---------------------------------------------------------------------------\u001b[0m",
      "\u001b[0;31mNameError\u001b[0m                                 Traceback (most recent call last)",
      "\u001b[0;32m/tmp/ipykernel_1171884/3302251335.py\u001b[0m in \u001b[0;36m<module>\u001b[0;34m\u001b[0m\n\u001b[1;32m      1\u001b[0m \u001b[0mloss\u001b[0m \u001b[0;34m=\u001b[0m \u001b[0;36m0\u001b[0m\u001b[0;34m\u001b[0m\u001b[0;34m\u001b[0m\u001b[0m\n\u001b[1;32m      2\u001b[0m \u001b[0;34m\u001b[0m\u001b[0m\n\u001b[0;32m----> 3\u001b[0;31m \u001b[0;32mfor\u001b[0m \u001b[0ms\u001b[0m\u001b[0;34m,\u001b[0m \u001b[0mdistance\u001b[0m \u001b[0;32min\u001b[0m \u001b[0mshort_states\u001b[0m\u001b[0;34m:\u001b[0m\u001b[0;34m\u001b[0m\u001b[0;34m\u001b[0m\u001b[0m\n\u001b[0m\u001b[1;32m      4\u001b[0m     \u001b[0mimage\u001b[0m \u001b[0;34m=\u001b[0m \u001b[0mtorch\u001b[0m\u001b[0;34m.\u001b[0m\u001b[0mfrom_numpy\u001b[0m\u001b[0;34m(\u001b[0m\u001b[0mto_batch_shape\u001b[0m\u001b[0;34m(\u001b[0m\u001b[0ms\u001b[0m\u001b[0;34m)\u001b[0m\u001b[0;34m)\u001b[0m\u001b[0;34m.\u001b[0m\u001b[0mpermute\u001b[0m\u001b[0;34m(\u001b[0m\u001b[0;34m(\u001b[0m\u001b[0;36m0\u001b[0m\u001b[0;34m,\u001b[0m \u001b[0;36m3\u001b[0m\u001b[0;34m,\u001b[0m \u001b[0;36m1\u001b[0m\u001b[0;34m,\u001b[0m \u001b[0;36m2\u001b[0m\u001b[0;34m)\u001b[0m\u001b[0;34m)\u001b[0m\u001b[0;34m.\u001b[0m\u001b[0mcuda\u001b[0m\u001b[0;34m(\u001b[0m\u001b[0;34m)\u001b[0m \u001b[0;34m/\u001b[0m \u001b[0;36m255\u001b[0m\u001b[0;34m\u001b[0m\u001b[0;34m\u001b[0m\u001b[0m\n\u001b[1;32m      5\u001b[0m     \u001b[0;32mwith\u001b[0m \u001b[0mtorch\u001b[0m\u001b[0;34m.\u001b[0m\u001b[0mno_grad\u001b[0m\u001b[0;34m(\u001b[0m\u001b[0;34m)\u001b[0m\u001b[0;34m:\u001b[0m\u001b[0;34m\u001b[0m\u001b[0;34m\u001b[0m\u001b[0m\n",
      "\u001b[0;31mNameError\u001b[0m: name 'short_states' is not defined"
     ]
    }
   ],
   "source": [
    "loss = 0\n",
    "\n",
    "for s, distance in short_states:\n",
    "    image = torch.from_numpy(to_batch_shape(s)).permute((0, 3, 1, 2)).cuda() / 255\n",
    "    with torch.no_grad():\n",
    "        outputs = model(image)\n",
    "        print(outputs * 100, distance)\n",
    "        q_n, a_n = torch.max(outputs, 1)\n",
    "        q_n = q_n.item() * 100\n",
    "    \n",
    "    loss += abs(q_n - distance)\n",
    "loss"
   ]
  },
  {
   "cell_type": "code",
   "execution_count": 671,
   "id": "0f702b52",
   "metadata": {},
   "outputs": [
    {
     "data": {
      "text/plain": [
       "<matplotlib.image.AxesImage at 0x7f820a348cd0>"
      ]
     },
     "execution_count": 671,
     "metadata": {},
     "output_type": "execute_result"
    },
    {
     "data": {
      "image/png": "[encoded data removed]",
      "text/plain": [
       "<Figure size 720x576 with 1 Axes>"
      ]
     },
     "metadata": {
      "needs_background": "light"
     },
     "output_type": "display_data"
    }
   ],
   "source": [
    "plt.imshow(short_states[1][0])"
   ]
  },
  {
   "cell_type": "code",
   "execution_count": null,
   "id": "cdcb0ba3",
   "metadata": {},
   "outputs": [],
   "source": []
  },
  {
   "cell_type": "code",
   "execution_count": null,
   "id": "4ed208b2",
   "metadata": {},
   "outputs": [],
   "source": []
  },
  {
   "cell_type": "code",
   "execution_count": null,
   "id": "c5cf1ab1",
   "metadata": {},
   "outputs": [],
   "source": []
  },
  {
   "cell_type": "code",
   "execution_count": null,
   "id": "3a093bf0",
   "metadata": {},
   "outputs": [],
   "source": []
  }
 ],
 "metadata": {
  "kernelspec": {
   "display_name": "Python 3 (ipykernel)",
   "language": "python",
   "name": "python3"
  },
  "language_info": {
   "codemirror_mode": {
    "name": "ipython",
    "version": 3
   },
   "file_extension": ".py",
   "mimetype": "text/x-python",
   "name": "python",
   "nbconvert_exporter": "python",
   "pygments_lexer": "ipython3",
   "version": "3.9.6"
  }
 },
 "nbformat": 4,
 "nbformat_minor": 5
}
