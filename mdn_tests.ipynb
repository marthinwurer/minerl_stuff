{
 "cells": [
  {
   "cell_type": "code",
   "execution_count": 1,
   "id": "7fb11ec4",
   "metadata": {},
   "outputs": [],
   "source": [
    "%matplotlib inline\n",
    "%load_ext autoreload\n",
    "%autoreload 2"
   ]
  },
  {
   "cell_type": "code",
   "execution_count": 2,
   "id": "935f7186",
   "metadata": {},
   "outputs": [],
   "source": [
    "import matplotlib\n",
    "matplotlib.rcParams['figure.figsize'] = [15, 10]"
   ]
  },
  {
   "cell_type": "code",
   "execution_count": 3,
   "id": "cb5f0d9f",
   "metadata": {},
   "outputs": [
    {
     "name": "stderr",
     "output_type": "stream",
     "text": [
      "/home/marthinwurer/.pyenv/versions/3.9.6/envs/minerl/lib/python3.9/site-packages/gym/logger.py:34: UserWarning: \u001b[33mWARN: Box bound precision lowered by casting to float32\u001b[0m\n",
      "  warnings.warn(colorize(\"%s: %s\" % (\"WARN\", msg % args), \"yellow\"))\n"
     ]
    }
   ],
   "source": [
    "import matplotlib.pyplot as plt\n",
    "import numpy as np\n",
    "import torch\n",
    "import minerl\n",
    "from tqdm import tqdm\n",
    "\n",
    "from torch import nn, optim\n",
    "import torch.nn.functional as F\n",
    "from torch.optim.lr_scheduler import ReduceLROnPlateau\n",
    "from utilities import flatten, unflatten, to_batch_shape, to_torch_channels\n",
    "\n",
    "import autoencoder\n",
    "from AdvancedAutoencoder import AdvancedAutoencoder\n",
    "from networks import WMAutoencoder, WM_VAE, VisionEncoder, VisionDecoder, VAELatent\n",
    "from torch.utils.data import Dataset\n",
    "from torchvision import datasets\n",
    "from torchvision.transforms import ToTensor\n",
    "from torch.utils.data import DataLoader\n",
    "from dataset_preprocessing import MineRlSequenceDataset\n",
    "import torch.distributions as D"
   ]
  },
  {
   "cell_type": "code",
   "execution_count": 4,
   "id": "639a960f",
   "metadata": {},
   "outputs": [],
   "source": [
    "# BATCH_SIZE = 512\n",
    "# BATCH_SIZE = 256\n",
    "# BATCH_SIZE = 128\n",
    "# BATCH_SIZE = 64\n",
    "# BATCH_SIZE = 32\n",
    "BATCH_SIZE = 8\n",
    "LEARNING_RATE = 0.0001\n",
    "EPOCHS = 30\n",
    "MOMENTUM = 0.9\n",
    "# IN_POWER = 8\n",
    "# IN_POWER = 6\n",
    "in_dim = 64"
   ]
  },
  {
   "cell_type": "code",
   "execution_count": null,
   "id": "3108343c",
   "metadata": {},
   "outputs": [],
   "source": []
  },
  {
   "cell_type": "code",
   "execution_count": 5,
   "id": "bfd0e772",
   "metadata": {},
   "outputs": [],
   "source": [
    "def gen_data(n=512):\n",
    "    y = np.linspace(-1, 1, n)\n",
    "    x = 7 * np.sin(5 * y) + 0.5 * y + 0.5 * np.random.randn(*y.shape)\n",
    "    return x[:,np.newaxis], y[:,np.newaxis]"
   ]
  },
  {
   "cell_type": "code",
   "execution_count": 6,
   "id": "9b34a1b8",
   "metadata": {},
   "outputs": [],
   "source": [
    "class MyMDN(nn.Module):\n",
    "    def __init__(self, input_size, output_size, num_gaussians):\n",
    "        super().__init__()\n",
    "        self.output_size = output_size\n",
    "        self.input_size = input_size\n",
    "        self.num_gaussians = num_gaussians\n",
    "        num_outs = output_size * num_gaussians\n",
    "        self.pi = nn.Sequential(nn.Linear(input_size, num_outs), nn.Softplus())\n",
    "        self.mu = nn.Linear(input_size, num_outs)\n",
    "        self.sigma = nn.Sequential(nn.Linear(input_size, num_outs), nn.Softplus())\n",
    "        \n",
    "    def forward(self, input):\n",
    "        pi = self.pi(input).view(input.shape[0], self.output_size, self.num_gaussians)\n",
    "        mu = self.mu(input).view(input.shape[0], self.output_size, self.num_gaussians)\n",
    "        sigma = self.sigma(input).view(input.shape[0], self.output_size, self.num_gaussians)\n",
    "        return pi, sigma, mu"
   ]
  },
  {
   "cell_type": "code",
   "execution_count": 7,
   "id": "bcd940cd",
   "metadata": {},
   "outputs": [],
   "source": [
    "def mdn_distribution(pi, sigma, mu):\n",
    "    mix = D.Categorical(pi)\n",
    "    comp = D.Normal(mu, sigma)\n",
    "\n",
    "    gm = D.MixtureSameFamily(mix, comp)\n",
    "    return gm"
   ]
  },
  {
   "cell_type": "code",
   "execution_count": 8,
   "id": "1c182be9",
   "metadata": {},
   "outputs": [],
   "source": [
    "def mdn_gnll_loss(pi, sigma, mu, target):\n",
    "    \n",
    "    gm = mdn_distribution(pi, sigma, mu)\n",
    "    log_likelihood = gm.log_prob(target)\n",
    "    return -torch.mean(log_likelihood)"
   ]
  },
  {
   "cell_type": "code",
   "execution_count": 9,
   "id": "5815d778",
   "metadata": {},
   "outputs": [],
   "source": [
    "x, y = gen_data()\n",
    "x = torch.Tensor(x)\n",
    "y = torch.Tensor(y)"
   ]
  },
  {
   "cell_type": "code",
   "execution_count": 10,
   "id": "7ac21950",
   "metadata": {},
   "outputs": [],
   "source": [
    "model = nn.Sequential(nn.Linear(1, 10), nn.ELU(), MyMDN(10, 1, 3))"
   ]
  },
  {
   "cell_type": "code",
   "execution_count": 11,
   "id": "7cf55454",
   "metadata": {},
   "outputs": [],
   "source": [
    "optimizer = optim.Adam(model.parameters(), lr=0.005)"
   ]
  },
  {
   "cell_type": "code",
   "execution_count": 12,
   "id": "5901f6c2",
   "metadata": {},
   "outputs": [
    {
     "name": "stdout",
     "output_type": "stream",
     "text": [
      "Iter: 0\tLoss: 1.62\n",
      "Iter: 100\tLoss: -0.01\n",
      "Iter: 200\tLoss: -0.11\n",
      "Iter: 300\tLoss: -0.14\n",
      "Iter: 400\tLoss: -0.19\n",
      "Iter: 500\tLoss: -0.32\n",
      "Iter: 600\tLoss: -0.38\n",
      "Iter: 700\tLoss: -0.52\n",
      "Iter: 800\tLoss: -0.59\n",
      "Iter: 900\tLoss: -0.60\n",
      "Iter: 1000\tLoss: -0.62\n",
      "Iter: 1100\tLoss: -0.65\n",
      "Iter: 1200\tLoss: -0.66\n",
      "Iter: 1300\tLoss: -0.65\n",
      "Iter: 1400\tLoss: -0.66\n",
      "Iter: 1500\tLoss: -0.66\n",
      "Iter: 1600\tLoss: -0.66\n",
      "Iter: 1700\tLoss: -0.67\n",
      "Iter: 1800\tLoss: -0.66\n",
      "Iter: 1900\tLoss: -0.67\n",
      "Iter: 2000\tLoss: -0.68\n",
      "Iter: 2100\tLoss: -0.68\n",
      "Iter: 2200\tLoss: -0.68\n",
      "Iter: 2300\tLoss: -0.69\n",
      "Iter: 2400\tLoss: -0.69\n",
      "Iter: 2500\tLoss: -0.69\n",
      "Iter: 2600\tLoss: -0.69\n",
      "Iter: 2700\tLoss: -0.70\n",
      "Iter: 2800\tLoss: -0.70\n",
      "Iter: 2900\tLoss: -0.70\n",
      "Iter: 3000\tLoss: -0.71\n",
      "Iter: 3100\tLoss: -0.70\n",
      "Iter: 3200\tLoss: -0.71\n",
      "Iter: 3300\tLoss: -0.71\n",
      "Iter: 3400\tLoss: -0.71\n",
      "Iter: 3500\tLoss: -0.72\n",
      "Iter: 3600\tLoss: -0.72\n",
      "Iter: 3700\tLoss: -0.70\n",
      "Iter: 3800\tLoss: -0.72\n",
      "Iter: 3900\tLoss: -0.73\n",
      "Iter: 4000\tLoss: -0.73\n",
      "Iter: 4100\tLoss: -0.72\n",
      "Iter: 4200\tLoss: -0.73\n",
      "Iter: 4300\tLoss: -0.72\n",
      "Iter: 4400\tLoss: -0.73\n",
      "Iter: 4500\tLoss: -0.73\n",
      "Iter: 4600\tLoss: -0.73\n",
      "Iter: 4700\tLoss: -0.73\n",
      "Iter: 4800\tLoss: -0.72\n",
      "Iter: 4900\tLoss: -0.44\n",
      "Iter: 5000\tLoss: -0.76\n",
      "Iter: 5100\tLoss: -0.81\n",
      "Iter: 5200\tLoss: -0.90\n",
      "Iter: 5300\tLoss: -0.93\n",
      "Iter: 5400\tLoss: -1.00\n",
      "Iter: 5500\tLoss: -0.76\n",
      "Iter: 5600\tLoss: -1.12\n",
      "Iter: 5700\tLoss: -1.13\n",
      "Iter: 5800\tLoss: -1.13\n",
      "Iter: 5900\tLoss: -1.14\n",
      "Iter: 6000\tLoss: -1.14\n",
      "Iter: 6100\tLoss: -1.14\n",
      "Iter: 6200\tLoss: -1.15\n",
      "Iter: 6300\tLoss: -1.15\n",
      "Iter: 6400\tLoss: -1.12\n",
      "Iter: 6500\tLoss: -1.17\n",
      "Iter: 6600\tLoss: -1.17\n",
      "Iter: 6700\tLoss: -1.17\n",
      "Iter: 6800\tLoss: -1.16\n",
      "Iter: 6900\tLoss: -1.18\n",
      "Iter: 7000\tLoss: -1.18\n",
      "Iter: 7100\tLoss: -1.13\n",
      "Iter: 7200\tLoss: -1.18\n",
      "Iter: 7300\tLoss: -1.19\n",
      "Iter: 7400\tLoss: -1.19\n",
      "Iter: 7500\tLoss: -1.18\n",
      "Iter: 7600\tLoss: -1.18\n",
      "Iter: 7700\tLoss: -1.19\n",
      "Iter: 7800\tLoss: -1.19\n",
      "Iter: 7900\tLoss: -1.19\n",
      "Iter: 8000\tLoss: -1.18\n",
      "Iter: 8100\tLoss: -1.20\n",
      "Iter: 8200\tLoss: -1.16\n",
      "Iter: 8300\tLoss: -1.20\n",
      "Iter: 8400\tLoss: -1.20\n",
      "Iter: 8500\tLoss: -1.18\n",
      "Iter: 8600\tLoss: -1.20\n",
      "Iter: 8700\tLoss: -1.20\n",
      "Iter: 8800\tLoss: -1.20\n",
      "Iter: 8900\tLoss: -1.20\n",
      "Iter: 9000\tLoss: -1.19\n",
      "Iter: 9100\tLoss: -1.20\n",
      "Iter: 9200\tLoss: -1.19\n",
      "Iter: 9300\tLoss: -1.18\n",
      "Iter: 9400\tLoss: -1.21\n",
      "Iter: 9500\tLoss: -1.21\n",
      "Iter: 9600\tLoss: -1.20\n",
      "Iter: 9700\tLoss: -1.21\n",
      "Iter: 9800\tLoss: -1.21\n",
      "Iter: 9900\tLoss: -1.21\n",
      "Iter: 10000\tLoss: -1.20\n",
      "Iter: 10100\tLoss: -1.21\n",
      "Iter: 10200\tLoss: -1.21\n",
      "Iter: 10300\tLoss: -1.21\n",
      "Iter: 10400\tLoss: -1.21\n",
      "Iter: 10500\tLoss: -1.21\n",
      "Iter: 10600\tLoss: -1.21\n",
      "Iter: 10700\tLoss: -1.21\n",
      "Iter: 10800\tLoss: -1.22\n",
      "Iter: 10900\tLoss: -1.21\n",
      "Iter: 11000\tLoss: -1.17\n",
      "Iter: 11100\tLoss: -1.22\n",
      "Iter: 11200\tLoss: -1.21\n",
      "Iter: 11300\tLoss: -1.21\n",
      "Iter: 11400\tLoss: -1.22\n",
      "Iter: 11500\tLoss: -1.22\n",
      "Iter: 11600\tLoss: -1.21\n",
      "Iter: 11700\tLoss: -1.22\n",
      "Iter: 11800\tLoss: -1.19\n",
      "Iter: 11900\tLoss: -1.22\n",
      "Iter: 12000\tLoss: -1.22\n",
      "Iter: 12100\tLoss: -1.22\n",
      "Iter: 12200\tLoss: -1.20\n",
      "Iter: 12300\tLoss: -1.21\n",
      "Iter: 12400\tLoss: -1.22\n",
      "Iter: 12500\tLoss: -1.22\n",
      "Iter: 12600\tLoss: -1.22\n",
      "Iter: 12700\tLoss: -1.20\n",
      "Iter: 12800\tLoss: -1.22\n",
      "Iter: 12900\tLoss: -1.21\n",
      "Iter: 13000\tLoss: -1.22\n",
      "Iter: 13100\tLoss: -1.22\n",
      "Iter: 13200\tLoss: -1.22\n",
      "Iter: 13300\tLoss: -1.21\n",
      "Iter: 13400\tLoss: -1.23\n",
      "Iter: 13500\tLoss: -1.21\n",
      "Iter: 13600\tLoss: -1.22\n",
      "Iter: 13700\tLoss: -1.23\n",
      "Iter: 13800\tLoss: -1.23\n",
      "Iter: 13900\tLoss: -1.22\n",
      "Iter: 14000\tLoss: -1.23\n",
      "Iter: 14100\tLoss: -1.22\n",
      "Iter: 14200\tLoss: -1.23\n",
      "Iter: 14300\tLoss: -1.23\n",
      "Iter: 14400\tLoss: -1.19\n",
      "Iter: 14500\tLoss: -1.23\n",
      "Iter: 14600\tLoss: -1.23\n",
      "Iter: 14700\tLoss: -1.23\n",
      "Iter: 14800\tLoss: -1.06\n",
      "Iter: 14900\tLoss: -1.23\n",
      "Iter: 15000\tLoss: -1.23\n",
      "Iter: 15100\tLoss: -1.23\n",
      "Iter: 15200\tLoss: -1.22\n",
      "Iter: 15300\tLoss: -1.23\n",
      "Iter: 15400\tLoss: -1.18\n",
      "Iter: 15500\tLoss: -1.23\n",
      "Iter: 15600\tLoss: -1.22\n",
      "Iter: 15700\tLoss: -1.22\n",
      "Iter: 15800\tLoss: -1.23\n",
      "Iter: 15900\tLoss: -1.22\n",
      "Iter: 16000\tLoss: -1.21\n",
      "Iter: 16100\tLoss: -1.23\n",
      "Iter: 16200\tLoss: -1.23\n",
      "Iter: 16300\tLoss: -1.23\n",
      "Iter: 16400\tLoss: -1.22\n",
      "Iter: 16500\tLoss: -1.23\n",
      "Iter: 16600\tLoss: -1.21\n",
      "Iter: 16700\tLoss: -1.10\n",
      "Iter: 16800\tLoss: -1.23\n",
      "Iter: 16900\tLoss: -1.23\n",
      "Iter: 17000\tLoss: -1.23\n",
      "Iter: 17100\tLoss: -1.23\n",
      "Iter: 17200\tLoss: -1.19\n",
      "Iter: 17300\tLoss: -1.23\n",
      "Iter: 17400\tLoss: -1.23\n",
      "Iter: 17500\tLoss: -1.23\n",
      "Iter: 17600\tLoss: -1.21\n",
      "Iter: 17700\tLoss: -1.23\n",
      "Iter: 17800\tLoss: -1.21\n",
      "Iter: 17900\tLoss: -1.22\n",
      "Iter: 18000\tLoss: -1.23\n",
      "Iter: 18100\tLoss: -1.23\n",
      "Iter: 18200\tLoss: -1.22\n",
      "Iter: 18300\tLoss: -1.23\n",
      "Iter: 18400\tLoss: -1.23\n",
      "Iter: 18500\tLoss: -1.22\n",
      "Iter: 18600\tLoss: -1.23\n",
      "Iter: 18700\tLoss: -1.23\n",
      "Iter: 18800\tLoss: -1.23\n",
      "Iter: 18900\tLoss: -1.23\n",
      "Iter: 19000\tLoss: -1.23\n",
      "Iter: 19100\tLoss: -1.23\n",
      "Iter: 19200\tLoss: -0.72\n",
      "Iter: 19300\tLoss: -1.23\n",
      "Iter: 19400\tLoss: -1.23\n",
      "Iter: 19500\tLoss: -1.23\n",
      "Iter: 19600\tLoss: -1.23\n",
      "Iter: 19700\tLoss: -1.23\n",
      "Iter: 19800\tLoss: -1.23\n",
      "Iter: 19900\tLoss: -1.24\n"
     ]
    }
   ],
   "source": [
    "for i in range(20000):\n",
    "    optimizer.zero_grad()\n",
    "    pi, sigma, mu = model(x)\n",
    "    loss = mdn_gnll_loss(pi, sigma, mu, y)\n",
    "    loss.backward()\n",
    "    optimizer.step()\n",
    "    if i % 100 == 0:\n",
    "        print(f\"Iter: {i}\\t\" + f\"Loss: {loss.data:.2f}\")"
   ]
  },
  {
   "cell_type": "code",
   "execution_count": 13,
   "id": "ea51fe58",
   "metadata": {},
   "outputs": [],
   "source": [
    "def plot_data(x, y):\n",
    "    plt.hist2d(x, y, bins=35)\n",
    "    plt.xlim(-8, 8)\n",
    "    plt.ylim(-1, 1)\n",
    "    plt.axis('off')"
   ]
  },
  {
   "cell_type": "code",
   "execution_count": 14,
   "id": "d40b4a71",
   "metadata": {},
   "outputs": [],
   "source": [
    "pi, sigma, mu = model(x)\n",
    "samples = mdn_distribution(pi, sigma, mu).sample()"
   ]
  },
  {
   "cell_type": "code",
   "execution_count": 15,
   "id": "cbcac535",
   "metadata": {},
   "outputs": [
    {
     "data": {
      "image/png": "[encoded data removed]",
      "text/plain": [
       "<Figure size 576x216 with 2 Axes>"
      ]
     },
     "metadata": {
      "needs_background": "light"
     },
     "output_type": "display_data"
    }
   ],
   "source": [
    "plt.figure(figsize=(8, 3))\n",
    "plt.subplot(1, 2, 1)\n",
    "plot_data(x[:,0].numpy(), y[:,0].numpy())\n",
    "plt.title(\"Observed data\")\n",
    "plt.subplot(1, 2, 2)\n",
    "plot_data(x[:,0].numpy(), samples[:,0].numpy())\n",
    "plt.title(\"Sampled data\")\n",
    "plt.show()"
   ]
  },
  {
   "cell_type": "code",
   "execution_count": null,
   "id": "616dce66",
   "metadata": {},
   "outputs": [],
   "source": []
  },
  {
   "cell_type": "code",
   "execution_count": null,
   "id": "5c59de91",
   "metadata": {},
   "outputs": [],
   "source": []
  }
 ],
 "metadata": {
  "kernelspec": {
   "display_name": "Python 3 (ipykernel)",
   "language": "python",
   "name": "python3"
  },
  "language_info": {
   "codemirror_mode": {
    "name": "ipython",
    "version": 3
   },
   "file_extension": ".py",
   "mimetype": "text/x-python",
   "name": "python",
   "nbconvert_exporter": "python",
   "pygments_lexer": "ipython3",
   "version": "3.9.6"
  }
 },
 "nbformat": 4,
 "nbformat_minor": 5
}
