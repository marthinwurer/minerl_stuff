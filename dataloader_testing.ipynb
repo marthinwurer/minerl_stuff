{
 "cells": [
  {
   "cell_type": "code",
   "execution_count": 1,
   "id": "c7fb6d95",
   "metadata": {},
   "outputs": [],
   "source": [
    "%matplotlib inline\n",
    "%load_ext autoreload\n",
    "%autoreload 2"
   ]
  },
  {
   "cell_type": "code",
   "execution_count": 2,
   "id": "a5fb64cd",
   "metadata": {},
   "outputs": [
    {
     "name": "stderr",
     "output_type": "stream",
     "text": [
      "/home/marthinwurer/.pyenv/versions/3.9.6/envs/minerl/lib/python3.9/site-packages/gym/logger.py:34: UserWarning: \u001b[33mWARN: Box bound precision lowered by casting to float32\u001b[0m\n",
      "  warnings.warn(colorize(\"%s: %s\" % (\"WARN\", msg % args), \"yellow\"))\n"
     ]
    }
   ],
   "source": [
    "import matplotlib.pyplot as plt\n",
    "import numpy as np\n",
    "import torch\n",
    "import minerl\n",
    "from tqdm import tqdm\n",
    "\n",
    "from torch import nn, optim\n",
    "import torch.nn.functional as F\n",
    "from torch.optim.lr_scheduler import ReduceLROnPlateau\n",
    "from utilities import flatten, unflatten, to_batch_shape, to_torch_channels"
   ]
  },
  {
   "cell_type": "code",
   "execution_count": 291,
   "id": "108e07b5",
   "metadata": {},
   "outputs": [],
   "source": [
    "import matplotlib\n",
    "matplotlib.rcParams['figure.figsize'] = [15, 10]"
   ]
  },
  {
   "cell_type": "code",
   "execution_count": 4,
   "id": "d07fa311",
   "metadata": {},
   "outputs": [],
   "source": [
    "import autoencoder\n",
    "from AdvancedAutoencoder import AdvancedAutoencoder"
   ]
  },
  {
   "cell_type": "code",
   "execution_count": 320,
   "id": "f1e0e9fd",
   "metadata": {},
   "outputs": [],
   "source": [
    "from networks import WMAutoencoder, WM_VAE"
   ]
  },
  {
   "cell_type": "code",
   "execution_count": 6,
   "id": "a9c593b8",
   "metadata": {},
   "outputs": [],
   "source": [
    "from torch.utils.data import Dataset\n",
    "from torchvision import datasets\n",
    "from torchvision.transforms import ToTensor\n",
    "from torch.utils.data import DataLoader"
   ]
  },
  {
   "cell_type": "code",
   "execution_count": 7,
   "id": "843dd228",
   "metadata": {},
   "outputs": [],
   "source": [
    "import h5py"
   ]
  },
  {
   "cell_type": "code",
   "execution_count": 10,
   "id": "28a61737",
   "metadata": {},
   "outputs": [],
   "source": [
    "# BATCH_SIZE = 512\n",
    "BATCH_SIZE = 256\n",
    "# BATCH_SIZE = 128\n",
    "# BATCH_SIZE = 64\n",
    "# BATCH_SIZE = 32\n",
    "# BATCH_SIZE = 8\n",
    "LEARNING_RATE = 0.0001\n",
    "EPOCHS = 30\n",
    "MOMENTUM = 0.9\n",
    "# IN_POWER = 8\n",
    "# IN_POWER = 6\n",
    "in_dim = 64"
   ]
  },
  {
   "cell_type": "code",
   "execution_count": 58,
   "id": "c08e2ce4",
   "metadata": {},
   "outputs": [],
   "source": [
    "class MineRlImageDataset(Dataset):\n",
    "    def __init__(self, path, transform=None):\n",
    "        self.path = path\n",
    "        self.transform = transform\n",
    "        self.loader = None\n",
    "        with h5py.File(self.path, 'r') as f:\n",
    "            self.size = len(f['pov'])\n",
    "        self.pov = None\n",
    "\n",
    "    def __len__(self):\n",
    "        return self.size\n",
    "\n",
    "    def __getitem__(self, idx):\n",
    "        if self.loader is None:\n",
    "            self.loader = h5py.File(self.path, 'r')\n",
    "            self.pov = self.loader['pov']\n",
    "        image = self.pov[idx]\n",
    "        if self.transform:\n",
    "            image = self.transform(image)\n",
    "        return image"
   ]
  },
  {
   "cell_type": "code",
   "execution_count": 59,
   "id": "26867add",
   "metadata": {},
   "outputs": [],
   "source": [
    "dataset = MineRlImageDataset(\"data/obtain_diamond.hdf5\")"
   ]
  },
  {
   "cell_type": "code",
   "execution_count": 60,
   "id": "bfc5f812",
   "metadata": {},
   "outputs": [],
   "source": [
    "train_dataloader = DataLoader(dataset, batch_size=BATCH_SIZE, shuffle=True)"
   ]
  },
  {
   "cell_type": "code",
   "execution_count": 61,
   "id": "a0889a98",
   "metadata": {},
   "outputs": [],
   "source": [
    "train_features = next(iter(train_dataloader))"
   ]
  },
  {
   "cell_type": "code",
   "execution_count": 62,
   "id": "73bb27b9",
   "metadata": {},
   "outputs": [
    {
     "data": {
      "text/plain": [
       "<matplotlib.image.AxesImage at 0x7f2f02649250>"
      ]
     },
     "execution_count": 62,
     "metadata": {},
     "output_type": "execute_result"
    },
    {
     "data": {
      "image/png": "[encoded data removed]",
      "text/plain": [
       "<Figure size 720x576 with 1 Axes>"
      ]
     },
     "metadata": {
      "needs_background": "light"
     },
     "output_type": "display_data"
    }
   ],
   "source": [
    "plt.imshow(train_features[9])"
   ]
  },
  {
   "cell_type": "code",
   "execution_count": 63,
   "id": "43589a28",
   "metadata": {},
   "outputs": [],
   "source": [
    "train_dataloader = DataLoader(dataset, batch_size=BATCH_SIZE, shuffle=True, num_workers=8)"
   ]
  },
  {
   "cell_type": "code",
   "execution_count": 64,
   "id": "7e64b0df",
   "metadata": {},
   "outputs": [],
   "source": [
    "train_features = next(iter(train_dataloader))"
   ]
  },
  {
   "cell_type": "code",
   "execution_count": 65,
   "id": "e999f8b1",
   "metadata": {
    "scrolled": false
   },
   "outputs": [
    {
     "data": {
      "text/plain": [
       "<matplotlib.image.AxesImage at 0x7f3140230970>"
      ]
     },
     "execution_count": 65,
     "metadata": {},
     "output_type": "execute_result"
    },
    {
     "data": {
      "image/png": "[encoded data removed]",
      "text/plain": [
       "<Figure size 720x576 with 1 Axes>"
      ]
     },
     "metadata": {
      "needs_background": "light"
     },
     "output_type": "display_data"
    }
   ],
   "source": [
    "plt.imshow(train_features[19])"
   ]
  },
  {
   "cell_type": "code",
   "execution_count": 176,
   "id": "26db856e",
   "metadata": {},
   "outputs": [],
   "source": [
    "from pytorch_msssim import ssim\n",
    "def vae_ssim_loss(inputs, outputs, latents):\n",
    "    z, mu, logvar = latents\n",
    "    recon = 1 - ssim(inputs, outputs, data_range=1, size_average=True, nonnegative_ssim=True, win_size=5)\n",
    "    kl = autoencoder.kld_loss(mu, logvar) * .0\n",
    "    return recon + kl, recon, kl"
   ]
  },
  {
   "cell_type": "code",
   "execution_count": 298,
   "id": "5e55d0b7",
   "metadata": {},
   "outputs": [],
   "source": [
    "def vae_mixed_ssim_loss(inputs, outputs, latents):\n",
    "    z, mu, logvar = latents\n",
    "    recon = 0.1 * (1 - ssim(inputs, outputs, data_range=1, size_average=True, nonnegative_ssim=True, win_size=5)) + F.l1_loss(inputs, outputs)\n",
    "    kl = autoencoder.kld_loss(mu, logvar) * .0\n",
    "    return recon + kl, recon, kl"
   ]
  },
  {
   "cell_type": "code",
   "execution_count": 337,
   "id": "da2d0f8d",
   "metadata": {},
   "outputs": [],
   "source": [
    "loss_func = vae_mixed_ssim_loss"
   ]
  },
  {
   "cell_type": "code",
   "execution_count": 370,
   "id": "a3bed422",
   "metadata": {},
   "outputs": [],
   "source": [
    "model = WM_VAE(256).cuda()"
   ]
  },
  {
   "cell_type": "code",
   "execution_count": 371,
   "id": "457749be",
   "metadata": {},
   "outputs": [],
   "source": [
    "optimizer = optim.Adam(model.parameters(), lr=LEARNING_RATE)"
   ]
  },
  {
   "cell_type": "code",
   "execution_count": 302,
   "id": "5f9d8e33",
   "metadata": {},
   "outputs": [],
   "source": [
    "def train_batch(inputs, model, optimizer, loss_func):\n",
    "    # get the inputs\n",
    "    inputs = inputs.cuda()\n",
    "\n",
    "    if torch.isnan(inputs).any():\n",
    "        print(\"There's a NaN input!\")\n",
    "        return None\n",
    "\n",
    "    # zero the parameter gradients\n",
    "    optimizer.zero_grad()\n",
    "\n",
    "    # forward + backward + optimize\n",
    "    outputs, latents = model(inputs)\n",
    "\n",
    "    if torch.isnan(outputs).any():\n",
    "        print(\"There's a NaN output!\")\n",
    "        return None\n",
    "    loss = loss_func(inputs, outputs, latents)\n",
    "    if isinstance(loss, tuple):\n",
    "        loss[0].backward()\n",
    "    else:\n",
    "        loss.backward()\n",
    "    \n",
    "#     plot_grad_flow(model.named_parameters())\n",
    "\n",
    "    nn.utils.clip_grad_norm_(model.parameters(), max_norm=1.0)\n",
    "    optimizer.step()\n",
    "    return loss"
   ]
  },
  {
   "cell_type": "code",
   "execution_count": 372,
   "id": "9d645628",
   "metadata": {},
   "outputs": [],
   "source": [
    "losses = []\n",
    "raw_losses = []\n",
    "recons = []\n",
    "kls = []"
   ]
  },
  {
   "cell_type": "code",
   "execution_count": 237,
   "id": "dd997e47",
   "metadata": {},
   "outputs": [],
   "source": [
    "from minerl.data import BufferedBatchIter"
   ]
  },
  {
   "cell_type": "code",
   "execution_count": 238,
   "id": "383a3592",
   "metadata": {},
   "outputs": [
    {
     "name": "stderr",
     "output_type": "stream",
     "text": [
      "Process ForkPoolWorker-409:\n",
      "Process ForkPoolWorker-410:\n",
      "Process ForkPoolWorker-412:\n",
      "Process ForkPoolWorker-411:\n",
      "Traceback (most recent call last):\n",
      "Traceback (most recent call last):\n",
      "Traceback (most recent call last):\n",
      "Traceback (most recent call last):\n",
      "  File \"/home/marthinwurer/.pyenv/versions/3.9.6/lib/python3.9/multiprocessing/process.py\", line 315, in _bootstrap\n",
      "    self.run()\n",
      "  File \"/home/marthinwurer/.pyenv/versions/3.9.6/lib/python3.9/multiprocessing/process.py\", line 315, in _bootstrap\n",
      "    self.run()\n",
      "  File \"/home/marthinwurer/.pyenv/versions/3.9.6/lib/python3.9/multiprocessing/process.py\", line 315, in _bootstrap\n",
      "    self.run()\n",
      "  File \"/home/marthinwurer/.pyenv/versions/3.9.6/lib/python3.9/multiprocessing/process.py\", line 315, in _bootstrap\n",
      "    self.run()\n",
      "  File \"/home/marthinwurer/.pyenv/versions/3.9.6/lib/python3.9/multiprocessing/process.py\", line 108, in run\n",
      "    self._target(*self._args, **self._kwargs)\n",
      "  File \"/home/marthinwurer/.pyenv/versions/3.9.6/lib/python3.9/multiprocessing/process.py\", line 108, in run\n",
      "    self._target(*self._args, **self._kwargs)\n",
      "  File \"/home/marthinwurer/.pyenv/versions/3.9.6/lib/python3.9/multiprocessing/process.py\", line 108, in run\n",
      "    self._target(*self._args, **self._kwargs)\n",
      "  File \"/home/marthinwurer/.pyenv/versions/3.9.6/lib/python3.9/multiprocessing/process.py\", line 108, in run\n",
      "    self._target(*self._args, **self._kwargs)\n",
      "  File \"/home/marthinwurer/.pyenv/versions/3.9.6/lib/python3.9/multiprocessing/pool.py\", line 114, in worker\n",
      "    task = get()\n",
      "  File \"/home/marthinwurer/.pyenv/versions/3.9.6/lib/python3.9/multiprocessing/pool.py\", line 114, in worker\n",
      "    task = get()\n",
      "  File \"/home/marthinwurer/.pyenv/versions/3.9.6/lib/python3.9/multiprocessing/queues.py\", line 365, in get\n",
      "    with self._rlock:\n",
      "  File \"/home/marthinwurer/.pyenv/versions/3.9.6/lib/python3.9/multiprocessing/pool.py\", line 114, in worker\n",
      "    task = get()\n",
      "  File \"/home/marthinwurer/.pyenv/versions/3.9.6/lib/python3.9/multiprocessing/queues.py\", line 365, in get\n",
      "    with self._rlock:\n",
      "  File \"/home/marthinwurer/.pyenv/versions/3.9.6/lib/python3.9/multiprocessing/synchronize.py\", line 95, in __enter__\n",
      "    return self._semlock.__enter__()\n",
      "  File \"/home/marthinwurer/.pyenv/versions/3.9.6/lib/python3.9/multiprocessing/synchronize.py\", line 95, in __enter__\n",
      "    return self._semlock.__enter__()\n",
      "  File \"/home/marthinwurer/.pyenv/versions/3.9.6/lib/python3.9/multiprocessing/pool.py\", line 114, in worker\n",
      "    task = get()\n",
      "KeyboardInterrupt\n",
      "  File \"/home/marthinwurer/.pyenv/versions/3.9.6/lib/python3.9/multiprocessing/queues.py\", line 366, in get\n",
      "    res = self._reader.recv_bytes()\n",
      "KeyboardInterrupt\n",
      "  File \"/home/marthinwurer/.pyenv/versions/3.9.6/lib/python3.9/multiprocessing/queues.py\", line 365, in get\n",
      "    with self._rlock:\n",
      "  File \"/home/marthinwurer/.pyenv/versions/3.9.6/lib/python3.9/multiprocessing/connection.py\", line 221, in recv_bytes\n",
      "    buf = self._recv_bytes(maxlength)\n",
      "  File \"/home/marthinwurer/.pyenv/versions/3.9.6/lib/python3.9/multiprocessing/synchronize.py\", line 95, in __enter__\n",
      "    return self._semlock.__enter__()\n",
      "KeyboardInterrupt\n",
      "  File \"/home/marthinwurer/.pyenv/versions/3.9.6/lib/python3.9/multiprocessing/connection.py\", line 419, in _recv_bytes\n",
      "    buf = self._recv(4)\n",
      "  File \"/home/marthinwurer/.pyenv/versions/3.9.6/lib/python3.9/multiprocessing/connection.py\", line 384, in _recv\n",
      "    chunk = read(handle, remaining)\n",
      "KeyboardInterrupt\n"
     ]
    }
   ],
   "source": [
    "data = minerl.data.make(\n",
    "    'MineRLObtainDiamond-v0', \"data\")\n",
    "bbi = BufferedBatchIter(data, buffer_target_size=60000)"
   ]
  },
  {
   "cell_type": "code",
   "execution_count": 239,
   "id": "93eb203e",
   "metadata": {},
   "outputs": [],
   "source": [
    "iterator = bbi.buffered_batch_iter(batch_size=1, num_epochs=1)"
   ]
  },
  {
   "cell_type": "code",
   "execution_count": 220,
   "id": "eb33c23e",
   "metadata": {},
   "outputs": [],
   "source": [
    "total = 0"
   ]
  },
  {
   "cell_type": "code",
   "execution_count": 114,
   "id": "895b468e",
   "metadata": {},
   "outputs": [],
   "source": [
    "class MineRlImageDataset(Dataset):\n",
    "    def __init__(self, transform=None):\n",
    "        initial_size = 12500504\n",
    "        self.transform = transform\n",
    "        self.pov = np.memmap('data/pov.npy', dtype='uint8', mode='r', shape=(initial_size, 64, 64, 3))\n",
    "\n",
    "\n",
    "    def __len__(self):\n",
    "        return self.pov.shape[0]\n",
    "\n",
    "    def __getitem__(self, idx):\n",
    "        image = self.pov[idx]\n",
    "        if self.transform:\n",
    "            image = self.transform(image)\n",
    "        return image"
   ]
  },
  {
   "cell_type": "code",
   "execution_count": 304,
   "id": "2a31dae2",
   "metadata": {},
   "outputs": [],
   "source": [
    "class MineRlImageDataset(Dataset):\n",
    "    def __init__(self, base_dir, transform=None):\n",
    "        initial_size = 1916597\n",
    "        self.transform = transform\n",
    "        self.pov = np.memmap(base_dir + '/pov.npy', dtype='uint8', mode='r', shape=(initial_size, 64, 64, 3))\n",
    "\n",
    "\n",
    "    def __len__(self):\n",
    "        return self.pov.shape[0]\n",
    "\n",
    "    def __getitem__(self, idx):\n",
    "        image = self.pov[idx]\n",
    "        if self.transform:\n",
    "            image = self.transform(image)\n",
    "        return image"
   ]
  },
  {
   "cell_type": "code",
   "execution_count": 241,
   "id": "7f4bd8a6",
   "metadata": {},
   "outputs": [],
   "source": [
    "dataset = MineRlImageDataset(\"data/npy_obtain_diamond\")"
   ]
  },
  {
   "cell_type": "code",
   "execution_count": 242,
   "id": "cb9c6743",
   "metadata": {},
   "outputs": [],
   "source": [
    "train_dataloader = DataLoader(dataset, batch_size=BATCH_SIZE, shuffle=True, num_workers=8)"
   ]
  },
  {
   "cell_type": "code",
   "execution_count": 243,
   "id": "99c846d2",
   "metadata": {},
   "outputs": [],
   "source": [
    "train_features = next(iter(train_dataloader))"
   ]
  },
  {
   "cell_type": "code",
   "execution_count": 244,
   "id": "8449d1dc",
   "metadata": {},
   "outputs": [
    {
     "data": {
      "text/plain": [
       "<matplotlib.image.AxesImage at 0x7f31d2f71af0>"
      ]
     },
     "execution_count": 244,
     "metadata": {},
     "output_type": "execute_result"
    },
    {
     "data": {
      "image/png": "[encoded data removed]",
      "text/plain": [
       "<Figure size 720x576 with 1 Axes>"
      ]
     },
     "metadata": {
      "needs_background": "light"
     },
     "output_type": "display_data"
    }
   ],
   "source": [
    "plt.imshow(train_features[10])"
   ]
  },
  {
   "cell_type": "code",
   "execution_count": 373,
   "id": "86b8e35d",
   "metadata": {},
   "outputs": [
    {
     "name": "stderr",
     "output_type": "stream",
     "text": [
      "7487batch [08:08, 15.33batch/s, [1,  7450] loss: 0.07170371]\n",
      "7487batch [08:09, 15.29batch/s, [2,  7450] loss: 0.06687324]\n",
      "7487batch [08:09, 15.29batch/s, [3,  7450] loss: 0.06347261]\n",
      "7487batch [08:09, 15.28batch/s, [4,  7450] loss: 0.06063854]\n",
      "7487batch [08:09, 15.28batch/s, [5,  7450] loss: 0.05834606]\n",
      "7487batch [08:10, 15.28batch/s, [6,  7450] loss: 0.05753264]\n",
      "7487batch [08:10, 15.28batch/s, [7,  7450] loss: 0.05589882]\n",
      "7487batch [08:10, 15.28batch/s, [8,  7450] loss: 0.05482856]\n",
      "7487batch [08:10, 15.27batch/s, [9,  7450] loss: 0.05377284]\n",
      "7487batch [08:10, 15.28batch/s, [10,  7450] loss: 0.05311385]\n"
     ]
    }
   ],
   "source": [
    "loss_steps = 50\n",
    "epochs = 10\n",
    "\n",
    "for epoch in range(epochs):\n",
    "    running_loss = 0\n",
    "    with tqdm(enumerate(train_dataloader, 0), unit=\"batch\") as t:\n",
    "        for i, data in t:\n",
    "            # get the inputs\n",
    "    #         current_state, action, reward, next_state, done = data\n",
    "            image = data.permute(0, 3, 1, 2).cuda() / 255\n",
    "\n",
    "    #         loss = train_batch(image, model, optimizer, autoencoder.spectral_loss)\n",
    "            full_loss = train_batch(image, model, optimizer, loss_func)\n",
    "\n",
    "            if isinstance(full_loss, tuple):\n",
    "                loss = full_loss[0].item()\n",
    "                raw_losses.append(loss)\n",
    "                recons.append(full_loss[1].item())\n",
    "                kls.append(full_loss[2].item())\n",
    "            else:\n",
    "                loss = full_loss.item()\n",
    "                raw_losses.append(loss)\n",
    "\n",
    "\n",
    "    #         if loss is None or torch.isnan(loss).any():\n",
    "    #             print(\"There's a NaN loss!\")\n",
    "    #             from IPython.core.debugger import Pdb; Pdb().set_trace()\n",
    "    #             break\n",
    "\n",
    "\n",
    "\n",
    "            # print statistics\n",
    "            running_loss += loss\n",
    "            if i % loss_steps == loss_steps - 1:  # print every N mini-batches\n",
    "                string = '[%d, %5d] loss: %.8f' % (epoch + 1, i + 1, running_loss / loss_steps)\n",
    "                t.set_postfix_str(string)\n",
    "                losses.append(running_loss / loss_steps)\n",
    "    #             scheduler.step(running_loss)\n",
    "                running_loss = 0.0"
   ]
  },
  {
   "cell_type": "code",
   "execution_count": 362,
   "id": "15bd917a",
   "metadata": {},
   "outputs": [
    {
     "data": {
      "text/plain": [
       "<function __main__.vae_mixed_ssim_loss(inputs, outputs, latents)>"
      ]
     },
     "execution_count": 362,
     "metadata": {},
     "output_type": "execute_result"
    }
   ],
   "source": [
    "loss_func"
   ]
  },
  {
   "cell_type": "code",
   "execution_count": 363,
   "id": "4ef7421a",
   "metadata": {},
   "outputs": [
    {
     "data": {
      "text/plain": [
       "[<matplotlib.lines.Line2D at 0x7f313fd911f0>]"
      ]
     },
     "execution_count": 363,
     "metadata": {},
     "output_type": "execute_result"
    },
    {
     "data": {
      "image/png": "[encoded data removed]",
      "text/plain": [
       "<Figure size 1080x720 with 1 Axes>"
      ]
     },
     "metadata": {
      "needs_background": "light"
     },
     "output_type": "display_data"
    }
   ],
   "source": [
    "plt.plot(losses)"
   ]
  },
  {
   "cell_type": "code",
   "execution_count": 248,
   "id": "7ca4d2b2",
   "metadata": {},
   "outputs": [],
   "source": [
    "weird_image = image"
   ]
  },
  {
   "cell_type": "code",
   "execution_count": 374,
   "id": "0307003a",
   "metadata": {},
   "outputs": [],
   "source": [
    "image = train_features.permute(0, 3, 1, 2).cuda() / 255"
   ]
  },
  {
   "cell_type": "code",
   "execution_count": 381,
   "id": "4ddbf245",
   "metadata": {},
   "outputs": [],
   "source": [
    "outputs, latents = model(image)\n",
    "op = outputs.detach().cpu().numpy().transpose(0, 2, 3, 1)"
   ]
  },
  {
   "cell_type": "markdown",
   "id": "9574c923",
   "metadata": {},
   "source": [
    "8 is a good one, has water and lava"
   ]
  },
  {
   "cell_type": "code",
   "execution_count": 382,
   "id": "2ddb38b9",
   "metadata": {},
   "outputs": [
    {
     "data": {
      "text/plain": [
       "<matplotlib.image.AxesImage at 0x7f3140becb50>"
      ]
     },
     "execution_count": 382,
     "metadata": {},
     "output_type": "execute_result"
    },
    {
     "data": {
      "image/png": "[encoded data removed]",
      "text/plain": [
       "<Figure size 1080x720 with 2 Axes>"
      ]
     },
     "metadata": {
      "needs_background": "light"
     },
     "output_type": "display_data"
    }
   ],
   "source": [
    "idx = 8\n",
    "plt.subplot(1, 2, 1)\n",
    "plt.imshow(image[idx].cpu().numpy().transpose(1, 2, 0))\n",
    "plt.subplot(1, 2, 2)\n",
    "\n",
    "plt.imshow(op[idx])"
   ]
  },
  {
   "cell_type": "code",
   "execution_count": 383,
   "id": "e836d242",
   "metadata": {},
   "outputs": [
    {
     "data": {
      "text/plain": [
       "(256, 64, 64, 3)"
      ]
     },
     "execution_count": 383,
     "metadata": {},
     "output_type": "execute_result"
    }
   ],
   "source": [
    "op.shape"
   ]
  },
  {
   "cell_type": "code",
   "execution_count": 384,
   "id": "6b5094f3",
   "metadata": {},
   "outputs": [],
   "source": [
    "from delve import CheckLayerSat"
   ]
  },
  {
   "cell_type": "code",
   "execution_count": 385,
   "id": "e919e201",
   "metadata": {},
   "outputs": [
    {
     "name": "stdout",
     "output_type": "stream",
     "text": [
      "added layer encoder-0\n",
      "Skipping encoder-1\n",
      "added layer encoder-2\n",
      "Skipping encoder-3\n",
      "added layer encoder-4\n",
      "Skipping encoder-5\n",
      "added layer encoder-6\n",
      "Skipping encoder-7\n",
      "added layer latent-mu\n",
      "added layer latent-logvar\n",
      "added layer unlatent\n",
      "Skipping decoder-0\n",
      "Skipping decoder-1\n",
      "Skipping decoder-2\n",
      "Skipping decoder-3\n",
      "Skipping decoder-4\n",
      "Skipping decoder-5\n",
      "Skipping decoder-6\n",
      "Skipping decoder-7\n"
     ]
    }
   ],
   "source": [
    "tracker = CheckLayerSat(\"my_experiment\", save_to=\"plotcsv\", modules=model, device=image.device)    "
   ]
  },
  {
   "cell_type": "code",
   "execution_count": 386,
   "id": "93101a06",
   "metadata": {},
   "outputs": [
    {
     "name": "stdout",
     "output_type": "stream",
     "text": [
      "my_experiment_lsat_train_epoch_0.png\n"
     ]
    },
    {
     "data": {
      "image/png": "[encoded data removed]",
      "text/plain": [
       "<Figure size 1080x720 with 1 Axes>"
      ]
     },
     "metadata": {
      "needs_background": "light"
     },
     "output_type": "display_data"
    }
   ],
   "source": [
    "loss = train_batch(image, model, optimizer, loss_func)\n",
    "tracker.add_saturations()"
   ]
  },
  {
   "cell_type": "code",
   "execution_count": 389,
   "id": "7a82ab39",
   "metadata": {},
   "outputs": [
    {
     "data": {
      "text/plain": [
       "Linear(in_features=256, out_features=1024, bias=True)"
      ]
     },
     "execution_count": 389,
     "metadata": {},
     "output_type": "execute_result"
    }
   ],
   "source": [
    "model.unlatent"
   ]
  },
  {
   "cell_type": "code",
   "execution_count": null,
   "id": "9ff7b508",
   "metadata": {},
   "outputs": [],
   "source": []
  }
 ],
 "metadata": {
  "kernelspec": {
   "display_name": "Python 3 (ipykernel)",
   "language": "python",
   "name": "python3"
  },
  "language_info": {
   "codemirror_mode": {
    "name": "ipython",
    "version": 3
   },
   "file_extension": ".py",
   "mimetype": "text/x-python",
   "name": "python",
   "nbconvert_exporter": "python",
   "pygments_lexer": "ipython3",
   "version": "3.9.6"
  }
 },
 "nbformat": 4,
 "nbformat_minor": 5
}
