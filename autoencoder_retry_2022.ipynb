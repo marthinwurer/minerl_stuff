{
 "cells": [
  {
   "cell_type": "code",
   "execution_count": 1,
   "id": "961e9dcc",
   "metadata": {},
   "outputs": [],
   "source": [
    "%matplotlib inline\n",
    "%load_ext autoreload\n",
    "%autoreload 2"
   ]
  },
  {
   "cell_type": "code",
   "execution_count": 2,
   "id": "47c808ab",
   "metadata": {},
   "outputs": [
    {
     "name": "stderr",
     "output_type": "stream",
     "text": [
      "/home/marthinwurer/.pyenv/versions/3.9.6/envs/minerl/lib/python3.9/site-packages/gym/logger.py:34: UserWarning: \u001b[33mWARN: Box bound precision lowered by casting to float32\u001b[0m\n",
      "  warnings.warn(colorize(\"%s: %s\" % (\"WARN\", msg % args), \"yellow\"))\n"
     ]
    }
   ],
   "source": [
    "import matplotlib.pyplot as plt\n",
    "import numpy as np\n",
    "import torch\n",
    "import minerl\n",
    "from tqdm import tqdm\n",
    "\n",
    "from torch import nn, optim\n",
    "import torch.nn.functional as F\n",
    "from torch.optim.lr_scheduler import ReduceLROnPlateau\n",
    "from utilities import flatten, unflatten, to_batch_shape, to_torch_channels\n",
    "from collections import defaultdict\n",
    "import coordconv\n",
    "\n",
    "from networks import ConvNeXtBlock, SimpleLayerNorm\n",
    "from spectralpool import SpectralPool2d\n",
    "import collections\n",
    "from autoencoder import VAELatent\n",
    "\n",
    "import shapes_dataset\n",
    "from dataset_preprocessing import MineRlSequenceDataset, MineRlImageDataset\n",
    "from torch.utils.data import Dataset\n",
    "from torchvision import datasets\n",
    "from torchvision.transforms import ToTensor\n",
    "from torch.utils.data import DataLoader\n",
    "\n",
    "import AdvancedAutoencoder\n",
    "import autoencoder\n",
    "from ZerO import init_ZerO\n",
    "from networks import SkippableLayerNorm\n",
    "from lion_pytorch import Lion"
   ]
  },
  {
   "cell_type": "code",
   "execution_count": 3,
   "id": "946e74d5",
   "metadata": {},
   "outputs": [],
   "source": [
    "import matplotlib\n",
    "matplotlib.rcParams['figure.figsize'] = [10, 8]"
   ]
  },
  {
   "cell_type": "code",
   "execution_count": 4,
   "id": "7f08f856",
   "metadata": {},
   "outputs": [],
   "source": [
    "# BATCH_SIZE = 512\n",
    "BATCH_SIZE = 256\n",
    "# BATCH_SIZE = 128\n",
    "# BATCH_SIZE = 64\n",
    "# BATCH_SIZE = 32\n",
    "# BATCH_SIZE = 8\n",
    "LEARNING_RATE = 0.0001\n",
    "in_dim = 64"
   ]
  },
  {
   "cell_type": "code",
   "execution_count": 5,
   "id": "44b8a877",
   "metadata": {},
   "outputs": [],
   "source": [
    "# shapes = shapes_dataset.build_shape_dataset(64, 64, 1000000)"
   ]
  },
  {
   "cell_type": "code",
   "execution_count": 6,
   "id": "e068b994",
   "metadata": {},
   "outputs": [],
   "source": [
    "# plt.imshow(shapes[8])"
   ]
  },
  {
   "cell_type": "code",
   "execution_count": 7,
   "id": "9c8b659d",
   "metadata": {},
   "outputs": [],
   "source": [
    "# sd = shapes_dataset.ShapeDataset(shapes)"
   ]
  },
  {
   "cell_type": "code",
   "execution_count": 8,
   "id": "66071851",
   "metadata": {},
   "outputs": [],
   "source": [
    "# train_dataloader = DataLoader(sd, batch_size=BATCH_SIZE, shuffle=True)"
   ]
  },
  {
   "cell_type": "code",
   "execution_count": 9,
   "id": "174a3025",
   "metadata": {},
   "outputs": [],
   "source": [
    "dataset = MineRlImageDataset(\"data/npy_obtain_diamond_all\")\n",
    "train_dataloader = DataLoader(dataset, batch_size=BATCH_SIZE, shuffle=True, num_workers=4, pin_memory=True)"
   ]
  },
  {
   "cell_type": "code",
   "execution_count": 10,
   "id": "c97dd113",
   "metadata": {},
   "outputs": [],
   "source": [
    "class CrafterImageDataset(Dataset):\n",
    "    def __init__(self, base_dir, transform=None):\n",
    "        initial_size = 1000000\n",
    "        self.transform = transform\n",
    "        self.pov = np.memmap(base_dir + '/pov.npy', dtype='uint8', mode='r', shape=(initial_size, 64, 64, 3))\n",
    "\n",
    "    def __len__(self):\n",
    "        return self.pov.shape[0]\n",
    "\n",
    "    def __getitem__(self, idx):\n",
    "        image = self.pov[idx]\n",
    "        if self.transform:\n",
    "            image = self.transform(image)\n",
    "        return image\n",
    "\n",
    "dataset = CrafterImageDataset(\"./data/crafter\")\n",
    "train_dataloader = DataLoader(dataset, batch_size=BATCH_SIZE, shuffle=True, num_workers=4, pin_memory=True)"
   ]
  },
  {
   "cell_type": "code",
   "execution_count": 11,
   "id": "7c6e4ab5",
   "metadata": {},
   "outputs": [],
   "source": [
    "from matplotlib.lines import Line2D\n",
    "def plot_grad_flow(named_parameters):\n",
    "    '''Plots the gradients flowing through different layers in the net during training.\n",
    "    Can be used for checking for possible gradient vanishing / exploding problems.\n",
    "    \n",
    "    Usage: Plug this function in Trainer class after loss.backwards() as \n",
    "    \"plot_grad_flow(self.model.named_parameters())\" to visualize the gradient flow'''\n",
    "    ave_grads = []\n",
    "    max_grads= []\n",
    "    layers = []\n",
    "    for n, p in named_parameters:\n",
    "        if(p.requires_grad) and (\"bias\" not in n):\n",
    "            layers.append(n)\n",
    "            ave_grads.append(p.grad.abs().mean().cpu())\n",
    "            max_grads.append(p.grad.abs().max().cpu())\n",
    "    plt.bar(np.arange(len(max_grads)), max_grads, alpha=0.1, lw=1, color=\"c\")\n",
    "    plt.bar(np.arange(len(max_grads)), ave_grads, alpha=0.1, lw=1, color=\"b\")\n",
    "    plt.hlines(0, 0, len(ave_grads)+1, lw=2, color=\"k\" )\n",
    "    plt.xticks(range(0,len(ave_grads), 1), layers, rotation=\"vertical\")\n",
    "    plt.xlim(left=0, right=len(ave_grads))\n",
    "#     plt.ylim(bottom = -0.001, top=0.02) # zoom in on the lower gradient regions\n",
    "    plt.xlabel(\"Layers\")\n",
    "    plt.ylabel(\"average gradient\")\n",
    "    plt.title(\"Gradient flow\")\n",
    "    plt.grid(True)\n",
    "    plt.legend([Line2D([0], [0], color=\"c\", lw=4),\n",
    "                Line2D([0], [0], color=\"b\", lw=4),\n",
    "                Line2D([0], [0], color=\"k\", lw=4)], ['max-gradient', 'mean-gradient', 'zero-gradient'])"
   ]
  },
  {
   "cell_type": "code",
   "execution_count": 12,
   "id": "60d76874",
   "metadata": {},
   "outputs": [],
   "source": [
    "def calc_params(model):\n",
    "    model_parameters = filter(lambda p: p.requires_grad, model.parameters())\n",
    "    params = sum([np.prod(p.size()) for p in model_parameters])\n",
    "    return params"
   ]
  },
  {
   "cell_type": "code",
   "execution_count": 13,
   "id": "956da65f",
   "metadata": {},
   "outputs": [],
   "source": [
    "def train_batch(inputs, model, optimizer, loss_func, scaler):\n",
    "    # get the inputs\n",
    "    inputs = inputs.cuda()\n",
    "\n",
    "    if torch.isnan(inputs).any():\n",
    "        print(\"There's a NaN input!\")\n",
    "        return None\n",
    "\n",
    "    # zero the parameter gradients\n",
    "    optimizer.zero_grad(set_to_none=True)\n",
    "    \n",
    "    with torch.cuda.amp.autocast():\n",
    "        # forward + backward + optimize\n",
    "        outputs, latents = model(inputs)\n",
    "\n",
    "        if torch.isnan(outputs).any():\n",
    "            print(\"There's a NaN output!\")\n",
    "            return None\n",
    "        loss = loss_func(inputs, outputs, latents)\n",
    "    if isinstance(loss, tuple):\n",
    "        scaler.scale(loss[0]).backward()\n",
    "    else:\n",
    "        scaler.scale(loss).backward()\n",
    "    \n",
    "#     plot_grad_flow(model.named_parameters())\n",
    "    scaler.unscale_(optimizer)\n",
    "    nn.utils.clip_grad_norm_(model.parameters(), max_norm=1.0)\n",
    "    scaler.step(optimizer)\n",
    "    scaler.update()\n",
    "\n",
    "    return loss"
   ]
  },
  {
   "cell_type": "code",
   "execution_count": 14,
   "id": "fb49305c",
   "metadata": {},
   "outputs": [],
   "source": [
    "class MNLayer(nn.Module):\n",
    "    # Does not actually work that well: needs more space for the intermediate layer outputs for backprop\n",
    "    def __init__(self, in_channels, out_channels, kernel_size, padding=0, stride=1, activation=nn.ReLU, norm=nn.LazyBatchNorm2d):\n",
    "        super().__init__()\n",
    "        self.layer = nn.Sequential(\n",
    "            nn.Conv2d(in_channels, in_channels, kernel_size, groups=in_channels, padding=padding, stride=stride),\n",
    "            activation(),\n",
    "            norm(),\n",
    "            nn.Conv2d(in_channels, out_channels, 1),\n",
    "            activation(),\n",
    "            norm(),\n",
    "        )\n",
    "    \n",
    "    def forward(self, input):\n",
    "        return self.layer(input)"
   ]
  },
  {
   "cell_type": "code",
   "execution_count": 15,
   "id": "557a3491",
   "metadata": {},
   "outputs": [],
   "source": [
    "class ConvLayer(nn.Module):\n",
    "    def __init__(self, in_channels, out_channels, kernel_size, padding=0, stride=1, activation=nn.ReLU, norm=nn.LazyBatchNorm2d):\n",
    "        super().__init__()\n",
    "        self.layer = nn.Sequential(\n",
    "            nn.Conv2d(in_channels, out_channels, kernel_size, padding=padding, stride=stride),\n",
    "            activation(),\n",
    "            norm(),\n",
    "        )\n",
    "    \n",
    "    def forward(self, input):\n",
    "        return self.layer(input)"
   ]
  },
  {
   "cell_type": "code",
   "execution_count": 16,
   "id": "03c0fcb7",
   "metadata": {},
   "outputs": [],
   "source": [
    "class DeConvLayer(nn.Module):\n",
    "    def __init__(self, in_channels, out_channels, kernel_size, padding=0, stride=1,\n",
    "                 activation=nn.ReLU, norm=nn.LazyBatchNorm2d, deconv=nn.ConvTranspose2d):\n",
    "        super().__init__()\n",
    "        self.layer = nn.Sequential(\n",
    "            activation(),\n",
    "            norm(),\n",
    "            deconv(in_channels, out_channels, kernel_size, padding=padding, stride=stride),\n",
    "        )\n",
    "    \n",
    "    def forward(self, input):\n",
    "        return self.layer(input)"
   ]
  },
  {
   "cell_type": "code",
   "execution_count": 17,
   "id": "fc8fca49",
   "metadata": {},
   "outputs": [
    {
     "data": {
      "text/plain": [
       "6553856"
      ]
     },
     "execution_count": 17,
     "metadata": {},
     "output_type": "execute_result"
    }
   ],
   "source": [
    "calc_params(nn.Conv2d(1024, 256, 5, padding=4))"
   ]
  },
  {
   "cell_type": "code",
   "execution_count": 18,
   "id": "24e64e4d",
   "metadata": {},
   "outputs": [
    {
     "data": {
      "text/plain": [
       "289024"
      ]
     },
     "execution_count": 18,
     "metadata": {},
     "output_type": "execute_result"
    }
   ],
   "source": [
    "calc_params(MNLayer(1024, 256, 5, padding=4))"
   ]
  },
  {
   "cell_type": "code",
   "execution_count": 19,
   "id": "6eec8f96",
   "metadata": {},
   "outputs": [],
   "source": [
    "class AELatent(nn.Module):\n",
    "    def __init__(self, latent_size, input_size, norm=nn.LazyBatchNorm1d):\n",
    "        super().__init__()\n",
    "        self.mu = nn.Linear(input_size, latent_size)\n",
    "    \n",
    "    def forward(self, x):\n",
    "        x = torch.flatten(x, 1)\n",
    "        mu = self.mu(x)\n",
    "        return mu"
   ]
  },
  {
   "cell_type": "code",
   "execution_count": 20,
   "id": "88f45068",
   "metadata": {},
   "outputs": [],
   "source": [
    "class CategoricalLatent(nn.Module):\n",
    "    def __init__(self, input_size, categoricals, classes):\n",
    "        super().__init__()\n",
    "        self.mu = nn.Linear(input_size, categoricals * classes)\n",
    "        self.classes = classes\n",
    "    \n",
    "    def forward(self, input):\n",
    "        x = input\n",
    "        x = torch.flatten(x, 1)\n",
    "        # starts as torch.Size([256, 1024]), (batch, values)\n",
    "        # reshape into groups\n",
    "        initial_shape = x.shape\n",
    "        x = F.softplus(self.mu(x))\n",
    "        reshaped = x.reshape(-1, self.classes)\n",
    "        softmaxed = F.softmax(reshaped, dim=1)\n",
    "        drawn = F.one_hot(softmaxed.argmax(1), self.classes)\n",
    "        through = drawn + softmaxed - softmaxed.detach()\n",
    "        z = through.reshape(initial_shape)\n",
    "        \n",
    "        \n",
    "        return z"
   ]
  },
  {
   "cell_type": "code",
   "execution_count": 21,
   "id": "90575497",
   "metadata": {},
   "outputs": [],
   "source": [
    "class WM_Encoder(nn.Module):\n",
    "    def __init__(self,\n",
    "                 activation=nn.ReLU,\n",
    "                 conv_layer=ConvLayer,\n",
    "                 norm=nn.LazyBatchNorm2d,\n",
    "                ):\n",
    "        super().__init__()\n",
    "        \n",
    "        \n",
    "        self.encoder = nn.Sequential(\n",
    "            conv_layer(3, 32, 4, stride=2, activation=activation, norm=norm),\n",
    "            conv_layer(32, 64, 4, stride=2, activation=activation, norm=norm),\n",
    "            conv_layer(64, 128, 4, stride=2, activation=activation, norm=norm),\n",
    "            conv_layer(128, 256, 4, stride=2, activation=activation, norm=norm),\n",
    "        )\n",
    "\n",
    "    def forward(self, x):\n",
    "        return self.encoder(x)"
   ]
  },
  {
   "cell_type": "code",
   "execution_count": 22,
   "id": "ec572ee0",
   "metadata": {},
   "outputs": [],
   "source": [
    "class WM_Decoder(nn.Module):\n",
    "    def __init__(self,\n",
    "                 activation=nn.ReLU,\n",
    "                 deconv_layer=DeConvLayer,\n",
    "                 norm=nn.LazyBatchNorm2d,\n",
    "                ):\n",
    "        super().__init__()\n",
    "        \n",
    "        self.decoder = nn.Sequential(\n",
    "            deconv_layer(1024, 128, 5, stride=2, activation=activation, norm=norm),\n",
    "            deconv_layer(128, 64, 5, stride=2, activation=activation, norm=norm),\n",
    "            deconv_layer(64, 32, 6, stride=2, activation=activation, norm=norm),\n",
    "            deconv_layer(32, 3, 6, stride=2, activation=activation, norm=norm),\n",
    "            nn.Sigmoid(),\n",
    "        )\n",
    "\n",
    "    def forward(self, x):\n",
    "        return self.decoder(x)"
   ]
  },
  {
   "cell_type": "code",
   "execution_count": 23,
   "id": "46763c5c",
   "metadata": {},
   "outputs": [],
   "source": [
    "class WM_AE(nn.Module):\n",
    "    def __init__(self,\n",
    "                 latent_size=128,\n",
    "                 activation=nn.ReLU,\n",
    "                 conv=nn.Conv2d,\n",
    "                 norm=nn.LazyBatchNorm2d,\n",
    "                 deconv=nn.ConvTranspose2d,\n",
    "                ):\n",
    "        super().__init__()\n",
    "\n",
    "        self.encoder = nn.Sequential(\n",
    "            conv(3, 32, 4, stride=2),\n",
    "            activation(),\n",
    "            norm(),\n",
    "            conv(32, 64, 4, stride=2),\n",
    "            activation(),\n",
    "            norm(),\n",
    "            conv(64, 128, 4, stride=2),\n",
    "            activation(),\n",
    "            norm(),\n",
    "            conv(128, 256, 4, stride=2),\n",
    "            activation(),\n",
    "            norm(),\n",
    "        )\n",
    "        \n",
    "        self.latent = AELatent(256, 1024, norm=norm)\n",
    "#         self.latent = VAELatent(128, 1024)\n",
    "        self.unlatent = nn.Linear(256, 1024)\n",
    "#         self.latent = CategoricalLatent(1024, 32, 32)\n",
    "        \n",
    "        self.decoder = nn.Sequential(\n",
    "            norm(),\n",
    "            nn.ConvTranspose2d(1024, 128, 5, stride=2),\n",
    "            activation(),\n",
    "            norm(),\n",
    "            deconv(128, 64, 5, stride=2),\n",
    "            activation(),\n",
    "            norm(),\n",
    "            deconv(64, 32, 6, stride=2),\n",
    "            activation(),\n",
    "            norm(),\n",
    "            deconv(32, 3, 6, stride=2),\n",
    "            nn.Sigmoid(),\n",
    "        )\n",
    "    \n",
    "    def forward(self, input):\n",
    "        encoded = self.encoder(input)\n",
    "        latent = self.latent(encoded)\n",
    "        x = latent\n",
    "        if isinstance(latent, tuple):\n",
    "            x = latent[0]\n",
    "            \n",
    "        x = self.unlatent(x)\n",
    "#         x = latent\n",
    "#         print(x.shape)\n",
    "        x = unflatten(x)\n",
    "#         print(x.shape)\n",
    "        decoded = self.decoder(x)\n",
    "#         print(decoded.shape)\n",
    "        return decoded, latent"
   ]
  },
  {
   "cell_type": "code",
   "execution_count": 24,
   "id": "b511f0b6",
   "metadata": {},
   "outputs": [],
   "source": [
    "class TransposeDecoder(nn.Module):\n",
    "    def __init__(self):\n",
    "        super().__init__()\n",
    "        activation = nn.ReLU\n",
    "        deconv = nn.ConvTranspose2d\n",
    "\n",
    "        self.decoder = nn.Sequential(\n",
    "            nn.LazyBatchNorm2d(),\n",
    "            nn.ConvTranspose2d(1024, 128, 5, stride=2),\n",
    "            activation(),\n",
    "            nn.LazyBatchNorm2d(),\n",
    "            deconv(128, 64, 5, stride=2),\n",
    "            activation(),\n",
    "            nn.LazyBatchNorm2d(),\n",
    "            deconv(64, 32, 6, stride=2),\n",
    "            activation(),\n",
    "            nn.LazyBatchNorm2d(),\n",
    "            deconv(32, 3, 6, stride=2),\n",
    "            nn.Sigmoid(),\n",
    "        )\n",
    "    \n",
    "    def forward(self, x):\n",
    "        decoded = self.decoder(x)\n",
    "        return decoded"
   ]
  },
  {
   "cell_type": "code",
   "execution_count": 25,
   "id": "5bb8e656",
   "metadata": {},
   "outputs": [],
   "source": [
    "class ConvNeXtBlock(nn.Module):\n",
    "    def __init__(self, channels, kernel_size=7, padding=3, stride=1, expansion=4, activation=nn.GELU, norm=SimpleLayerNorm):\n",
    "        super().__init__()\n",
    "        self.layer = nn.Sequential(\n",
    "            collections.OrderedDict(\n",
    "                [\n",
    "                (\"dwconv\", nn.Conv2d(channels, channels, kernel_size, groups=channels, padding=padding, stride=stride)),\n",
    "                (\"norm\", norm()),\n",
    "                (\"expand\", nn.Conv2d(channels, channels * expansion, 1)),\n",
    "                (\"act\", activation()),\n",
    "                (\"contract\", nn.Conv2d(channels * expansion, channels, 1)),\n",
    "                ]\n",
    "            )\n",
    "        )\n",
    "    \n",
    "    def forward(self, x):\n",
    "        x = x + self.layer(x)\n",
    "        return x"
   ]
  },
  {
   "cell_type": "code",
   "execution_count": 26,
   "id": "b7943a05",
   "metadata": {},
   "outputs": [],
   "source": [
    "class ConvNeXtDownsample(nn.Module):\n",
    "    \"\"\" https://arxiv.org/pdf/2201.03545.pdf \"\"\"\n",
    "    def __init__(self, channels, expansion=2):\n",
    "        super().__init__()\n",
    "        self.down = nn.Conv2d(channels, channels * expansion, 2, stride=2)\n",
    "        self.norm = SimpleLayerNorm()\n",
    "    \n",
    "    def forward(self, x):\n",
    "        x = self.down(x)\n",
    "        x = self.norm(x)\n",
    "        return x"
   ]
  },
  {
   "cell_type": "code",
   "execution_count": 27,
   "id": "1fdcdbd7",
   "metadata": {},
   "outputs": [],
   "source": [
    "class ConvNeXtEncoder(nn.Module):\n",
    "    \"\"\" https://arxiv.org/pdf/2201.03545.pdf \"\"\"\n",
    "    def __init__(self, initial_size=64, min_size=4, initial_width=32, blocks=2):\n",
    "        super().__init__()\n",
    "        \n",
    "        self.min_size = 4\n",
    "        layers = []\n",
    "        \n",
    "        # start by adding the from_rgb layer\n",
    "        layers.append(nn.Conv2d(3, initial_width, 1))\n",
    "        layers.append(nn.GELU())\n",
    "        \n",
    "        stages = int(np.log2(initial_size) - np.log2(min_size)) + 1\n",
    "        print(stages)\n",
    "        width = initial_width\n",
    "        for stage in range(stages):\n",
    "            if stage != 0:\n",
    "                layers.append(ConvNeXtDownsample(width))\n",
    "                width *= 2\n",
    "\n",
    "            for block in range(blocks):\n",
    "                layers.append(ConvNeXtBlock(width, 3, 1, expansion=2))\n",
    "        \n",
    "        self.output_size = min_size * min_size * width\n",
    "        self.encoder = nn.Sequential(*layers)\n",
    "\n",
    "    def forward(self, x):\n",
    "        return self.encoder(x)"
   ]
  },
  {
   "cell_type": "code",
   "execution_count": 28,
   "id": "0251dc0e",
   "metadata": {},
   "outputs": [],
   "source": [
    "class ConvNeXtDecoder(nn.Module):\n",
    "    def __init__(self):\n",
    "        super().__init__()\n",
    "\n",
    "        self.decoder = nn.Sequential(\n",
    "            ConvNeXtBlock(256, kernel_size=3, padding=1),\n",
    "            nn.ConvTranspose2d(256, 256, 2, stride=2),\n",
    "            SimpleLayerNorm(),\n",
    "            ConvNeXtBlock(256, kernel_size=5, padding=2),\n",
    "            nn.ConvTranspose2d(256, 128, 2, stride=2),\n",
    "            SimpleLayerNorm(),\n",
    "            ConvNeXtBlock(128),\n",
    "            nn.ConvTranspose2d(128, 64, 2, stride=2),\n",
    "            SimpleLayerNorm(),\n",
    "            ConvNeXtBlock(64),\n",
    "            \n",
    "            nn.ConvTranspose2d(64, 3, 4, stride=4), # inverse stem\n",
    "            nn.Sigmoid(),\n",
    "        )\n",
    "    \n",
    "    def forward(self, x):\n",
    "        # we get x as (b, 1024), so reshape it to (b, 256, 2, 2)\n",
    "        x = x.reshape((-1, 256, 2, 2))\n",
    "        decoded = self.decoder(x)\n",
    "        return decoded"
   ]
  },
  {
   "cell_type": "code",
   "execution_count": 29,
   "id": "2fc3270e",
   "metadata": {},
   "outputs": [],
   "source": [
    "class My_AE(nn.Module):\n",
    "    def __init__(self,\n",
    "                 latent_size=128,\n",
    "                 activation=nn.ReLU,\n",
    "                 conv=coordconv.CoordConv2d,\n",
    "                 norm=nn.LazyBatchNorm2d,\n",
    "                 deconv=nn.ConvTranspose2d,\n",
    "                ):\n",
    "        super().__init__()\n",
    "\n",
    "#         self.encoder = nn.Sequential(\n",
    "#             conv(3, 32, 4, stride=2),\n",
    "#             activation(),\n",
    "#             norm(),\n",
    "#             conv(32, 64, 4, stride=2),\n",
    "#             activation(),\n",
    "#             norm(),\n",
    "#             conv(64, 128, 4, stride=2),\n",
    "#             activation(),\n",
    "#             norm(),\n",
    "#             conv(128, 256, 4, stride=2),\n",
    "#             activation(),\n",
    "#             norm(),\n",
    "#         )\n",
    "        self.encoder = ConvNeXtEncoder()\n",
    "        \n",
    "        \n",
    "        self.latent = AELatent(256, self.encoder.output_size)\n",
    "        \n",
    "        self.unlatent = nn.Linear(256, 1024)\n",
    "        \n",
    "        # starts as 1x1x1024\n",
    "        self.decoder = ConvNeXtDecoder()\n",
    "    \n",
    "    def forward(self, input):\n",
    "        encoded = self.encoder(input)\n",
    "        latent = self.latent(encoded)\n",
    "        x = self.unlatent(latent)\n",
    "#         print(x.shape)\n",
    "        x = unflatten(x)\n",
    "#         print(x.shape)\n",
    "        decoded = self.decoder(x)\n",
    "#         print(decoded.shape)\n",
    "        return decoded, latent"
   ]
  },
  {
   "cell_type": "code",
   "execution_count": 30,
   "id": "13342107",
   "metadata": {},
   "outputs": [],
   "source": [
    "def ae_loss(inputs, outputs, latents):\n",
    "    recon = F.mse_loss(inputs, outputs)\n",
    "    return recon"
   ]
  },
  {
   "cell_type": "code",
   "execution_count": 31,
   "id": "0f1e0d69",
   "metadata": {},
   "outputs": [],
   "source": [
    "def rae_loss(inputs, outputs, latents):\n",
    "#     print(inputs.shape, outputs.shape)\n",
    "    recon = F.mse_loss(inputs, outputs)\n",
    "    l2 = torch.linalg.vector_norm(latents) * 1e-6\n",
    "    return recon + l2, recon, l2"
   ]
  },
  {
   "cell_type": "code",
   "execution_count": 32,
   "id": "4c7b62af",
   "metadata": {},
   "outputs": [],
   "source": [
    "from autoencoder import kld_loss\n",
    "\n",
    "class KLWarmup:\n",
    "    def __init__(self, start, final, step):\n",
    "        self.current = start\n",
    "        self.final = final\n",
    "        self._step = step\n",
    "    \n",
    "    def step(self):\n",
    "        self.current += self._step\n",
    "        self.current = min(self.current, self.final)\n",
    "    \n",
    "    def __call__(self, inputs, outputs, latents):\n",
    "        z, mu, logvar = latents\n",
    "        recon = F.mse_loss(inputs, outputs)\n",
    "        # Free bits loss from DreamerV3\n",
    "        kl = torch.maximum(torch.tensor([1.0]).to(z.device), kld_loss(mu, logvar) * self.current) - 1\n",
    "        return recon + kl, recon, kl"
   ]
  },
  {
   "cell_type": "code",
   "execution_count": 93,
   "id": "ae083361",
   "metadata": {},
   "outputs": [],
   "source": [
    "# model = My_AE(activation=nn.SiLU, norm=SkippableLayerNorm,\n",
    "#               conv=coordconv.CoordConvTranspose2d, deconv=coordconv.CoordConvTranspose2d)\n",
    "model = WM_AE(activation=nn.SiLU, norm=SkippableLayerNorm)\n",
    "# model = AdvancedAutoencoder.AdvancedAutoencoder().cuda()\n",
    "model.apply(init_ZerO)\n",
    "model.cuda()\n",
    "None"
   ]
  },
  {
   "cell_type": "code",
   "execution_count": 94,
   "id": "04006230",
   "metadata": {},
   "outputs": [],
   "source": [
    "with torch.no_grad():\n",
    "    model.latent.mu.weight[:,:] = 0"
   ]
  },
  {
   "cell_type": "code",
   "execution_count": 95,
   "id": "18329826",
   "metadata": {},
   "outputs": [
    {
     "data": {
      "text/plain": [
       "4774723"
      ]
     },
     "execution_count": 95,
     "metadata": {},
     "output_type": "execute_result"
    }
   ],
   "source": [
    "calc_params(model)"
   ]
  },
  {
   "cell_type": "code",
   "execution_count": 96,
   "id": "6034d045",
   "metadata": {},
   "outputs": [],
   "source": [
    "optimizer = optim.AdamW(model.parameters(), lr=0.0001, weight_decay=0.00025)\n",
    "# optimizer = Lion(model.parameters())"
   ]
  },
  {
   "cell_type": "code",
   "execution_count": 97,
   "id": "b99c8a98",
   "metadata": {},
   "outputs": [],
   "source": [
    "def lr_schedule(step):\n",
    "    \"\"\"\n",
    "    Schedule the learning rate each training step.\n",
    "    \n",
    "    Start with a warmup over one epoch, then stay constant\n",
    "    \n",
    "    output is multiplied by the initial learning rate to find the final lr\n",
    "    \"\"\"\n",
    "    EPOCH_SIZE = 500\n",
    "    e = 0.00000001\n",
    "    if step < EPOCH_SIZE:\n",
    "        # linear ramp from e to LR\n",
    "        return 1 - ((1 - e) * ((EPOCH_SIZE - step) / EPOCH_SIZE))\n",
    "    return 1\n",
    "\n",
    "def no_schedule(step):\n",
    "    return 1.0"
   ]
  },
  {
   "cell_type": "code",
   "execution_count": 98,
   "id": "0adb62ba",
   "metadata": {},
   "outputs": [
    {
     "data": {
      "text/plain": [
       "[1.0000000050247593e-12]"
      ]
     },
     "execution_count": 98,
     "metadata": {},
     "output_type": "execute_result"
    }
   ],
   "source": [
    "lr_scheduler = torch.optim.lr_scheduler.LambdaLR(optimizer, lr_schedule)\n",
    "lr_scheduler.get_last_lr()"
   ]
  },
  {
   "cell_type": "code",
   "execution_count": 99,
   "id": "f6a0873f",
   "metadata": {},
   "outputs": [],
   "source": [
    "from autoencoder import ssim_loss, vae_free_bits_loss"
   ]
  },
  {
   "cell_type": "code",
   "execution_count": 100,
   "id": "4c476ee8",
   "metadata": {},
   "outputs": [],
   "source": [
    "# loss_func = ae_loss\n",
    "# loss_func = ssim_loss\n",
    "# loss_func = vae_free_bits_loss\n",
    "# loss_func = KLWarmup(0, 1, 0.002)\n",
    "loss_func = rae_loss"
   ]
  },
  {
   "cell_type": "code",
   "execution_count": 101,
   "id": "c07d014d",
   "metadata": {},
   "outputs": [],
   "source": [
    "STATS = defaultdict(list)"
   ]
  },
  {
   "cell_type": "code",
   "execution_count": 102,
   "id": "96cf291a",
   "metadata": {},
   "outputs": [],
   "source": [
    "from torch.cuda.amp import GradScaler\n",
    "scaler = GradScaler()"
   ]
  },
  {
   "cell_type": "code",
   "execution_count": 103,
   "id": "f4aea28e",
   "metadata": {
    "scrolled": false
   },
   "outputs": [
    {
     "name": "stderr",
     "output_type": "stream",
     "text": [
      "3907batch [01:11, 54.70batch/s, [1,  3900] loss: 0.00132647 lr=[0.0001]]               \n",
      "3907batch [01:12, 54.12batch/s, [2,  3900] loss: 0.00084523 lr=[0.0001]]\n",
      "3907batch [01:12, 54.05batch/s, [3,  3900] loss: 0.00064247 lr=[0.0001]]\n",
      "3907batch [01:12, 53.75batch/s, [4,  3900] loss: 0.00054907 lr=[0.0001]]\n",
      "3907batch [01:12, 53.69batch/s, [5,  3900] loss: 0.00049201 lr=[0.0001]]\n",
      "3907batch [01:12, 53.55batch/s, [6,  3900] loss: 0.00043180 lr=[0.0001]]\n",
      "3907batch [01:12, 53.58batch/s, [7,  3900] loss: 0.00040150 lr=[0.0001]]\n",
      "3907batch [01:13, 53.31batch/s, [8,  3900] loss: 0.00039632 lr=[0.0001]]\n",
      "3907batch [01:13, 52.97batch/s, [9,  3900] loss: 0.00036805 lr=[0.0001]]\n",
      "3907batch [01:13, 53.07batch/s, [10,  3900] loss: 0.00035385 lr=[0.0001]]\n"
     ]
    }
   ],
   "source": [
    "loss_steps = 50\n",
    "epochs = 10\n",
    "model.train()\n",
    "\n",
    "for epoch in range(epochs):\n",
    "    with tqdm(enumerate(train_dataloader, 0), unit=\"batch\") as t:\n",
    "        running_loss = 0\n",
    "        for i, data in t:\n",
    "            # get the inputs\n",
    "    #         current_state, action, reward, next_state, done = data\n",
    "            image = data.permute((0, 3, 1, 2)).cuda() / 255\n",
    "#             print(image.shape)\n",
    "#             break\n",
    "\n",
    "    #         loss = train_batch(image, model, optimizer, autoencoder.spectral_loss)\n",
    "            full_loss = train_batch(image, model, optimizer, loss_func, scaler)\n",
    "\n",
    "            if isinstance(full_loss, tuple):\n",
    "                loss = full_loss[0].item()\n",
    "                STATS['raw_losses'].append(loss)\n",
    "                STATS['recons'].append(full_loss[1].item())\n",
    "                STATS['kls'].append(full_loss[2].item())\n",
    "            else:\n",
    "                loss = full_loss.item()\n",
    "                STATS['raw_losses'].append(loss)\n",
    "            \n",
    "            lr_scheduler.step()\n",
    "            if hasattr(loss_func, \"step\"):\n",
    "                loss_func.step()\n",
    "\n",
    "            # print statistics\n",
    "            running_loss += loss\n",
    "            if i % loss_steps == loss_steps - 1:  # print every N mini-batches\n",
    "                string = '[%d, %5d] loss: %.8f lr=%s' % (\n",
    "                    epoch + 1, i + 1, running_loss / loss_steps, lr_scheduler.get_last_lr()\n",
    "                )\n",
    "                t.set_postfix_str(string)\n",
    "                STATS['losses'].append(running_loss / loss_steps)\n",
    "    #             scheduler.step(running_loss)\n",
    "                running_loss = 0.0"
   ]
  },
  {
   "cell_type": "code",
   "execution_count": 104,
   "id": "05b8d7de",
   "metadata": {},
   "outputs": [
    {
     "data": {
      "text/plain": [
       "0.0003527749078348279"
      ]
     },
     "execution_count": 104,
     "metadata": {},
     "output_type": "execute_result"
    }
   ],
   "source": [
    "sum(STATS[\"raw_losses\"][-500:])/500"
   ]
  },
  {
   "cell_type": "code",
   "execution_count": 105,
   "id": "cd7b3a37",
   "metadata": {},
   "outputs": [
    {
     "data": {
      "text/plain": [
       "0.00035635191705659963"
      ]
     },
     "execution_count": 105,
     "metadata": {},
     "output_type": "execute_result"
    }
   ],
   "source": [
    "from statistics import mean\n",
    "mean(STATS[\"raw_losses\"][-1000:])"
   ]
  },
  {
   "cell_type": "code",
   "execution_count": 106,
   "id": "40a57e3e",
   "metadata": {},
   "outputs": [
    {
     "data": {
      "text/plain": [
       "39070"
      ]
     },
     "execution_count": 106,
     "metadata": {},
     "output_type": "execute_result"
    }
   ],
   "source": [
    "lr_scheduler.last_epoch"
   ]
  },
  {
   "cell_type": "code",
   "execution_count": 77,
   "id": "5634838e",
   "metadata": {},
   "outputs": [
    {
     "data": {
      "text/plain": [
       "2.0000099800000505e-06"
      ]
     },
     "execution_count": 77,
     "metadata": {},
     "output_type": "execute_result"
    }
   ],
   "source": [
    "lr_schedule(1) * 0.001"
   ]
  },
  {
   "cell_type": "code",
   "execution_count": 78,
   "id": "09601563",
   "metadata": {},
   "outputs": [],
   "source": [
    "\"\"\"\n",
    "Notes on outcomes\n",
    "LR warmup to 0.001, WM_AE: 0.0014, 0.0015\n",
    "no warmup, 0.001, WM_AE: 0.0018\n",
    "warmup, wm_ae, ZerO: 0.00145\n",
    "5k warmup, wm_ae, ZerO: 0.00155, 0.0015\n",
    "500 warmup, RAE loss, wm_ae, layer norm, 1m epochs, silu: 0.0014, 5:00/epoch\n",
    "as above, one epoch with F.layernorm: 0.0028, 4:20\n",
    "as above, one epoch on minerl: 0.0023, 9:48\n",
    "as above, 0.0001 LR: 0.0020\n",
    "as above, 0.0001 LR, one epoch on shapes: 0.0042\n",
    "as above, init latent weights to zero: 0.0035, 0.0035, 0.0036\n",
    "as above, Lion optimizer: 0.0040, 0.0039, 0.0038, 0.0040\n",
    "as above, no warmup: 0.0044\n",
    "as above, back to warmup and adamw: 0.0043, 0.0043\n",
    "as above, latent init normally: 0.0046\n",
    "as above, latent back to zero: 0.0039\n",
    "as above, lion: 0.0039, 0.0040\n",
    "as above, adamw: 0.0043, 0.0043\n",
    "adamw, back to batch norm: 0.0045\n",
    "back to layer norm, turning off ZerO, still 0 latent init: 0.0042\n",
    "batch norm for the latent output: 0.0040\n",
    "back to layer norm, still 0 latent init: 0.0044\n",
    "remove norm from AE latent: 0.0039, 0.0040\n",
    "Turn off latent init: 0.0046, 0.0046\n",
    "regular init: 0.0043, 0.0044, 0.0044\n",
    "back to ZerO: 0.0046, 0.0045, 0.0045\n",
    "WM_AE, SiLU, LN, ZerO, latent init, AdamW: 0.0039, 0.0037, 0.0039\n",
    "As above, lion: 0.0037, 0.0039, 0.0038\n",
    "On minecraft: 0.00276, 0.00279, 0.00285, 0.00282\n",
    "AdamW: 0.00240, 0.00236, 0.00238\n",
    "\n",
    "Tests with mobilenet:\n",
    "base arch, minerl: 0.0024, 8:32\n",
    "mn encoder: 0.0031, 7:34. 0.0030, 7:35\n",
    "\n",
    "freezing:\n",
    "AdamW, ZerO, Coordconv, minerl, layernorm, SiLU, RAE loss: 0.0023\n",
    "no coordconv: 0.0024\n",
    "\n",
    "512 latent: 0.0020\n",
    "\"\"\"\n",
    "None"
   ]
  },
  {
   "cell_type": "code",
   "execution_count": 79,
   "id": "24c0bcd1",
   "metadata": {},
   "outputs": [],
   "source": [
    "from datetime import datetime\n",
    "now = datetime.now()\n",
    "now_str = now.strftime(\"%Y-%m-%d_%H_%M_%S\")"
   ]
  },
  {
   "cell_type": "code",
   "execution_count": 80,
   "id": "920fa023",
   "metadata": {},
   "outputs": [],
   "source": [
    "torch.save({\n",
    "            'epoch': epoch,\n",
    "            'model_state_dict': model.state_dict(),\n",
    "            'optimizer_state_dict': optimizer.state_dict(),\n",
    "            }, f\"./models/ae_checkpoint_{now_str}-{epoch}.mdl\")"
   ]
  },
  {
   "cell_type": "code",
   "execution_count": null,
   "id": "a5fd3b63",
   "metadata": {},
   "outputs": [],
   "source": []
  },
  {
   "cell_type": "code",
   "execution_count": 125,
   "id": "1e4f88ff",
   "metadata": {},
   "outputs": [
    {
     "data": {
      "text/plain": [
       "<matplotlib.image.AxesImage at 0x7fcf54707310>"
      ]
     },
     "execution_count": 125,
     "metadata": {},
     "output_type": "execute_result"
    },
    {
     "data": {
      "image/png": "[encoded data removed]",
      "text/plain": [
       "<Figure size 720x576 with 1 Axes>"
      ]
     },
     "metadata": {
      "needs_background": "light"
     },
     "output_type": "display_data"
    }
   ],
   "source": [
    "# recon_target = shapes[11]\n",
    "# 10000, 50000, 12000, 17000, 18000\n",
    "recon_target = dataset[13011]\n",
    "plt.imshow(recon_target)"
   ]
  },
  {
   "cell_type": "code",
   "execution_count": 126,
   "id": "e33b9f98",
   "metadata": {},
   "outputs": [
    {
     "data": {
      "text/plain": [
       "torch.Size([1, 3, 64, 64])"
      ]
     },
     "execution_count": 126,
     "metadata": {},
     "output_type": "execute_result"
    }
   ],
   "source": [
    "image = torch.from_numpy(to_batch_shape(recon_target).transpose(0, 3, 1, 2)).cuda() / 255\n",
    "image.shape"
   ]
  },
  {
   "cell_type": "code",
   "execution_count": 127,
   "id": "a5059389",
   "metadata": {},
   "outputs": [],
   "source": [
    "model.eval()\n",
    "outputs, latents = model(image)\n",
    "op = outputs.detach().cpu().numpy().transpose(0, 2, 3, 1)"
   ]
  },
  {
   "cell_type": "code",
   "execution_count": 128,
   "id": "a6004781",
   "metadata": {},
   "outputs": [
    {
     "data": {
      "text/plain": [
       "<matplotlib.image.AxesImage at 0x7fcf546f8850>"
      ]
     },
     "execution_count": 128,
     "metadata": {},
     "output_type": "execute_result"
    },
    {
     "data": {
      "image/png": "[encoded data removed]",
      "text/plain": [
       "<Figure size 720x576 with 2 Axes>"
      ]
     },
     "metadata": {
      "needs_background": "light"
     },
     "output_type": "display_data"
    }
   ],
   "source": [
    "plt.subplot(1, 2, 1)\n",
    "plt.imshow(recon_target)\n",
    "plt.subplot(1, 2, 2)\n",
    "\n",
    "plt.imshow(op[0])"
   ]
  },
  {
   "cell_type": "code",
   "execution_count": 129,
   "id": "b0c8e0fd",
   "metadata": {},
   "outputs": [
    {
     "data": {
      "text/plain": [
       "(torch.Size([1, 3, 64, 64]), (1, 64, 64, 3))"
      ]
     },
     "execution_count": 129,
     "metadata": {},
     "output_type": "execute_result"
    }
   ],
   "source": [
    "outputs.shape, op.shape"
   ]
  },
  {
   "cell_type": "code",
   "execution_count": 130,
   "id": "8fcad04a",
   "metadata": {},
   "outputs": [
    {
     "data": {
      "text/plain": [
       "(1, 64, 64, 3)"
      ]
     },
     "execution_count": 130,
     "metadata": {},
     "output_type": "execute_result"
    }
   ],
   "source": [
    "to_batch_shape(recon_target).shape"
   ]
  },
  {
   "cell_type": "code",
   "execution_count": 131,
   "id": "c1e61ec6",
   "metadata": {},
   "outputs": [
    {
     "data": {
      "text/plain": [
       "torch.Size([1, 3, 64, 64])"
      ]
     },
     "execution_count": 131,
     "metadata": {},
     "output_type": "execute_result"
    }
   ],
   "source": [
    "image = torch.from_numpy(to_batch_shape(recon_target)).permute((0, 3, 1, 2)).cuda() / 255\n",
    "image.shape"
   ]
  },
  {
   "cell_type": "code",
   "execution_count": 132,
   "id": "dd2c7789",
   "metadata": {},
   "outputs": [
    {
     "data": {
      "text/plain": [
       "<matplotlib.image.AxesImage at 0x7fcf545c9250>"
      ]
     },
     "execution_count": 132,
     "metadata": {},
     "output_type": "execute_result"
    },
    {
     "data": {
      "image/png": "[encoded data removed]",
      "text/plain": [
       "<Figure size 720x576 with 1 Axes>"
      ]
     },
     "metadata": {
      "needs_background": "light"
     },
     "output_type": "display_data"
    }
   ],
   "source": [
    "plt.imshow(image.cpu().numpy().transpose(0, 2, 3, 1)[0])"
   ]
  },
  {
   "cell_type": "code",
   "execution_count": 133,
   "id": "f9d5fb43",
   "metadata": {},
   "outputs": [
    {
     "name": "stdout",
     "output_type": "stream",
     "text": [
      "added layer encoder-0\n",
      "Skipping encoder-1\n",
      "Skipping encoder-2\n",
      "added layer encoder-3\n",
      "Skipping encoder-4\n",
      "Skipping encoder-5\n",
      "added layer encoder-6\n",
      "Skipping encoder-7\n",
      "Skipping encoder-8\n",
      "added layer encoder-9\n",
      "Skipping encoder-10\n",
      "Skipping encoder-11\n",
      "added layer latent-mu\n",
      "added layer unlatent\n",
      "Skipping decoder-0\n",
      "Skipping decoder-1\n",
      "Skipping decoder-2\n",
      "Skipping decoder-3\n",
      "Skipping decoder-4\n",
      "Skipping decoder-5\n",
      "Skipping decoder-6\n",
      "Skipping decoder-7\n",
      "Skipping decoder-8\n",
      "Skipping decoder-9\n",
      "Skipping decoder-10\n",
      "Skipping decoder-11\n"
     ]
    }
   ],
   "source": [
    "from delve import CheckLayerSat\n",
    "tracker = CheckLayerSat(\"my_experiment\", save_to=\"plotcsv\", modules=model, device=image.device)"
   ]
  },
  {
   "cell_type": "code",
   "execution_count": 134,
   "id": "7265bde2",
   "metadata": {},
   "outputs": [
    {
     "name": "stdout",
     "output_type": "stream",
     "text": [
      "my_experiment_lsat_eval_epoch_0.png\n"
     ]
    },
    {
     "data": {
      "image/png": "[encoded data removed]",
      "text/plain": [
       "<Figure size 720x576 with 1 Axes>"
      ]
     },
     "metadata": {
      "needs_background": "light"
     },
     "output_type": "display_data"
    }
   ],
   "source": [
    "data = next(iter(train_dataloader))\n",
    "image = data.permute((0, 3, 1, 2)).cuda() / 255\n",
    "outputs, latents = model(image)\n",
    "tracker.add_saturations()"
   ]
  },
  {
   "cell_type": "code",
   "execution_count": null,
   "id": "7ba063be",
   "metadata": {},
   "outputs": [],
   "source": []
  },
  {
   "cell_type": "code",
   "execution_count": null,
   "id": "b2e511a2",
   "metadata": {},
   "outputs": [],
   "source": []
  },
  {
   "cell_type": "code",
   "execution_count": null,
   "id": "6fc57877",
   "metadata": {},
   "outputs": [],
   "source": []
  },
  {
   "cell_type": "code",
   "execution_count": null,
   "id": "21eba7a2",
   "metadata": {},
   "outputs": [],
   "source": []
  },
  {
   "cell_type": "code",
   "execution_count": null,
   "id": "482ae205",
   "metadata": {},
   "outputs": [],
   "source": []
  },
  {
   "cell_type": "code",
   "execution_count": null,
   "id": "82da5174",
   "metadata": {},
   "outputs": [],
   "source": []
  },
  {
   "cell_type": "code",
   "execution_count": null,
   "id": "89dbff57",
   "metadata": {},
   "outputs": [],
   "source": []
  },
  {
   "cell_type": "code",
   "execution_count": null,
   "id": "7b9919c0",
   "metadata": {},
   "outputs": [],
   "source": []
  },
  {
   "cell_type": "code",
   "execution_count": null,
   "id": "73d016fd",
   "metadata": {},
   "outputs": [],
   "source": []
  },
  {
   "cell_type": "code",
   "execution_count": null,
   "id": "8cba5191",
   "metadata": {},
   "outputs": [],
   "source": []
  }
 ],
 "metadata": {
  "kernelspec": {
   "display_name": "Python 3 (ipykernel)",
   "language": "python",
   "name": "python3"
  },
  "language_info": {
   "codemirror_mode": {
    "name": "ipython",
    "version": 3
   },
   "file_extension": ".py",
   "mimetype": "text/x-python",
   "name": "python",
   "nbconvert_exporter": "python",
   "pygments_lexer": "ipython3",
   "version": "3.9.6"
  }
 },
 "nbformat": 4,
 "nbformat_minor": 5
}
